{
 "cells": [
  {
   "cell_type": "markdown",
   "metadata": {
    "id": "b-kV5SOpNpeY"
   },
   "source": [
    "# 1. Import and Install Dependencies"
   ]
  },
  {
   "cell_type": "code",
   "execution_count": 1,
   "metadata": {
    "colab": {
     "base_uri": "https://localhost:8080/"
    },
    "id": "73nkX8MWQLe8",
    "outputId": "845df1da-0b3a-4f21-bf0e-98a41e18d2c0"
   },
   "outputs": [],
   "source": [
    "# from google.colab import drive\n",
    "# drive.mount('/content/drive',force_remount=True)"
   ]
  },
  {
   "cell_type": "code",
   "execution_count": 2,
   "metadata": {
    "colab": {
     "base_uri": "https://localhost:8080/"
    },
    "id": "X8Dj93wVNpea",
    "outputId": "648ab601-1f68-41cd-8690-9fb9b3fc1f1a"
   },
   "outputs": [],
   "source": [
    "#!pip install -q tensorflow==2.4.1 tensorflow-gpu==2.4.1 opencv-python mediapipe sklearn matplotlib"
   ]
  },
  {
   "cell_type": "code",
   "execution_count": 3,
   "metadata": {
    "colab": {
     "base_uri": "https://localhost:8080/"
    },
    "id": "7R4OkZbvQpex",
    "outputId": "c2a8da95-d616-4f71-ad4c-54f1a9523a4a"
   },
   "outputs": [],
   "source": [
    "# !wget https://md-datasets-cache-zipfiles-prod.s3.eu-west-1.amazonaws.com/kcmpdxky7p-1.zip"
   ]
  },
  {
   "cell_type": "code",
   "execution_count": 4,
   "metadata": {
    "id": "PC7hltDOQrTw"
   },
   "outputs": [],
   "source": [
    "# !unzip -q /content/kcmpdxky7p-1.zip"
   ]
  },
  {
   "cell_type": "code",
   "execution_count": 5,
   "metadata": {
    "colab": {
     "base_uri": "https://localhost:8080/"
    },
    "id": "7PvgZy-7Qtgh",
    "outputId": "a10f02b0-b6e0-4a1d-fd6e-a09ca74d2d11"
   },
   "outputs": [],
   "source": [
    "# !7z x /content/ISL_CSLRT_Corpus.zip"
   ]
  },
  {
   "cell_type": "code",
   "execution_count": 5,
   "metadata": {
    "id": "VE1prl83Npec"
   },
   "outputs": [],
   "source": [
    "import cv2\n",
    "import numpy as np\n",
    "import os\n",
    "from matplotlib import pyplot as plt\n",
    "import time\n",
    "import mediapipe as mp"
   ]
  },
  {
   "cell_type": "code",
   "execution_count": 6,
   "metadata": {
    "id": "eZe6Gu8mMfT-"
   },
   "outputs": [],
   "source": [
    "#!pip install opencv-python"
   ]
  },
  {
   "cell_type": "code",
   "execution_count": 7,
   "metadata": {},
   "outputs": [],
   "source": [
    "# !pip install mediapipe \n",
    "# !pip install sklearn \n",
    "# !pip install matplotlib"
   ]
  },
  {
   "cell_type": "markdown",
   "metadata": {
    "id": "ySJ7f6_MNped"
   },
   "source": [
    "# 2. Keypoints using MP Holistic"
   ]
  },
  {
   "cell_type": "code",
   "execution_count": 8,
   "metadata": {
    "id": "llQY600sNped"
   },
   "outputs": [],
   "source": [
    "mp_holistic = mp.solutions.holistic # Holistic model\n",
    "mp_drawing = mp.solutions.drawing_utils # Drawing utilities"
   ]
  },
  {
   "cell_type": "code",
   "execution_count": 9,
   "metadata": {
    "id": "v3jo69tQNped"
   },
   "outputs": [],
   "source": [
    "def mediapipe_detection(image, model):\n",
    "    image = cv2.cvtColor(image, cv2.COLOR_BGR2RGB) # COLOR CONVERSION BGR 2 RGB\n",
    "    image.flags.writeable = False                  # Image is no longer writeable\n",
    "    results = model.process(image)                 # Make prediction\n",
    "    image.flags.writeable = True                   # Image is now writeable \n",
    "    image = cv2.cvtColor(image, cv2.COLOR_RGB2BGR) # COLOR COVERSION RGB 2 BGR\n",
    "    return image, results"
   ]
  },
  {
   "cell_type": "code",
   "execution_count": 10,
   "metadata": {
    "id": "qdZrjc3_Npee"
   },
   "outputs": [],
   "source": [
    "def draw_landmarks(image, results):\n",
    "    mp_drawing.draw_landmarks(image, results.face_landmarks, mp_holistic.FACEMESH_TESSELATION) # Draw face connections\n",
    "    mp_drawing.draw_landmarks(image, results.pose_landmarks, mp_holistic.POSE_CONNECTIONS) # Draw pose connections\n",
    "    mp_drawing.draw_landmarks(image, results.left_hand_landmarks, mp_holistic.HAND_CONNECTIONS) # Draw left hand connections\n",
    "    mp_drawing.draw_landmarks(image, results.right_hand_landmarks, mp_holistic.HAND_CONNECTIONS) # Draw right hand connections"
   ]
  },
  {
   "cell_type": "code",
   "execution_count": 11,
   "metadata": {
    "id": "FvbWAmxUNpef"
   },
   "outputs": [],
   "source": [
    "def draw_styled_landmarks(image, results):\n",
    "    # Draw face connections\n",
    "    mp_drawing.draw_landmarks(image, results.face_landmarks, mp_holistic.FACEMESH_TESSELATION, \n",
    "                             mp_drawing.DrawingSpec(color=(80,110,10), thickness=1, circle_radius=1), \n",
    "                             mp_drawing.DrawingSpec(color=(80,256,121), thickness=1, circle_radius=1)\n",
    "                             ) \n",
    "    # Draw pose connections\n",
    "    mp_drawing.draw_landmarks(image, results.pose_landmarks, mp_holistic.POSE_CONNECTIONS,\n",
    "                             mp_drawing.DrawingSpec(color=(80,22,10), thickness=2, circle_radius=4), \n",
    "                             mp_drawing.DrawingSpec(color=(80,44,121), thickness=2, circle_radius=2)\n",
    "                             ) \n",
    "    # Draw left hand connections\n",
    "    mp_drawing.draw_landmarks(image, results.left_hand_landmarks, mp_holistic.HAND_CONNECTIONS, \n",
    "                             mp_drawing.DrawingSpec(color=(121,22,76), thickness=2, circle_radius=4), \n",
    "                             mp_drawing.DrawingSpec(color=(121,44,250), thickness=2, circle_radius=2)\n",
    "                             ) \n",
    "    # Draw right hand connections  \n",
    "    mp_drawing.draw_landmarks(image, results.right_hand_landmarks, mp_holistic.HAND_CONNECTIONS, \n",
    "                             mp_drawing.DrawingSpec(color=(245,117,66), thickness=2, circle_radius=4), \n",
    "                             mp_drawing.DrawingSpec(color=(245,66,230), thickness=2, circle_radius=2)\n",
    "                             ) "
   ]
  },
  {
   "cell_type": "code",
   "execution_count": 12,
   "metadata": {
    "id": "ZyXy6Txjq0Xl"
   },
   "outputs": [],
   "source": [
    "#%% (2) Model definition.\n",
    "import tensorflow.compat.v1 as tf\n",
    "\n",
    "class GRU:\n",
    "    \"\"\"Implementation of a Gated Recurrent Unit (GRU) as described in [1].\n",
    "    \n",
    "    [1] Chung, J., Gulcehre, C., Cho, K., & Bengio, Y. (2014). Empirical evaluation of gated recurrent neural networks on sequence modeling. arXiv preprint arXiv:1412.3555.\n",
    "    \n",
    "    Arguments\n",
    "    ---------\n",
    "    input_dimensions: int\n",
    "        The size of the input vectors (x_t).\n",
    "    hidden_size: int\n",
    "        The size of the hidden layer vectors (h_t).\n",
    "    dtype: obj\n",
    "        The datatype used for the variables and constants (optional).\n",
    "    \"\"\"\n",
    "    \n",
    "    def __init__(self, input_dimensions, hidden_size, dtype=tf.float32):\n",
    "        self.input_dimensions = input_dimensions\n",
    "        self.hidden_size = hidden_size\n",
    "        \n",
    "        # Weights for input vectors of shape (input_dimensions, hidden_size)\n",
    "        self.Wr = tf.Variable(tf.truncated_normal(dtype=dtype, shape=(self.input_dimensions, self.hidden_size), mean=0, stddev=0.01), name='Wr')\n",
    "        self.Wz = tf.Variable(tf.truncated_normal(dtype=dtype, shape=(self.input_dimensions, self.hidden_size), mean=0, stddev=0.01), name='Wz')\n",
    "        self.Wh = tf.Variable(tf.truncated_normal(dtype=dtype, shape=(self.input_dimensions, self.hidden_size), mean=0, stddev=0.01), name='Wh')\n",
    "        \n",
    "        # Weights for hidden vectors of shape (hidden_size, hidden_size)\n",
    "        self.Ur = tf.Variable(tf.truncated_normal(dtype=dtype, shape=(self.hidden_size, self.hidden_size), mean=0, stddev=0.01), name='Ur')\n",
    "        self.Uz = tf.Variable(tf.truncated_normal(dtype=dtype, shape=(self.hidden_size, self.hidden_size), mean=0, stddev=0.01), name='Uz')\n",
    "        self.Uh = tf.Variable(tf.truncated_normal(dtype=dtype, shape=(self.hidden_size, self.hidden_size), mean=0, stddev=0.01), name='Uh')\n",
    "        \n",
    "        # Biases for hidden vectors of shape (hidden_size,)\n",
    "        self.br = tf.Variable(tf.truncated_normal(dtype=dtype, shape=(self.hidden_size,), mean=0, stddev=0.01), name='br')\n",
    "        self.bz = tf.Variable(tf.truncated_normal(dtype=dtype, shape=(self.hidden_size,), mean=0, stddev=0.01), name='bz')\n",
    "        self.bh = tf.Variable(tf.truncated_normal(dtype=dtype, shape=(self.hidden_size,), mean=0, stddev=0.01), name='bh')\n",
    "        \n",
    "        # Define the input layer placeholder\n",
    "        self.input_layer = tf.placeholder(dtype=dtype, shape=(None, None, input_dimensions), name='input')\n",
    "        \n",
    "        # Put the time-dimension upfront for the scan operator\n",
    "        self.x_t = tf.transpose(self.input_layer, [1, 0, 2], name='x_t')\n",
    "        \n",
    "        # A little hack (to obtain the same shape as the input matrix) to define the initial hidden state h_0\n",
    "        self.h_0 = tf.matmul(self.x_t[0, :, :], tf.zeros(dtype=dtype, shape=(input_dimensions, hidden_size)), name='h_0')\n",
    "        \n",
    "        # Perform the scan operator\n",
    "        self.h_t_transposed = tf.scan(self.forward_pass, self.x_t, initializer=self.h_0, name='h_t_transposed')\n",
    "        \n",
    "        # Transpose the result back\n",
    "        self.h_t = tf.transpose(self.h_t_transposed, [1, 0, 2], name='h_t')\n",
    "\n",
    "    def forward_pass(self, h_tm1, x_t):\n",
    "        \"\"\"Perform a forward pass.\n",
    "        \n",
    "        Arguments\n",
    "        ---------\n",
    "        h_tm1: np.matrix\n",
    "            The hidden state at the previous timestep (h_{t-1}).\n",
    "        x_t: np.matrix\n",
    "            The input vector.\n",
    "        \"\"\"\n",
    "        # Definitions of z_t and r_t\n",
    "        \n",
    "        r_t = tf.sigmoid(tf.matmul(x_t, self.Wr) + tf.matmul(h_tm1, self.Ur) + self.br)\n",
    "        z_t = tf.sigmoid((tf.matmul(x_t, self.Wz) + tf.matmul(h_tm1, self.Uz))*r_t + self.bz)\n",
    "        \n",
    "        # Definition of h~_t\n",
    "        h_proposal = tf.nn.elu(tf.matmul(x_t, self.Wh) + tf.matmul(tf.multiply(r_t, h_tm1), self.Uh) + self.bh)\n",
    "        \n",
    "        # Compute the next hidden state\n",
    "        h_t = tf.multiply(1 - z_t, h_tm1) + tf.multiply(z_t, h_proposal)\n",
    "        \n",
    "        return h_t"
   ]
  },
  {
   "cell_type": "code",
   "execution_count": 13,
   "metadata": {
    "colab": {
     "base_uri": "https://localhost:8080/"
    },
    "id": "MyxzxYZAq9dW",
    "outputId": "3a450ab7-d4b2-4c4d-c1cc-b29b20a40398"
   },
   "outputs": [
    {
     "name": "stdout",
     "output_type": "stream",
     "text": [
      "Tensor(\"expected_output:0\", shape=(50, 13), dtype=float32) <tf.Variable 'Variable:0' shape=(960, 13) dtype=float32> <tf.Variable 'Variable_1:0' shape=(13,) dtype=float32> Tensor(\"Reshape:0\", shape=(50, 13), dtype=float32) Tensor(\"Mean:0\", shape=(), dtype=float32)\n"
     ]
    }
   ],
   "source": [
    "#%% (3) Initialize and train the model.\n",
    "import tensorflow.compat.v1 as tf\n",
    "tf.disable_eager_execution()\n",
    "session = tf.Session()\n",
    "\n",
    "# The input has 2 dimensions: dimension 0 is reserved for the first term and dimension 1 is reverved for the second term\n",
    "input_dimensions = 1662 #features\n",
    "classes=13\n",
    "batch_size =50\n",
    "hidden_size = 32\n",
    "time_size = 30 #window size\n",
    "lr = 1e-3\n",
    "epochs = 101\n",
    "# Initialize a session\n",
    "\n",
    "# Create a new instance of the GRU model\n",
    "gru = GRU(input_dimensions, hidden_size)\n",
    "\n",
    "# Add an additional layer on top of each of the hidden state outputs\n",
    "W_output = tf.Variable(tf.truncated_normal(dtype=tf.float32, shape=(hidden_size*time_size, classes), mean=0, stddev=0.05))\n",
    "b_output = tf.Variable(tf.truncated_normal(dtype=tf.float32, shape=(classes,), mean=0, stddev=0.05))\n",
    "output = tf.map_fn(lambda h_t: tf.nn.softsign(tf.matmul(tf.reshape(h_t,(1,hidden_size*time_size)), W_output) + b_output), gru.h_t)\n",
    "output = tf.reshape(output,((batch_size, classes)))\n",
    "# Create a placeholder for the expected output\n",
    "expected_output = tf.placeholder(dtype=tf.float32, shape=(batch_size, classes), name='expected_output')\n",
    "\n",
    "# Just use quadratic loss\n",
    "loss = tf.reduce_mean(tf.nn.softmax_cross_entropy_with_logits_v2(expected_output,output))\n",
    "print(expected_output,W_output,b_output,output,loss)\n",
    "accs = tf.reduce_mean(tf.metrics.accuracy(labels=tf.argmax(expected_output, axis=1), predictions=tf.argmax(output,axis=1))) \n",
    "# loss = tf.reduce_sum(0.5 * tf.pow(output - expected_output, 2)) / float(batch_size)\n",
    "\n",
    "# Use the Adam optimizer for training\n",
    "train_step = tf.train.AdamOptimizer(learning_rate=lr).minimize(loss)\n",
    "\n",
    "# Initialize all the variables\n",
    "init_variables = tf.global_variables_initializer()\n",
    "init_l = tf.local_variables_initializer()\n",
    "\n",
    "session.run(init_variables)\n",
    "session.run(init_l)\n"
   ]
  },
  {
   "cell_type": "code",
   "execution_count": 14,
   "metadata": {
    "colab": {
     "base_uri": "https://localhost:8080/"
    },
    "id": "dr1f2eZ-oRRq",
    "outputId": "23c57643-cb5a-4205-8670-108a2c2a771a"
   },
   "outputs": [
    {
     "name": "stdout",
     "output_type": "stream",
     "text": [
      "INFO:tensorflow:Restoring parameters from gru/gru-219\n"
     ]
    }
   ],
   "source": [
    "tf.compat.v1.disable_eager_execution()\n",
    "\n",
    "saver = tf.compat.v1.train.Saver()\n",
    "saved_path ='gru/gru-219' #saved model\n",
    "with tf.compat.v1.Session() as sess:\n",
    "    saver.restore(sess, saved_path)"
   ]
  },
  {
   "cell_type": "code",
   "execution_count": 15,
   "metadata": {
    "id": "WGiGA__3Npek"
   },
   "outputs": [],
   "source": [
    "def extract_keypoints(results):\n",
    "    pose = np.array([[res.x, res.y, res.z, res.visibility] for res in results.pose_landmarks.landmark]).flatten() if results.pose_landmarks else np.zeros(33*4)\n",
    "    face = np.array([[res.x, res.y, res.z] for res in results.face_landmarks.landmark]).flatten() if results.face_landmarks else np.zeros(468*3)\n",
    "    lh = np.array([[res.x, res.y, res.z] for res in results.left_hand_landmarks.landmark]).flatten() if results.left_hand_landmarks else np.zeros(21*3)\n",
    "    rh = np.array([[res.x, res.y, res.z] for res in results.right_hand_landmarks.landmark]).flatten() if results.right_hand_landmarks else np.zeros(21*3)\n",
    "    return np.concatenate([pose, face, lh, rh])"
   ]
  },
  {
   "cell_type": "code",
   "execution_count": 16,
   "metadata": {
    "colab": {
     "base_uri": "https://localhost:8080/",
     "height": 859
    },
    "id": "BPidy24gNpeg",
    "outputId": "88c088e3-c330-4201-cf57-405ddd9f5e1b",
    "scrolled": false
   },
   "outputs": [
    {
     "name": "stderr",
     "output_type": "stream",
     "text": [
      "C:\\Users\\Lab\\AppData\\Roaming\\Python\\Python38\\site-packages\\sklearn\\base.py:329: UserWarning: Trying to unpickle estimator LabelEncoder from version 1.0 when using version 0.23.1. This might lead to breaking code or invalid results. Use at your own risk.\n",
      "  warnings.warn(\n"
     ]
    }
   ],
   "source": [
    "import pickle \n",
    "import time\n",
    "#from google.colab.patches import cv2_imshow\n",
    "from IPython.display import clear_output\n",
    "\n",
    "le = pickle.load(open('labelencoder.pkl','rb')) #saved label encoder\n",
    "#cap = cv2.VideoCapture('/content/ISL_CSLRT_Corpus/Videos_Sentence_Level/thank you so much/thank you so much (1).MP4')\n",
    "cap = cv2.VideoCapture(0)\n",
    "\n",
    "# Set mediapipe model \n",
    "window=time_size #defined above\n",
    "\n",
    "with mp_holistic.Holistic(min_detection_confidence=0.5, min_tracking_confidence=0.5) as holistic:\n",
    "    count=0\n",
    "    frames=[]\n",
    "    while cap.isOpened():\n",
    "        count+=1\n",
    "        # Read feed\n",
    "        ret, frame = cap.read()\n",
    "\n",
    "        # Make detections\n",
    "        if ret==True:\n",
    "            start = time.time()\n",
    "            image, results = mediapipe_detection(frame, holistic)\n",
    "            print(results)\n",
    "            pose = []\n",
    "            for res in results.pose_landmarks.landmark:\n",
    "                test = np.array([res.x, res.y, res.z, res.visibility])\n",
    "                pose.append(test)\n",
    "            pose = np.array([[res.x, res.y, res.z, res.visibility] for res in results.pose_landmarks.landmark]).flatten() if results.pose_landmarks else np.zeros(132)\n",
    "            face = np.array([[res.x, res.y, res.z] for res in results.face_landmarks.landmark]).flatten() if results.face_landmarks else np.zeros(1404)\n",
    "            lh = np.array([[res.x, res.y, res.z] for res in results.left_hand_landmarks.landmark]).flatten() if results.left_hand_landmarks else np.zeros(21*3)\n",
    "            rh = np.array([[res.x, res.y, res.z] for res in results.right_hand_landmarks.landmark]).flatten() if results.right_hand_landmarks else np.zeros(21*3)\n",
    "            result_test = extract_keypoints(results)\n",
    "            frames.append(result_test)\n",
    "            if len(frames)>=window:\n",
    "                # Make a prediction by using the model\n",
    "                test_input = np.expand_dims(np.array(frames[-window:]),axis=0)\n",
    "                print(test_input.shape)\n",
    "                y_predicted = session.run(output, feed_dict={gru.input_layer: test_input})\n",
    "                y_predicted_confidence = np.max(y_predicted)\n",
    "                y_predicted = np.argmax(y_predicted,axis=-1)\n",
    "                action = le.inverse_transform(y_predicted)\n",
    "                print('\\nPredictions: \\n',y_predicted,\"\\nConfidence: \",y_predicted_confidence)\n",
    "                print(\"Inference Time: \",time.time()-start)\n",
    "                # Draw landmarks\n",
    "                draw_styled_landmarks(image, results)\n",
    "                cv2.putText(image, 'Frame Number {}'.format(count), (15,45), \n",
    "                            cv2.FONT_HERSHEY_SIMPLEX, 1.5, (255, 255, 255), 1, cv2.LINE_AA)\n",
    "                cv2.putText(image, 'Action: {} '.format(action), (image.shape[0]//2,45), \n",
    "                            cv2.FONT_HERSHEY_SIMPLEX, 1.5, (0, 0, 255), 1, cv2.LINE_AA)\n",
    "                clear_output(wait=True)\n",
    "\n",
    "                # Show to screen\n",
    "                cv2.imshow('frame',image)\n",
    "                time.sleep(0.01)\n",
    "                frames = frames[-(window-1):]\n",
    "            else:\n",
    "                continue\n",
    "        else: \n",
    "            break\n",
    "        # Break gracefully\n",
    "    cap.release()\n",
    "    cv2.destroyAllWindows()"
   ]
  },
  {
   "cell_type": "code",
   "execution_count": 17,
   "metadata": {},
   "outputs": [],
   "source": [
    "cap.release()\n",
    "cv2.destroyAllWindows()"
   ]
  },
  {
   "cell_type": "code",
   "execution_count": 18,
   "metadata": {
    "colab": {
     "base_uri": "https://localhost:8080/",
     "height": 163
    },
    "id": "LQUOWnxENpeh",
    "outputId": "bf2ff7aa-2755-415f-a737-ba6fe4d6e48b"
   },
   "outputs": [
    {
     "ename": "NameError",
     "evalue": "name 'frame' is not defined",
     "output_type": "error",
     "traceback": [
      "\u001b[1;31m---------------------------------------------------------------------------\u001b[0m",
      "\u001b[1;31mNameError\u001b[0m                                 Traceback (most recent call last)",
      "\u001b[1;32m~\\AppData\\Local\\Temp/ipykernel_39400/3583506971.py\u001b[0m in \u001b[0;36m<module>\u001b[1;34m\u001b[0m\n\u001b[1;32m----> 1\u001b[1;33m \u001b[0mdraw_landmarks\u001b[0m\u001b[1;33m(\u001b[0m\u001b[0mframe\u001b[0m\u001b[1;33m,\u001b[0m \u001b[0mresults\u001b[0m\u001b[1;33m)\u001b[0m\u001b[1;33m\u001b[0m\u001b[1;33m\u001b[0m\u001b[0m\n\u001b[0m",
      "\u001b[1;31mNameError\u001b[0m: name 'frame' is not defined"
     ]
    }
   ],
   "source": [
    "draw_landmarks(frame, results)"
   ]
  },
  {
   "cell_type": "code",
   "execution_count": null,
   "metadata": {
    "id": "ZtdH38DLNpei"
   },
   "outputs": [],
   "source": [
    "plt.imshow(cv2.cvtColor(frame, cv2.COLOR_BGR2RGB))\n"
   ]
  },
  {
   "cell_type": "markdown",
   "metadata": {
    "id": "tGyvarZsNpei"
   },
   "source": [
    "# 3. Extract Keypoint Values"
   ]
  },
  {
   "cell_type": "code",
   "execution_count": 19,
   "metadata": {
    "id": "OiyvzsWdNpei"
   },
   "outputs": [],
   "source": [
    "#len(results.left_hand_landmarks.landmark)"
   ]
  },
  {
   "cell_type": "code",
   "execution_count": 20,
   "metadata": {
    "id": "Whj7V2WNNpej"
   },
   "outputs": [
    {
     "ename": "NameError",
     "evalue": "name 'results' is not defined",
     "output_type": "error",
     "traceback": [
      "\u001b[1;31m---------------------------------------------------------------------------\u001b[0m",
      "\u001b[1;31mNameError\u001b[0m                                 Traceback (most recent call last)",
      "\u001b[1;32m~\\AppData\\Local\\Temp/ipykernel_39400/4216983140.py\u001b[0m in \u001b[0;36m<module>\u001b[1;34m\u001b[0m\n\u001b[0;32m      1\u001b[0m \u001b[0mpose\u001b[0m \u001b[1;33m=\u001b[0m \u001b[1;33m[\u001b[0m\u001b[1;33m]\u001b[0m\u001b[1;33m\u001b[0m\u001b[1;33m\u001b[0m\u001b[0m\n\u001b[1;32m----> 2\u001b[1;33m \u001b[1;32mfor\u001b[0m \u001b[0mres\u001b[0m \u001b[1;32min\u001b[0m \u001b[0mresults\u001b[0m\u001b[1;33m.\u001b[0m\u001b[0mpose_landmarks\u001b[0m\u001b[1;33m.\u001b[0m\u001b[0mlandmark\u001b[0m\u001b[1;33m:\u001b[0m\u001b[1;33m\u001b[0m\u001b[1;33m\u001b[0m\u001b[0m\n\u001b[0m\u001b[0;32m      3\u001b[0m     \u001b[0mtest\u001b[0m \u001b[1;33m=\u001b[0m \u001b[0mnp\u001b[0m\u001b[1;33m.\u001b[0m\u001b[0marray\u001b[0m\u001b[1;33m(\u001b[0m\u001b[1;33m[\u001b[0m\u001b[0mres\u001b[0m\u001b[1;33m.\u001b[0m\u001b[0mx\u001b[0m\u001b[1;33m,\u001b[0m \u001b[0mres\u001b[0m\u001b[1;33m.\u001b[0m\u001b[0my\u001b[0m\u001b[1;33m,\u001b[0m \u001b[0mres\u001b[0m\u001b[1;33m.\u001b[0m\u001b[0mz\u001b[0m\u001b[1;33m,\u001b[0m \u001b[0mres\u001b[0m\u001b[1;33m.\u001b[0m\u001b[0mvisibility\u001b[0m\u001b[1;33m]\u001b[0m\u001b[1;33m)\u001b[0m\u001b[1;33m\u001b[0m\u001b[1;33m\u001b[0m\u001b[0m\n\u001b[0;32m      4\u001b[0m     \u001b[0mpose\u001b[0m\u001b[1;33m.\u001b[0m\u001b[0mappend\u001b[0m\u001b[1;33m(\u001b[0m\u001b[0mtest\u001b[0m\u001b[1;33m)\u001b[0m\u001b[1;33m\u001b[0m\u001b[1;33m\u001b[0m\u001b[0m\n",
      "\u001b[1;31mNameError\u001b[0m: name 'results' is not defined"
     ]
    }
   ],
   "source": [
    "pose = []\n",
    "for res in results.pose_landmarks.landmark:\n",
    "    test = np.array([res.x, res.y, res.z, res.visibility])\n",
    "    pose.append(test)\n"
   ]
  },
  {
   "cell_type": "code",
   "execution_count": 21,
   "metadata": {
    "id": "JdsfgCKfNpej"
   },
   "outputs": [
    {
     "ename": "NameError",
     "evalue": "name 'results' is not defined",
     "output_type": "error",
     "traceback": [
      "\u001b[1;31m---------------------------------------------------------------------------\u001b[0m",
      "\u001b[1;31mNameError\u001b[0m                                 Traceback (most recent call last)",
      "\u001b[1;32m~\\AppData\\Local\\Temp/ipykernel_39400/829902153.py\u001b[0m in \u001b[0;36m<module>\u001b[1;34m\u001b[0m\n\u001b[1;32m----> 1\u001b[1;33m \u001b[0mpose\u001b[0m \u001b[1;33m=\u001b[0m \u001b[0mnp\u001b[0m\u001b[1;33m.\u001b[0m\u001b[0marray\u001b[0m\u001b[1;33m(\u001b[0m\u001b[1;33m[\u001b[0m\u001b[1;33m[\u001b[0m\u001b[0mres\u001b[0m\u001b[1;33m.\u001b[0m\u001b[0mx\u001b[0m\u001b[1;33m,\u001b[0m \u001b[0mres\u001b[0m\u001b[1;33m.\u001b[0m\u001b[0my\u001b[0m\u001b[1;33m,\u001b[0m \u001b[0mres\u001b[0m\u001b[1;33m.\u001b[0m\u001b[0mz\u001b[0m\u001b[1;33m,\u001b[0m \u001b[0mres\u001b[0m\u001b[1;33m.\u001b[0m\u001b[0mvisibility\u001b[0m\u001b[1;33m]\u001b[0m \u001b[1;32mfor\u001b[0m \u001b[0mres\u001b[0m \u001b[1;32min\u001b[0m \u001b[0mresults\u001b[0m\u001b[1;33m.\u001b[0m\u001b[0mpose_landmarks\u001b[0m\u001b[1;33m.\u001b[0m\u001b[0mlandmark\u001b[0m\u001b[1;33m]\u001b[0m\u001b[1;33m)\u001b[0m\u001b[1;33m.\u001b[0m\u001b[0mflatten\u001b[0m\u001b[1;33m(\u001b[0m\u001b[1;33m)\u001b[0m \u001b[1;32mif\u001b[0m \u001b[0mresults\u001b[0m\u001b[1;33m.\u001b[0m\u001b[0mpose_landmarks\u001b[0m \u001b[1;32melse\u001b[0m \u001b[0mnp\u001b[0m\u001b[1;33m.\u001b[0m\u001b[0mzeros\u001b[0m\u001b[1;33m(\u001b[0m\u001b[1;36m132\u001b[0m\u001b[1;33m)\u001b[0m\u001b[1;33m\u001b[0m\u001b[1;33m\u001b[0m\u001b[0m\n\u001b[0m\u001b[0;32m      2\u001b[0m \u001b[0mface\u001b[0m \u001b[1;33m=\u001b[0m \u001b[0mnp\u001b[0m\u001b[1;33m.\u001b[0m\u001b[0marray\u001b[0m\u001b[1;33m(\u001b[0m\u001b[1;33m[\u001b[0m\u001b[1;33m[\u001b[0m\u001b[0mres\u001b[0m\u001b[1;33m.\u001b[0m\u001b[0mx\u001b[0m\u001b[1;33m,\u001b[0m \u001b[0mres\u001b[0m\u001b[1;33m.\u001b[0m\u001b[0my\u001b[0m\u001b[1;33m,\u001b[0m \u001b[0mres\u001b[0m\u001b[1;33m.\u001b[0m\u001b[0mz\u001b[0m\u001b[1;33m]\u001b[0m \u001b[1;32mfor\u001b[0m \u001b[0mres\u001b[0m \u001b[1;32min\u001b[0m \u001b[0mresults\u001b[0m\u001b[1;33m.\u001b[0m\u001b[0mface_landmarks\u001b[0m\u001b[1;33m.\u001b[0m\u001b[0mlandmark\u001b[0m\u001b[1;33m]\u001b[0m\u001b[1;33m)\u001b[0m\u001b[1;33m.\u001b[0m\u001b[0mflatten\u001b[0m\u001b[1;33m(\u001b[0m\u001b[1;33m)\u001b[0m \u001b[1;32mif\u001b[0m \u001b[0mresults\u001b[0m\u001b[1;33m.\u001b[0m\u001b[0mface_landmarks\u001b[0m \u001b[1;32melse\u001b[0m \u001b[0mnp\u001b[0m\u001b[1;33m.\u001b[0m\u001b[0mzeros\u001b[0m\u001b[1;33m(\u001b[0m\u001b[1;36m1404\u001b[0m\u001b[1;33m)\u001b[0m\u001b[1;33m\u001b[0m\u001b[1;33m\u001b[0m\u001b[0m\n\u001b[0;32m      3\u001b[0m \u001b[0mlh\u001b[0m \u001b[1;33m=\u001b[0m \u001b[0mnp\u001b[0m\u001b[1;33m.\u001b[0m\u001b[0marray\u001b[0m\u001b[1;33m(\u001b[0m\u001b[1;33m[\u001b[0m\u001b[1;33m[\u001b[0m\u001b[0mres\u001b[0m\u001b[1;33m.\u001b[0m\u001b[0mx\u001b[0m\u001b[1;33m,\u001b[0m \u001b[0mres\u001b[0m\u001b[1;33m.\u001b[0m\u001b[0my\u001b[0m\u001b[1;33m,\u001b[0m \u001b[0mres\u001b[0m\u001b[1;33m.\u001b[0m\u001b[0mz\u001b[0m\u001b[1;33m]\u001b[0m \u001b[1;32mfor\u001b[0m \u001b[0mres\u001b[0m \u001b[1;32min\u001b[0m \u001b[0mresults\u001b[0m\u001b[1;33m.\u001b[0m\u001b[0mleft_hand_landmarks\u001b[0m\u001b[1;33m.\u001b[0m\u001b[0mlandmark\u001b[0m\u001b[1;33m]\u001b[0m\u001b[1;33m)\u001b[0m\u001b[1;33m.\u001b[0m\u001b[0mflatten\u001b[0m\u001b[1;33m(\u001b[0m\u001b[1;33m)\u001b[0m \u001b[1;32mif\u001b[0m \u001b[0mresults\u001b[0m\u001b[1;33m.\u001b[0m\u001b[0mleft_hand_landmarks\u001b[0m \u001b[1;32melse\u001b[0m \u001b[0mnp\u001b[0m\u001b[1;33m.\u001b[0m\u001b[0mzeros\u001b[0m\u001b[1;33m(\u001b[0m\u001b[1;36m21\u001b[0m\u001b[1;33m*\u001b[0m\u001b[1;36m3\u001b[0m\u001b[1;33m)\u001b[0m\u001b[1;33m\u001b[0m\u001b[1;33m\u001b[0m\u001b[0m\n\u001b[0;32m      4\u001b[0m \u001b[0mrh\u001b[0m \u001b[1;33m=\u001b[0m \u001b[0mnp\u001b[0m\u001b[1;33m.\u001b[0m\u001b[0marray\u001b[0m\u001b[1;33m(\u001b[0m\u001b[1;33m[\u001b[0m\u001b[1;33m[\u001b[0m\u001b[0mres\u001b[0m\u001b[1;33m.\u001b[0m\u001b[0mx\u001b[0m\u001b[1;33m,\u001b[0m \u001b[0mres\u001b[0m\u001b[1;33m.\u001b[0m\u001b[0my\u001b[0m\u001b[1;33m,\u001b[0m \u001b[0mres\u001b[0m\u001b[1;33m.\u001b[0m\u001b[0mz\u001b[0m\u001b[1;33m]\u001b[0m \u001b[1;32mfor\u001b[0m \u001b[0mres\u001b[0m \u001b[1;32min\u001b[0m \u001b[0mresults\u001b[0m\u001b[1;33m.\u001b[0m\u001b[0mright_hand_landmarks\u001b[0m\u001b[1;33m.\u001b[0m\u001b[0mlandmark\u001b[0m\u001b[1;33m]\u001b[0m\u001b[1;33m)\u001b[0m\u001b[1;33m.\u001b[0m\u001b[0mflatten\u001b[0m\u001b[1;33m(\u001b[0m\u001b[1;33m)\u001b[0m \u001b[1;32mif\u001b[0m \u001b[0mresults\u001b[0m\u001b[1;33m.\u001b[0m\u001b[0mright_hand_landmarks\u001b[0m \u001b[1;32melse\u001b[0m \u001b[0mnp\u001b[0m\u001b[1;33m.\u001b[0m\u001b[0mzeros\u001b[0m\u001b[1;33m(\u001b[0m\u001b[1;36m21\u001b[0m\u001b[1;33m*\u001b[0m\u001b[1;36m3\u001b[0m\u001b[1;33m)\u001b[0m\u001b[1;33m\u001b[0m\u001b[1;33m\u001b[0m\u001b[0m\n",
      "\u001b[1;31mNameError\u001b[0m: name 'results' is not defined"
     ]
    }
   ],
   "source": [
    "pose = np.array([[res.x, res.y, res.z, res.visibility] for res in results.pose_landmarks.landmark]).flatten() if results.pose_landmarks else np.zeros(132)\n",
    "face = np.array([[res.x, res.y, res.z] for res in results.face_landmarks.landmark]).flatten() if results.face_landmarks else np.zeros(1404)\n",
    "lh = np.array([[res.x, res.y, res.z] for res in results.left_hand_landmarks.landmark]).flatten() if results.left_hand_landmarks else np.zeros(21*3)\n",
    "rh = np.array([[res.x, res.y, res.z] for res in results.right_hand_landmarks.landmark]).flatten() if results.right_hand_landmarks else np.zeros(21*3)\n"
   ]
  },
  {
   "cell_type": "code",
   "execution_count": 22,
   "metadata": {
    "id": "RNp0WI1bNpej"
   },
   "outputs": [],
   "source": [
    "#face = np.array([[res.x, res.y, res.z] for res in results.face_landmarks.landmark]).flatten() \n",
    "    #if results.face_landmarks \n",
    "   #else np.zeros(1404)\n"
   ]
  },
  {
   "cell_type": "code",
   "execution_count": 23,
   "metadata": {
    "id": "SjvhyZ7uNpek"
   },
   "outputs": [
    {
     "ename": "NameError",
     "evalue": "name 'results' is not defined",
     "output_type": "error",
     "traceback": [
      "\u001b[1;31m---------------------------------------------------------------------------\u001b[0m",
      "\u001b[1;31mNameError\u001b[0m                                 Traceback (most recent call last)",
      "\u001b[1;32m~\\AppData\\Local\\Temp/ipykernel_39400/1290981796.py\u001b[0m in \u001b[0;36m<module>\u001b[1;34m\u001b[0m\n\u001b[1;32m----> 1\u001b[1;33m \u001b[0mresult_test\u001b[0m \u001b[1;33m=\u001b[0m \u001b[0mextract_keypoints\u001b[0m\u001b[1;33m(\u001b[0m\u001b[0mresults\u001b[0m\u001b[1;33m)\u001b[0m\u001b[1;33m\u001b[0m\u001b[1;33m\u001b[0m\u001b[0m\n\u001b[0m",
      "\u001b[1;31mNameError\u001b[0m: name 'results' is not defined"
     ]
    }
   ],
   "source": [
    "result_test = extract_keypoints(results)\n"
   ]
  },
  {
   "cell_type": "code",
   "execution_count": 24,
   "metadata": {
    "colab": {
     "base_uri": "https://localhost:8080/"
    },
    "id": "v_8KCHZMNpek",
    "outputId": "67c09d01-1882-4dfe-bbd6-8fcf9c3fa948"
   },
   "outputs": [
    {
     "ename": "NameError",
     "evalue": "name 'result_test' is not defined",
     "output_type": "error",
     "traceback": [
      "\u001b[1;31m---------------------------------------------------------------------------\u001b[0m",
      "\u001b[1;31mNameError\u001b[0m                                 Traceback (most recent call last)",
      "\u001b[1;32m~\\AppData\\Local\\Temp/ipykernel_39400/476497727.py\u001b[0m in \u001b[0;36m<module>\u001b[1;34m\u001b[0m\n\u001b[1;32m----> 1\u001b[1;33m \u001b[0mresult_test\u001b[0m\u001b[1;33m.\u001b[0m\u001b[0mshape\u001b[0m\u001b[1;33m\u001b[0m\u001b[1;33m\u001b[0m\u001b[0m\n\u001b[0m",
      "\u001b[1;31mNameError\u001b[0m: name 'result_test' is not defined"
     ]
    }
   ],
   "source": [
    "result_test.shape"
   ]
  },
  {
   "cell_type": "code",
   "execution_count": 25,
   "metadata": {
    "colab": {
     "base_uri": "https://localhost:8080/"
    },
    "id": "QyXNu_0CsIBX",
    "outputId": "4ed7eb62-037c-4b52-d7e9-2e66e41524a6"
   },
   "outputs": [
    {
     "ename": "NameError",
     "evalue": "name 'result_test' is not defined",
     "output_type": "error",
     "traceback": [
      "\u001b[1;31m---------------------------------------------------------------------------\u001b[0m",
      "\u001b[1;31mNameError\u001b[0m                                 Traceback (most recent call last)",
      "\u001b[1;32m~\\AppData\\Local\\Temp/ipykernel_39400/2670006817.py\u001b[0m in \u001b[0;36m<module>\u001b[1;34m\u001b[0m\n\u001b[1;32m----> 1\u001b[1;33m \u001b[0mresult_test\u001b[0m\u001b[1;33m=\u001b[0m\u001b[0mresult_test\u001b[0m\u001b[1;33m.\u001b[0m\u001b[0mreshape\u001b[0m\u001b[1;33m(\u001b[0m\u001b[1;36m1\u001b[0m\u001b[1;33m,\u001b[0m\u001b[0mresult_test\u001b[0m\u001b[1;33m.\u001b[0m\u001b[0mshape\u001b[0m\u001b[1;33m[\u001b[0m\u001b[1;36m0\u001b[0m\u001b[1;33m]\u001b[0m\u001b[1;33m,\u001b[0m\u001b[1;36m1\u001b[0m\u001b[1;33m)\u001b[0m\u001b[1;33m\u001b[0m\u001b[1;33m\u001b[0m\u001b[0m\n\u001b[0m\u001b[0;32m      2\u001b[0m \u001b[0mresult_test\u001b[0m\u001b[1;33m.\u001b[0m\u001b[0mshape\u001b[0m\u001b[1;33m\u001b[0m\u001b[1;33m\u001b[0m\u001b[0m\n",
      "\u001b[1;31mNameError\u001b[0m: name 'result_test' is not defined"
     ]
    }
   ],
   "source": [
    "result_test=result_test.reshape(1,result_test.shape[0],1)\n",
    "result_test.shape\n"
   ]
  },
  {
   "cell_type": "code",
   "execution_count": 26,
   "metadata": {
    "colab": {
     "base_uri": "https://localhost:8080/"
    },
    "id": "fxJbS-iFraR4",
    "outputId": "f9779fb5-4050-47cd-99ba-efb10a3680ba"
   },
   "outputs": [
    {
     "ename": "FileNotFoundError",
     "evalue": "[Errno 2] No such file or directory: 'C:/Users/Lab/Desktop/Barathi/ActionDetectionforSignLanguage/GRU modified/GRU/labelencoder.pkl'",
     "output_type": "error",
     "traceback": [
      "\u001b[1;31m---------------------------------------------------------------------------\u001b[0m",
      "\u001b[1;31mFileNotFoundError\u001b[0m                         Traceback (most recent call last)",
      "\u001b[1;32m~\\AppData\\Local\\Temp/ipykernel_39400/2566462653.py\u001b[0m in \u001b[0;36m<module>\u001b[1;34m\u001b[0m\n\u001b[0;32m      1\u001b[0m \u001b[1;31m# Make a prediction by using the model\u001b[0m\u001b[1;33m\u001b[0m\u001b[1;33m\u001b[0m\u001b[1;33m\u001b[0m\u001b[0m\n\u001b[0;32m      2\u001b[0m \u001b[1;32mimport\u001b[0m \u001b[0mpickle\u001b[0m\u001b[1;33m\u001b[0m\u001b[1;33m\u001b[0m\u001b[0m\n\u001b[1;32m----> 3\u001b[1;33m \u001b[0mle\u001b[0m \u001b[1;33m=\u001b[0m \u001b[0mpickle\u001b[0m\u001b[1;33m.\u001b[0m\u001b[0mload\u001b[0m\u001b[1;33m(\u001b[0m\u001b[0mopen\u001b[0m\u001b[1;33m(\u001b[0m\u001b[1;34m'C:/Users/Lab/Desktop/Barathi/ActionDetectionforSignLanguage/GRU modified/GRU/labelencoder.pkl'\u001b[0m\u001b[1;33m,\u001b[0m\u001b[1;34m'rb'\u001b[0m\u001b[1;33m)\u001b[0m\u001b[1;33m)\u001b[0m\u001b[1;33m\u001b[0m\u001b[1;33m\u001b[0m\u001b[0m\n\u001b[0m\u001b[0;32m      4\u001b[0m \u001b[0my_predicted\u001b[0m \u001b[1;33m=\u001b[0m \u001b[0msession\u001b[0m\u001b[1;33m.\u001b[0m\u001b[0mrun\u001b[0m\u001b[1;33m(\u001b[0m\u001b[0moutput\u001b[0m\u001b[1;33m,\u001b[0m \u001b[0mfeed_dict\u001b[0m\u001b[1;33m=\u001b[0m\u001b[1;33m{\u001b[0m\u001b[0mgru\u001b[0m\u001b[1;33m.\u001b[0m\u001b[0minput_layer\u001b[0m\u001b[1;33m:\u001b[0m \u001b[0mresult_test\u001b[0m\u001b[1;33m}\u001b[0m\u001b[1;33m)\u001b[0m\u001b[1;33m\u001b[0m\u001b[1;33m\u001b[0m\u001b[0m\n\u001b[0;32m      5\u001b[0m \u001b[0my_predicted_confidence\u001b[0m \u001b[1;33m=\u001b[0m \u001b[0mnp\u001b[0m\u001b[1;33m.\u001b[0m\u001b[0mmax\u001b[0m\u001b[1;33m(\u001b[0m\u001b[0my_predicted\u001b[0m\u001b[1;33m)\u001b[0m\u001b[1;33m\u001b[0m\u001b[1;33m\u001b[0m\u001b[0m\n",
      "\u001b[1;31mFileNotFoundError\u001b[0m: [Errno 2] No such file or directory: 'C:/Users/Lab/Desktop/Barathi/ActionDetectionforSignLanguage/GRU modified/GRU/labelencoder.pkl'"
     ]
    }
   ],
   "source": [
    "# Make a prediction by using the model\n",
    "import pickle \n",
    "le = pickle.load(open('C:/Users/Lab/Desktop/Barathi/ActionDetectionforSignLanguage/GRU modified/GRU/labelencoder.pkl','rb'))\n",
    "y_predicted = session.run(output, feed_dict={gru.input_layer: result_test})\n",
    "y_predicted_confidence = np.max(y_predicted)\n",
    "y_predicted = np.argmax(y_predicted,axis=-1)\n",
    "print(y_predicted)\n",
    "\n",
    "print('\\nPredictions: \\n',le.inverse_transform(y_predicted),\"\\nConfidence: \",y_predicted_confidence)\n"
   ]
  },
  {
   "cell_type": "code",
   "execution_count": 27,
   "metadata": {
    "id": "LXacTYdMNpek"
   },
   "outputs": [
    {
     "ename": "NameError",
     "evalue": "name 'result_test' is not defined",
     "output_type": "error",
     "traceback": [
      "\u001b[1;31m---------------------------------------------------------------------------\u001b[0m",
      "\u001b[1;31mNameError\u001b[0m                                 Traceback (most recent call last)",
      "\u001b[1;32m~\\AppData\\Local\\Temp/ipykernel_39400/1050245244.py\u001b[0m in \u001b[0;36m<module>\u001b[1;34m\u001b[0m\n\u001b[1;32m----> 1\u001b[1;33m \u001b[0mnp\u001b[0m\u001b[1;33m.\u001b[0m\u001b[0msave\u001b[0m\u001b[1;33m(\u001b[0m\u001b[1;34m'0'\u001b[0m\u001b[1;33m,\u001b[0m \u001b[0mresult_test\u001b[0m\u001b[1;33m)\u001b[0m\u001b[1;33m\u001b[0m\u001b[1;33m\u001b[0m\u001b[0m\n\u001b[0m",
      "\u001b[1;31mNameError\u001b[0m: name 'result_test' is not defined"
     ]
    }
   ],
   "source": [
    "np.save('0', result_test)"
   ]
  },
  {
   "cell_type": "code",
   "execution_count": 28,
   "metadata": {
    "colab": {
     "base_uri": "https://localhost:8080/"
    },
    "id": "yBeGDvBANpel",
    "outputId": "81a7f882-c2df-4615-cc3c-713f84a24596"
   },
   "outputs": [
    {
     "data": {
      "text/plain": [
       "array([[[ 0.48671284],\n",
       "        [ 0.49158585],\n",
       "        [-0.8947469 ],\n",
       "        ...,\n",
       "        [ 0.        ],\n",
       "        [ 0.        ],\n",
       "        [ 0.        ]]])"
      ]
     },
     "execution_count": 28,
     "metadata": {},
     "output_type": "execute_result"
    }
   ],
   "source": [
    "np.load('0.npy')"
   ]
  },
  {
   "cell_type": "markdown",
   "metadata": {
    "id": "zxyz2wrWNpel"
   },
   "source": [
    "# 4. Setup Folders for Collection"
   ]
  },
  {
   "cell_type": "code",
   "execution_count": 29,
   "metadata": {
    "id": "TEZg4_zZNpel"
   },
   "outputs": [],
   "source": [
    "# Path for exported data, numpy arrays\n",
    "DATA_PATH = os.path.join('MP_Data') \n",
    "\n",
    "# Actions that we try to detect\n",
    "actions = np.array(['hello','thankyou','takecare','good','fail','like','friend','think','phonecall','meet','you','iloveyou','location'])\n",
    "\n",
    "# Thirty videos worth of data\n",
    "no_sequences = 30\n",
    "\n",
    "# Videos are going to be 30 frames in length\n",
    "sequence_length = 30\n",
    "\n",
    "# Folder start\n",
    "#start_folder = 30"
   ]
  },
  {
   "cell_type": "code",
   "execution_count": 30,
   "metadata": {
    "id": "UeREUGtkNpel"
   },
   "outputs": [],
   "source": [
    "for action in actions: \n",
    "   # dirmax = np.max(np.array(os.listdir(os.path.join(DATA_PATH, action))).astype(int))\n",
    "    for sequence in range(no_sequences):\n",
    "        try: \n",
    "            os.makedirs(os.path.join(DATA_PATH, action, str(sequence)))\n",
    "        except:\n",
    "            pass"
   ]
  },
  {
   "cell_type": "code",
   "execution_count": 31,
   "metadata": {
    "colab": {
     "base_uri": "https://localhost:8080/"
    },
    "id": "pMajCD8tB6U_",
    "outputId": "fa14a475-d514-4e24-9c8c-298b58746c14"
   },
   "outputs": [
    {
     "data": {
      "text/plain": [
       "array(['hello', 'thankyou', 'takecare', 'good', 'fail', 'like', 'friend',\n",
       "       'think', 'phonecall', 'meet', 'you', 'iloveyou', 'location'],\n",
       "      dtype='<U9')"
      ]
     },
     "execution_count": 31,
     "metadata": {},
     "output_type": "execute_result"
    }
   ],
   "source": [
    "actions"
   ]
  },
  {
   "cell_type": "markdown",
   "metadata": {
    "id": "LCqh6ZMtNpem"
   },
   "source": [
    "# 5. Collect Keypoint Values for Training and Testing"
   ]
  },
  {
   "cell_type": "code",
   "execution_count": 32,
   "metadata": {
    "id": "m9H3LanhNpem"
   },
   "outputs": [],
   "source": [
    "# cap = cv2.VideoCapture(0)\n",
    "# # Set mediapipe model \n",
    "# with mp_holistic.Holistic(min_detection_confidence=0.5, min_tracking_confidence=0.5) as holistic:\n",
    "    \n",
    "#     # NEW LOOP\n",
    "#     # Loop through actions\n",
    "#     for action in actions:\n",
    "#         # Loop through sequences aka videos\n",
    "#         for sequence in range(no_sequences):\n",
    "#             # Loop through video length aka sequence length\n",
    "#             for frame_num in range(sequence_length):\n",
    "\n",
    "#                 # Read feed\n",
    "#                 ret, frame = cap.read()\n",
    "\n",
    "#                 # Make detections\n",
    "#                 image, results = mediapipe_detection(frame, holistic)\n",
    "#                 print(results)\n",
    "#                 # Draw landmarks\n",
    "#                 draw_styled_landmarks(image, results)\n",
    "                \n",
    "#                 # NEW Apply wait logic\n",
    "#                 if frame_num == 0: \n",
    "#                     cv2.putText(image, 'STARTING COLLECTION', (120,200), \n",
    "#                                cv2.FONT_HERSHEY_SIMPLEX, 1, (0,255, 0), 4, cv2.LINE_AA)\n",
    "#                     cv2.putText(image, 'Collecting frames for {} Video Number {}'.format(action, sequence), (15,12), \n",
    "#                                cv2.FONT_HERSHEY_SIMPLEX, 0.5, (0, 0, 255), 1, cv2.LINE_AA)\n",
    "#                     # Show to screen\n",
    "#                     cv2.imshow('OpenCV Feed', image)\n",
    "#                     cv2.waitKey(500)\n",
    "#                 else: \n",
    "#                     cv2.putText(image, 'Collecting frames for {} Video Number {}'.format(action, sequence), (15,12), \n",
    "#                                cv2.FONT_HERSHEY_SIMPLEX, 0.5, (0, 0, 255), 1, cv2.LINE_AA)\n",
    "#                     # Show to screen\n",
    "#                     cv2.imshow('OpenCV Feed', image)\n",
    "                \n",
    "#                 # NEW Export keypoints\n",
    "#                 keypoints = extract_keypoints(results)\n",
    "#                 npy_path = os.path.join(DATA_PATH, action, str(sequence), str(frame_num))\n",
    "#                 np.save(npy_path, keypoints)\n",
    "                \n",
    "#                 cv2.imshow('opencv feed' ,image)\n",
    "\n",
    "#                 # Break gracefully\n",
    "#                 if cv2.waitKey(10) & 0xFF == ord('q'):\n",
    "#                     break\n",
    "                    \n",
    "#     cap.release()\n",
    "#     cv2.destroyAllWindows()"
   ]
  },
  {
   "cell_type": "markdown",
   "metadata": {
    "id": "HLTHIWP3Npem"
   },
   "source": [
    "# 6. Preprocess Data and Create Labels and Features"
   ]
  },
  {
   "cell_type": "code",
   "execution_count": 33,
   "metadata": {
    "id": "Fnh0jUWSNpem"
   },
   "outputs": [],
   "source": [
    "from sklearn.model_selection import train_test_split\n",
    "from tensorflow.keras.utils import to_categorical"
   ]
  },
  {
   "cell_type": "code",
   "execution_count": 34,
   "metadata": {
    "id": "7QniHFreNpen"
   },
   "outputs": [],
   "source": [
    "label_map = {label:num for num, label in enumerate(actions)}"
   ]
  },
  {
   "cell_type": "code",
   "execution_count": 35,
   "metadata": {
    "id": "pFu13-eFNpen"
   },
   "outputs": [
    {
     "data": {
      "text/plain": [
       "{'hello': 0,\n",
       " 'thankyou': 1,\n",
       " 'takecare': 2,\n",
       " 'good': 3,\n",
       " 'fail': 4,\n",
       " 'like': 5,\n",
       " 'friend': 6,\n",
       " 'think': 7,\n",
       " 'phonecall': 8,\n",
       " 'meet': 9,\n",
       " 'you': 10,\n",
       " 'iloveyou': 11,\n",
       " 'location': 12}"
      ]
     },
     "execution_count": 35,
     "metadata": {},
     "output_type": "execute_result"
    }
   ],
   "source": [
    "label_map"
   ]
  },
  {
   "cell_type": "code",
   "execution_count": 36,
   "metadata": {
    "id": "SLEM8TR3Npen"
   },
   "outputs": [],
   "source": [
    "sequences, labels = [], []\n",
    "for action in actions:\n",
    "    for sequence in np.array(os.listdir(os.path.join(DATA_PATH, action))).astype(int):\n",
    "        window = []\n",
    "        for frame_num in range(sequence_length):\n",
    "            res = np.load(os.path.join(DATA_PATH, action, str(sequence), \"{}.npy\".format(frame_num)))\n",
    "            window.append(res)\n",
    "        sequences.append(window)\n",
    "        labels.append(label_map[action])"
   ]
  },
  {
   "cell_type": "code",
   "execution_count": 37,
   "metadata": {
    "id": "O9zKSmKFNpen"
   },
   "outputs": [
    {
     "data": {
      "text/plain": [
       "(390, 30, 1662)"
      ]
     },
     "execution_count": 37,
     "metadata": {},
     "output_type": "execute_result"
    }
   ],
   "source": [
    "np.array(sequences).shape"
   ]
  },
  {
   "cell_type": "code",
   "execution_count": 38,
   "metadata": {
    "id": "6t0lTwyFNpen"
   },
   "outputs": [
    {
     "data": {
      "text/plain": [
       "(390,)"
      ]
     },
     "execution_count": 38,
     "metadata": {},
     "output_type": "execute_result"
    }
   ],
   "source": [
    "np.array(labels).shape"
   ]
  },
  {
   "cell_type": "code",
   "execution_count": 39,
   "metadata": {
    "id": "ljKaBdPHNpeo"
   },
   "outputs": [],
   "source": [
    "X = np.array(sequences)"
   ]
  },
  {
   "cell_type": "code",
   "execution_count": 40,
   "metadata": {
    "id": "Vyeg6W9UNpeo"
   },
   "outputs": [
    {
     "data": {
      "text/plain": [
       "(390, 30, 1662)"
      ]
     },
     "execution_count": 40,
     "metadata": {},
     "output_type": "execute_result"
    }
   ],
   "source": [
    "X.shape"
   ]
  },
  {
   "cell_type": "code",
   "execution_count": 41,
   "metadata": {
    "id": "bzWCLwA8Npeo"
   },
   "outputs": [],
   "source": [
    "y = to_categorical(labels).astype(int)"
   ]
  },
  {
   "cell_type": "code",
   "execution_count": 42,
   "metadata": {
    "id": "RA6B7uMCNpeo"
   },
   "outputs": [],
   "source": [
    "X_train, X_test, y_train, y_test = train_test_split(X, y, test_size=0.05)"
   ]
  },
  {
   "cell_type": "code",
   "execution_count": 43,
   "metadata": {
    "id": "DiuOEQsgNpep"
   },
   "outputs": [
    {
     "data": {
      "text/plain": [
       "(20, 13)"
      ]
     },
     "execution_count": 43,
     "metadata": {},
     "output_type": "execute_result"
    }
   ],
   "source": [
    "y_test.shape"
   ]
  },
  {
   "cell_type": "code",
   "execution_count": 44,
   "metadata": {
    "id": "RdY4ROWKNpep"
   },
   "outputs": [
    {
     "data": {
      "text/plain": [
       "(390, 30, 1662)"
      ]
     },
     "execution_count": 44,
     "metadata": {},
     "output_type": "execute_result"
    }
   ],
   "source": [
    "X.shape"
   ]
  },
  {
   "cell_type": "code",
   "execution_count": 45,
   "metadata": {
    "id": "DqWyAfoiNpep"
   },
   "outputs": [],
   "source": [
    "# 7. Build and Train LSTM Neural Network"
   ]
  },
  {
   "cell_type": "markdown",
   "metadata": {},
   "source": [
    "# Standard GRU"
   ]
  },
  {
   "cell_type": "code",
   "execution_count": 46,
   "metadata": {
    "id": "jFhlvKo8Npep"
   },
   "outputs": [],
   "source": [
    "from tensorflow.keras.models import Sequential\n",
    "from tensorflow.keras.layers import GRU, Dense, Dropout, BatchNormalization\n",
    "from tensorflow.keras.callbacks import TensorBoard"
   ]
  },
  {
   "cell_type": "code",
   "execution_count": 47,
   "metadata": {
    "id": "7rXx-_ZcNpep"
   },
   "outputs": [],
   "source": [
    "log_dir = os.path.join('LogsGRU')\n",
    "tb_callback = TensorBoard(log_dir=log_dir)"
   ]
  },
  {
   "cell_type": "code",
   "execution_count": 48,
   "metadata": {
    "id": "OT1-TSi7Npep"
   },
   "outputs": [],
   "source": [
    "model = Sequential()\n",
    "model.add(GRU(128, return_sequences=True, activation='relu', input_shape=(30,1662)))\n",
    "model.add(Dropout(0.2))\n",
    "model.add(GRU(64, return_sequences=True, activation='tanh'))\n",
    "model.add(Dropout(0.3))\n",
    "model.add(GRU(32, return_sequences=False, activation='relu'))\n",
    "model.add(Dense(64, activation='relu'))\n",
    "model.add(BatchNormalization())\n",
    "model.add(Dense(32, activation='relu'))\n",
    "model.add(Dense(actions.shape[0], activation='softmax'))"
   ]
  },
  {
   "cell_type": "code",
   "execution_count": 49,
   "metadata": {
    "id": "Ur40hATXNpeq"
   },
   "outputs": [],
   "source": [
    "model.compile(optimizer='Adam', loss='categorical_crossentropy', metrics=['categorical_accuracy'])"
   ]
  },
  {
   "cell_type": "code",
   "execution_count": 50,
   "metadata": {
    "id": "bEyWmu8VNpeq",
    "outputId": "90926328-4bbf-4cb8-ab23-e2c962206293",
    "scrolled": true
   },
   "outputs": [
    {
     "name": "stdout",
     "output_type": "stream",
     "text": [
      "Train on 296 samples, validate on 74 samples\n",
      "Epoch 1/100\n",
      "288/296 [============================>.] - ETA: 0s - loss: 2.8344 - categorical_accuracy: 0.0451"
     ]
    },
    {
     "name": "stderr",
     "output_type": "stream",
     "text": [
      "C:\\Users\\Lab\\AppData\\Roaming\\Python\\Python38\\site-packages\\tensorflow\\python\\keras\\engine\\training.py:2325: UserWarning: `Model.state_updates` will be removed in a future version. This property should not be used in TensorFlow 2.0, as `updates` are applied automatically.\n",
      "  warnings.warn('`Model.state_updates` will be removed in a future version. '\n"
     ]
    },
    {
     "name": "stdout",
     "output_type": "stream",
     "text": [
      "296/296 [==============================] - 2s 6ms/sample - loss: 2.8320 - categorical_accuracy: 0.0439 - val_loss: 2.5470 - val_categorical_accuracy: 0.0541\n",
      "Epoch 2/100\n",
      "296/296 [==============================] - 1s 2ms/sample - loss: 2.6800 - categorical_accuracy: 0.0777 - val_loss: 2.5090 - val_categorical_accuracy: 0.1081\n",
      "Epoch 3/100\n",
      "296/296 [==============================] - 1s 2ms/sample - loss: 2.6699 - categorical_accuracy: 0.0912 - val_loss: 2.5080 - val_categorical_accuracy: 0.1081\n",
      "Epoch 4/100\n",
      "296/296 [==============================] - 1s 2ms/sample - loss: 2.6064 - categorical_accuracy: 0.0743 - val_loss: 2.4951 - val_categorical_accuracy: 0.0811\n",
      "Epoch 5/100\n",
      "296/296 [==============================] - 1s 2ms/sample - loss: 2.4817 - categorical_accuracy: 0.1182 - val_loss: 2.4486 - val_categorical_accuracy: 0.1622\n",
      "Epoch 6/100\n",
      "296/296 [==============================] - 1s 2ms/sample - loss: 2.3568 - categorical_accuracy: 0.1858 - val_loss: 2.4290 - val_categorical_accuracy: 0.1757\n",
      "Epoch 7/100\n",
      "296/296 [==============================] - 1s 2ms/sample - loss: 2.2887 - categorical_accuracy: 0.2027 - val_loss: 2.4013 - val_categorical_accuracy: 0.1757\n",
      "Epoch 8/100\n",
      "296/296 [==============================] - 1s 2ms/sample - loss: 2.2525 - categorical_accuracy: 0.2162 - val_loss: 2.3787 - val_categorical_accuracy: 0.1622\n",
      "Epoch 9/100\n",
      "296/296 [==============================] - 1s 2ms/sample - loss: 2.1976 - categorical_accuracy: 0.2162 - val_loss: 2.3646 - val_categorical_accuracy: 0.1622\n",
      "Epoch 10/100\n",
      "296/296 [==============================] - 1s 2ms/sample - loss: 2.1253 - categorical_accuracy: 0.2703 - val_loss: 2.2701 - val_categorical_accuracy: 0.2297\n",
      "Epoch 11/100\n",
      "296/296 [==============================] - 1s 2ms/sample - loss: 2.0418 - categorical_accuracy: 0.2635 - val_loss: 2.2572 - val_categorical_accuracy: 0.1622\n",
      "Epoch 12/100\n",
      "296/296 [==============================] - 1s 2ms/sample - loss: 1.9960 - categorical_accuracy: 0.3074 - val_loss: 2.2340 - val_categorical_accuracy: 0.2432\n",
      "Epoch 13/100\n",
      "296/296 [==============================] - 1s 2ms/sample - loss: 1.8891 - categorical_accuracy: 0.3108 - val_loss: 2.2069 - val_categorical_accuracy: 0.1892\n",
      "Epoch 14/100\n",
      "296/296 [==============================] - 1s 2ms/sample - loss: 1.8514 - categorical_accuracy: 0.3412 - val_loss: 2.1535 - val_categorical_accuracy: 0.2432\n",
      "Epoch 15/100\n",
      "296/296 [==============================] - 1s 2ms/sample - loss: 1.7803 - categorical_accuracy: 0.3851 - val_loss: 2.0552 - val_categorical_accuracy: 0.3243\n",
      "Epoch 16/100\n",
      "296/296 [==============================] - 1s 2ms/sample - loss: 1.7526 - categorical_accuracy: 0.3919 - val_loss: 2.1953 - val_categorical_accuracy: 0.1892\n",
      "Epoch 17/100\n",
      "296/296 [==============================] - 1s 2ms/sample - loss: 1.7393 - categorical_accuracy: 0.4088 - val_loss: 1.9595 - val_categorical_accuracy: 0.2703\n",
      "Epoch 18/100\n",
      "296/296 [==============================] - 1s 2ms/sample - loss: 1.6158 - categorical_accuracy: 0.4426 - val_loss: 1.9179 - val_categorical_accuracy: 0.3378\n",
      "Epoch 19/100\n",
      "296/296 [==============================] - 1s 2ms/sample - loss: 1.5538 - categorical_accuracy: 0.4899 - val_loss: 2.2404 - val_categorical_accuracy: 0.2432\n",
      "Epoch 20/100\n",
      "296/296 [==============================] - 1s 2ms/sample - loss: 1.5257 - categorical_accuracy: 0.4764 - val_loss: 1.7823 - val_categorical_accuracy: 0.3108\n",
      "Epoch 21/100\n",
      "296/296 [==============================] - 1s 2ms/sample - loss: 1.4686 - categorical_accuracy: 0.4899 - val_loss: 1.7595 - val_categorical_accuracy: 0.3243\n",
      "Epoch 22/100\n",
      "296/296 [==============================] - 1s 2ms/sample - loss: 1.4475 - categorical_accuracy: 0.5236 - val_loss: 1.7719 - val_categorical_accuracy: 0.4054\n",
      "Epoch 23/100\n",
      "296/296 [==============================] - 1s 2ms/sample - loss: 1.4049 - categorical_accuracy: 0.5000 - val_loss: 2.5835 - val_categorical_accuracy: 0.1622\n",
      "Epoch 24/100\n",
      "296/296 [==============================] - 1s 2ms/sample - loss: 1.3694 - categorical_accuracy: 0.5203 - val_loss: 1.7073 - val_categorical_accuracy: 0.3514\n",
      "Epoch 25/100\n",
      "296/296 [==============================] - 1s 2ms/sample - loss: 1.2250 - categorical_accuracy: 0.5541 - val_loss: 1.5631 - val_categorical_accuracy: 0.4730\n",
      "Epoch 26/100\n",
      "296/296 [==============================] - 1s 2ms/sample - loss: 1.2102 - categorical_accuracy: 0.6081 - val_loss: 2.0145 - val_categorical_accuracy: 0.2162\n",
      "Epoch 27/100\n",
      "296/296 [==============================] - 1s 2ms/sample - loss: 1.1995 - categorical_accuracy: 0.5845 - val_loss: 1.5916 - val_categorical_accuracy: 0.4054\n",
      "Epoch 28/100\n",
      "296/296 [==============================] - 1s 2ms/sample - loss: 1.1755 - categorical_accuracy: 0.6081 - val_loss: 1.3196 - val_categorical_accuracy: 0.5270\n",
      "Epoch 29/100\n",
      "296/296 [==============================] - 1s 2ms/sample - loss: 1.0546 - categorical_accuracy: 0.6723 - val_loss: 1.4706 - val_categorical_accuracy: 0.4730\n",
      "Epoch 30/100\n",
      "296/296 [==============================] - 1s 2ms/sample - loss: 0.9647 - categorical_accuracy: 0.6926 - val_loss: 1.4665 - val_categorical_accuracy: 0.4189\n",
      "Epoch 31/100\n",
      "296/296 [==============================] - 1s 2ms/sample - loss: 0.9868 - categorical_accuracy: 0.6622 - val_loss: 1.2865 - val_categorical_accuracy: 0.4865\n",
      "Epoch 32/100\n",
      "296/296 [==============================] - 1s 2ms/sample - loss: 0.9663 - categorical_accuracy: 0.6892 - val_loss: 1.3058 - val_categorical_accuracy: 0.5676\n",
      "Epoch 33/100\n",
      "296/296 [==============================] - 1s 2ms/sample - loss: 0.9242 - categorical_accuracy: 0.6723 - val_loss: 1.1314 - val_categorical_accuracy: 0.6757\n",
      "Epoch 34/100\n",
      "296/296 [==============================] - 1s 2ms/sample - loss: 0.7733 - categorical_accuracy: 0.7635 - val_loss: 1.1638 - val_categorical_accuracy: 0.6486\n",
      "Epoch 35/100\n",
      "296/296 [==============================] - 1s 2ms/sample - loss: 0.8269 - categorical_accuracy: 0.7399 - val_loss: 1.4883 - val_categorical_accuracy: 0.4865\n",
      "Epoch 36/100\n",
      "296/296 [==============================] - 1s 2ms/sample - loss: 0.9119 - categorical_accuracy: 0.7027 - val_loss: 1.9289 - val_categorical_accuracy: 0.4324\n",
      "Epoch 37/100\n",
      "296/296 [==============================] - 1s 2ms/sample - loss: 1.0366 - categorical_accuracy: 0.6250 - val_loss: 1.5093 - val_categorical_accuracy: 0.4595\n",
      "Epoch 38/100\n",
      "296/296 [==============================] - 1s 2ms/sample - loss: 0.9152 - categorical_accuracy: 0.6993 - val_loss: 1.1460 - val_categorical_accuracy: 0.5676\n",
      "Epoch 39/100\n",
      "296/296 [==============================] - 1s 2ms/sample - loss: 0.8756 - categorical_accuracy: 0.7500 - val_loss: 1.2489 - val_categorical_accuracy: 0.5811\n",
      "Epoch 40/100\n",
      "296/296 [==============================] - 1s 2ms/sample - loss: 0.7669 - categorical_accuracy: 0.7635 - val_loss: 1.4781 - val_categorical_accuracy: 0.3784\n",
      "Epoch 41/100\n",
      "296/296 [==============================] - 1s 2ms/sample - loss: 0.6860 - categorical_accuracy: 0.7973 - val_loss: 1.4265 - val_categorical_accuracy: 0.4730\n",
      "Epoch 42/100\n",
      "296/296 [==============================] - 1s 2ms/sample - loss: 0.6793 - categorical_accuracy: 0.7939 - val_loss: 1.1731 - val_categorical_accuracy: 0.6486\n",
      "Epoch 43/100\n",
      "296/296 [==============================] - 1s 2ms/sample - loss: 0.5985 - categorical_accuracy: 0.7939 - val_loss: 1.4129 - val_categorical_accuracy: 0.5405\n",
      "Epoch 44/100\n",
      "296/296 [==============================] - 1s 2ms/sample - loss: 0.5731 - categorical_accuracy: 0.8446 - val_loss: 1.0660 - val_categorical_accuracy: 0.7162\n",
      "Epoch 45/100\n",
      "296/296 [==============================] - 1s 2ms/sample - loss: 0.5170 - categorical_accuracy: 0.8581 - val_loss: 0.9121 - val_categorical_accuracy: 0.6892\n",
      "Epoch 46/100\n",
      "296/296 [==============================] - 1s 2ms/sample - loss: 0.5435 - categorical_accuracy: 0.8243 - val_loss: 0.8382 - val_categorical_accuracy: 0.7838\n",
      "Epoch 47/100\n",
      "296/296 [==============================] - 1s 2ms/sample - loss: 0.5142 - categorical_accuracy: 0.8378 - val_loss: 0.9844 - val_categorical_accuracy: 0.6622\n",
      "Epoch 48/100\n",
      "296/296 [==============================] - 1s 2ms/sample - loss: 0.5027 - categorical_accuracy: 0.8446 - val_loss: 0.9770 - val_categorical_accuracy: 0.6216\n",
      "Epoch 49/100\n"
     ]
    },
    {
     "name": "stdout",
     "output_type": "stream",
     "text": [
      "296/296 [==============================] - 1s 2ms/sample - loss: 0.4933 - categorical_accuracy: 0.8176 - val_loss: 1.3402 - val_categorical_accuracy: 0.5270\n",
      "Epoch 50/100\n",
      "296/296 [==============================] - 1s 2ms/sample - loss: 0.6035 - categorical_accuracy: 0.7973 - val_loss: 0.7412 - val_categorical_accuracy: 0.6892\n",
      "Epoch 51/100\n",
      "296/296 [==============================] - 1s 2ms/sample - loss: 0.5662 - categorical_accuracy: 0.8209 - val_loss: 1.7512 - val_categorical_accuracy: 0.3919\n",
      "Epoch 52/100\n",
      "296/296 [==============================] - 1s 2ms/sample - loss: 0.4896 - categorical_accuracy: 0.8547 - val_loss: 1.6928 - val_categorical_accuracy: 0.4189\n",
      "Epoch 53/100\n",
      "296/296 [==============================] - 1s 2ms/sample - loss: 0.4981 - categorical_accuracy: 0.8412 - val_loss: 0.8363 - val_categorical_accuracy: 0.7027\n",
      "Epoch 54/100\n",
      "296/296 [==============================] - 1s 2ms/sample - loss: 0.4346 - categorical_accuracy: 0.8682 - val_loss: 0.6754 - val_categorical_accuracy: 0.8514\n",
      "Epoch 55/100\n",
      "296/296 [==============================] - 1s 2ms/sample - loss: 0.3615 - categorical_accuracy: 0.9155 - val_loss: 0.8627 - val_categorical_accuracy: 0.7838\n",
      "Epoch 56/100\n",
      "296/296 [==============================] - 1s 2ms/sample - loss: 0.4213 - categorical_accuracy: 0.8750 - val_loss: 0.6961 - val_categorical_accuracy: 0.7838\n",
      "Epoch 57/100\n",
      "296/296 [==============================] - 1s 2ms/sample - loss: 0.3501 - categorical_accuracy: 0.9020 - val_loss: 0.7396 - val_categorical_accuracy: 0.7162\n",
      "Epoch 58/100\n",
      "296/296 [==============================] - 1s 2ms/sample - loss: 0.3977 - categorical_accuracy: 0.8885 - val_loss: 1.2621 - val_categorical_accuracy: 0.5811\n",
      "Epoch 59/100\n",
      "296/296 [==============================] - 1s 2ms/sample - loss: 0.3943 - categorical_accuracy: 0.8750 - val_loss: 1.5893 - val_categorical_accuracy: 0.5405\n",
      "Epoch 60/100\n",
      "296/296 [==============================] - 1s 2ms/sample - loss: 0.4142 - categorical_accuracy: 0.8615 - val_loss: 0.6533 - val_categorical_accuracy: 0.7973\n",
      "Epoch 61/100\n",
      "296/296 [==============================] - 1s 2ms/sample - loss: 0.4709 - categorical_accuracy: 0.8345 - val_loss: 1.7370 - val_categorical_accuracy: 0.5676\n",
      "Epoch 62/100\n",
      "296/296 [==============================] - 1s 2ms/sample - loss: 0.3961 - categorical_accuracy: 0.8682 - val_loss: 0.4716 - val_categorical_accuracy: 0.8649\n",
      "Epoch 63/100\n",
      "296/296 [==============================] - 1s 2ms/sample - loss: 0.3236 - categorical_accuracy: 0.8953 - val_loss: 0.7627 - val_categorical_accuracy: 0.7162\n",
      "Epoch 64/100\n",
      "296/296 [==============================] - 1s 2ms/sample - loss: 0.3836 - categorical_accuracy: 0.8682 - val_loss: 0.8628 - val_categorical_accuracy: 0.7162\n",
      "Epoch 65/100\n",
      "296/296 [==============================] - 1s 2ms/sample - loss: 0.4229 - categorical_accuracy: 0.8514 - val_loss: 1.3011 - val_categorical_accuracy: 0.6486\n",
      "Epoch 66/100\n",
      "296/296 [==============================] - 1s 2ms/sample - loss: 0.5209 - categorical_accuracy: 0.8108 - val_loss: 2.5428 - val_categorical_accuracy: 0.2568\n",
      "Epoch 67/100\n",
      "296/296 [==============================] - 1s 2ms/sample - loss: 0.4445 - categorical_accuracy: 0.8649 - val_loss: 1.2094 - val_categorical_accuracy: 0.5135\n",
      "Epoch 68/100\n",
      "296/296 [==============================] - 1s 2ms/sample - loss: 0.3390 - categorical_accuracy: 0.8986 - val_loss: 0.6773 - val_categorical_accuracy: 0.7568\n",
      "Epoch 69/100\n",
      "296/296 [==============================] - 1s 2ms/sample - loss: 0.2843 - categorical_accuracy: 0.9054 - val_loss: 0.4558 - val_categorical_accuracy: 0.8784\n",
      "Epoch 70/100\n",
      "296/296 [==============================] - 1s 2ms/sample - loss: 0.2826 - categorical_accuracy: 0.8986 - val_loss: 1.0586 - val_categorical_accuracy: 0.7162\n",
      "Epoch 71/100\n",
      "296/296 [==============================] - 1s 2ms/sample - loss: 0.3940 - categorical_accuracy: 0.8716 - val_loss: 1.1648 - val_categorical_accuracy: 0.5946\n",
      "Epoch 72/100\n",
      "296/296 [==============================] - 1s 2ms/sample - loss: 0.3279 - categorical_accuracy: 0.8851 - val_loss: 1.2991 - val_categorical_accuracy: 0.5676\n",
      "Epoch 73/100\n",
      "296/296 [==============================] - 1s 2ms/sample - loss: 0.3100 - categorical_accuracy: 0.8818 - val_loss: 1.2502 - val_categorical_accuracy: 0.5676\n",
      "Epoch 74/100\n",
      "296/296 [==============================] - 1s 2ms/sample - loss: 0.3834 - categorical_accuracy: 0.8716 - val_loss: 2.3340 - val_categorical_accuracy: 0.4054\n",
      "Epoch 75/100\n",
      "296/296 [==============================] - 1s 2ms/sample - loss: 0.5443 - categorical_accuracy: 0.8142 - val_loss: 1.0526 - val_categorical_accuracy: 0.5946\n",
      "Epoch 76/100\n",
      "296/296 [==============================] - 1s 2ms/sample - loss: 0.3924 - categorical_accuracy: 0.8716 - val_loss: 0.9938 - val_categorical_accuracy: 0.6486\n",
      "Epoch 77/100\n",
      "296/296 [==============================] - 1s 2ms/sample - loss: 0.3390 - categorical_accuracy: 0.8885 - val_loss: 1.2805 - val_categorical_accuracy: 0.6216\n",
      "Epoch 78/100\n",
      "296/296 [==============================] - 1s 2ms/sample - loss: 0.4153 - categorical_accuracy: 0.8514 - val_loss: 1.4509 - val_categorical_accuracy: 0.5811\n",
      "Epoch 79/100\n",
      "296/296 [==============================] - 1s 2ms/sample - loss: 0.4835 - categorical_accuracy: 0.8277 - val_loss: 1.2726 - val_categorical_accuracy: 0.6486\n",
      "Epoch 80/100\n",
      "296/296 [==============================] - 1s 2ms/sample - loss: 0.3808 - categorical_accuracy: 0.8581 - val_loss: 2.3962 - val_categorical_accuracy: 0.2973\n",
      "Epoch 81/100\n",
      "296/296 [==============================] - 1s 2ms/sample - loss: 0.3578 - categorical_accuracy: 0.9122 - val_loss: 1.5132 - val_categorical_accuracy: 0.5000\n",
      "Epoch 82/100\n",
      "296/296 [==============================] - 1s 2ms/sample - loss: 0.2824 - categorical_accuracy: 0.9291 - val_loss: 1.2327 - val_categorical_accuracy: 0.5270\n",
      "Epoch 83/100\n",
      "296/296 [==============================] - 1s 2ms/sample - loss: 0.2734 - categorical_accuracy: 0.8953 - val_loss: 0.5652 - val_categorical_accuracy: 0.7432\n",
      "Epoch 84/100\n",
      "296/296 [==============================] - 1s 2ms/sample - loss: 0.3532 - categorical_accuracy: 0.8682 - val_loss: 1.0538 - val_categorical_accuracy: 0.5676\n",
      "Epoch 85/100\n",
      "296/296 [==============================] - 1s 2ms/sample - loss: 0.3034 - categorical_accuracy: 0.8953 - val_loss: 1.0745 - val_categorical_accuracy: 0.6622\n",
      "Epoch 86/100\n",
      "296/296 [==============================] - 1s 2ms/sample - loss: 0.2758 - categorical_accuracy: 0.9122 - val_loss: 1.2166 - val_categorical_accuracy: 0.6351\n",
      "Epoch 87/100\n",
      "296/296 [==============================] - 1s 2ms/sample - loss: 0.2421 - categorical_accuracy: 0.9257 - val_loss: 0.3962 - val_categorical_accuracy: 0.9054\n",
      "Epoch 88/100\n",
      "296/296 [==============================] - 1s 2ms/sample - loss: 0.2147 - categorical_accuracy: 0.9257 - val_loss: 0.5435 - val_categorical_accuracy: 0.8649\n",
      "Epoch 89/100\n",
      "296/296 [==============================] - 1s 2ms/sample - loss: 0.1743 - categorical_accuracy: 0.9426 - val_loss: 1.2529 - val_categorical_accuracy: 0.7297\n",
      "Epoch 90/100\n",
      "296/296 [==============================] - 1s 2ms/sample - loss: 0.2145 - categorical_accuracy: 0.9257 - val_loss: 0.5750 - val_categorical_accuracy: 0.7973\n",
      "Epoch 91/100\n",
      "296/296 [==============================] - 1s 2ms/sample - loss: 0.1623 - categorical_accuracy: 0.9662 - val_loss: 0.3470 - val_categorical_accuracy: 0.9189\n",
      "Epoch 92/100\n",
      "296/296 [==============================] - 1s 2ms/sample - loss: 0.1912 - categorical_accuracy: 0.9358 - val_loss: 0.4031 - val_categorical_accuracy: 0.9054\n",
      "Epoch 93/100\n",
      "296/296 [==============================] - 1s 2ms/sample - loss: 0.1372 - categorical_accuracy: 0.9662 - val_loss: 0.3855 - val_categorical_accuracy: 0.9054\n",
      "Epoch 94/100\n",
      "296/296 [==============================] - 1s 2ms/sample - loss: 0.1699 - categorical_accuracy: 0.9527 - val_loss: 0.5639 - val_categorical_accuracy: 0.8108\n",
      "Epoch 95/100\n",
      "296/296 [==============================] - 1s 2ms/sample - loss: 0.2448 - categorical_accuracy: 0.9223 - val_loss: 0.6419 - val_categorical_accuracy: 0.7973\n",
      "Epoch 96/100\n",
      "296/296 [==============================] - 1s 2ms/sample - loss: 0.2883 - categorical_accuracy: 0.9054 - val_loss: 0.4739 - val_categorical_accuracy: 0.8649\n",
      "Epoch 97/100\n"
     ]
    },
    {
     "name": "stdout",
     "output_type": "stream",
     "text": [
      "296/296 [==============================] - 1s 2ms/sample - loss: 0.2181 - categorical_accuracy: 0.9358 - val_loss: 0.7653 - val_categorical_accuracy: 0.7297\n",
      "Epoch 98/100\n",
      "296/296 [==============================] - 1s 2ms/sample - loss: 0.1875 - categorical_accuracy: 0.9493 - val_loss: 0.6955 - val_categorical_accuracy: 0.7703\n",
      "Epoch 99/100\n",
      "296/296 [==============================] - 1s 2ms/sample - loss: 0.2136 - categorical_accuracy: 0.9291 - val_loss: 0.7891 - val_categorical_accuracy: 0.7838\n",
      "Epoch 100/100\n",
      "296/296 [==============================] - 1s 2ms/sample - loss: 0.2503 - categorical_accuracy: 0.9122 - val_loss: 1.0515 - val_categorical_accuracy: 0.7162\n"
     ]
    }
   ],
   "source": [
    "history_1 = model.fit(X_train, y_train, epochs=100, validation_split=0.2,callbacks=[tb_callback])"
   ]
  },
  {
   "cell_type": "code",
   "execution_count": 51,
   "metadata": {
    "id": "zq-zHsWWNpeq",
    "outputId": "88540019-2afe-497c-9c8a-621609b5f94c"
   },
   "outputs": [
    {
     "name": "stdout",
     "output_type": "stream",
     "text": [
      "Model: \"sequential\"\n",
      "_________________________________________________________________\n",
      "Layer (type)                 Output Shape              Param #   \n",
      "=================================================================\n",
      "gru (GRU)                    (None, 30, 128)           688128    \n",
      "_________________________________________________________________\n",
      "dropout (Dropout)            (None, 30, 128)           0         \n",
      "_________________________________________________________________\n",
      "gru_1 (GRU)                  (None, 30, 64)            37248     \n",
      "_________________________________________________________________\n",
      "dropout_1 (Dropout)          (None, 30, 64)            0         \n",
      "_________________________________________________________________\n",
      "gru_2 (GRU)                  (None, 32)                9408      \n",
      "_________________________________________________________________\n",
      "dense (Dense)                (None, 64)                2112      \n",
      "_________________________________________________________________\n",
      "batch_normalization (BatchNo (None, 64)                256       \n",
      "_________________________________________________________________\n",
      "dense_1 (Dense)              (None, 32)                2080      \n",
      "_________________________________________________________________\n",
      "dense_2 (Dense)              (None, 13)                429       \n",
      "=================================================================\n",
      "Total params: 739,661\n",
      "Trainable params: 739,533\n",
      "Non-trainable params: 128\n",
      "_________________________________________________________________\n"
     ]
    }
   ],
   "source": [
    "model.summary()"
   ]
  },
  {
   "cell_type": "code",
   "execution_count": 52,
   "metadata": {
    "scrolled": true
   },
   "outputs": [
    {
     "data": {
      "text/plain": [
       "{'loss': [2.8319912021224565,\n",
       "  2.680028296805717,\n",
       "  2.6699312828682564,\n",
       "  2.606444874325314,\n",
       "  2.4817476788082637,\n",
       "  2.35680243453464,\n",
       "  2.288707836254223,\n",
       "  2.25253811398068,\n",
       "  2.197579148653391,\n",
       "  2.1252618287060714,\n",
       "  2.0417692532410494,\n",
       "  1.995962432912878,\n",
       "  1.8890718253883156,\n",
       "  1.8514452012809548,\n",
       "  1.780344801980096,\n",
       "  1.7526377632811263,\n",
       "  1.739275262162492,\n",
       "  1.6158200695707992,\n",
       "  1.5537635377935461,\n",
       "  1.5257009589994275,\n",
       "  1.4686123873736407,\n",
       "  1.4474642212326463,\n",
       "  1.4048836650075138,\n",
       "  1.3693715978313137,\n",
       "  1.2250192133156028,\n",
       "  1.2102324962615967,\n",
       "  1.1995395035357088,\n",
       "  1.1754875022011835,\n",
       "  1.054587013012654,\n",
       "  0.9646709674113506,\n",
       "  0.9867893747381262,\n",
       "  0.9663326611389985,\n",
       "  0.9241894580222465,\n",
       "  0.7732800438597396,\n",
       "  0.8268504400511045,\n",
       "  0.9118692166096455,\n",
       "  1.0365709871859163,\n",
       "  0.915214441918038,\n",
       "  0.8756281298560065,\n",
       "  0.7668909962112839,\n",
       "  0.6860363644522589,\n",
       "  0.6793362498283386,\n",
       "  0.5985292937304523,\n",
       "  0.5731230209002623,\n",
       "  0.5170408688686989,\n",
       "  0.5435268709788451,\n",
       "  0.5142445306520205,\n",
       "  0.5026512870917449,\n",
       "  0.493265235746229,\n",
       "  0.6035350142298518,\n",
       "  0.566230973681888,\n",
       "  0.48955279749792974,\n",
       "  0.49812688537546107,\n",
       "  0.4346470856988752,\n",
       "  0.36148224811296203,\n",
       "  0.4212762125440546,\n",
       "  0.35010758606163234,\n",
       "  0.3977394393972448,\n",
       "  0.39426292599858465,\n",
       "  0.4141759509975846,\n",
       "  0.47086922542468923,\n",
       "  0.3960707799808399,\n",
       "  0.3236335483757225,\n",
       "  0.383613599313272,\n",
       "  0.4228751707721401,\n",
       "  0.5209387476379806,\n",
       "  0.4445027902319625,\n",
       "  0.3390316278547854,\n",
       "  0.28427190394014923,\n",
       "  0.2825675550344828,\n",
       "  0.3939568851445172,\n",
       "  0.3279294548807917,\n",
       "  0.30998661711409287,\n",
       "  0.3833909888525267,\n",
       "  0.5442736632115132,\n",
       "  0.3924095308458483,\n",
       "  0.3390294055680971,\n",
       "  0.41529013820596644,\n",
       "  0.48354498115745753,\n",
       "  0.38083932206437393,\n",
       "  0.3577962727160067,\n",
       "  0.2824389108934918,\n",
       "  0.27342135519594757,\n",
       "  0.35317039509882797,\n",
       "  0.30338419208655487,\n",
       "  0.2758410794509424,\n",
       "  0.2421303582755295,\n",
       "  0.21467483849138827,\n",
       "  0.1743092996043128,\n",
       "  0.21449039675093987,\n",
       "  0.16234854759799466,\n",
       "  0.19121100834092578,\n",
       "  0.13715666733883522,\n",
       "  0.169912562579722,\n",
       "  0.2447560671213511,\n",
       "  0.28831145892272125,\n",
       "  0.21810370925310496,\n",
       "  0.18747430959263364,\n",
       "  0.2135563823016914,\n",
       "  0.25028288847691305],\n",
       " 'categorical_accuracy': [0.04391892,\n",
       "  0.0777027,\n",
       "  0.091216214,\n",
       "  0.074324325,\n",
       "  0.11824324,\n",
       "  0.1858108,\n",
       "  0.2027027,\n",
       "  0.21621622,\n",
       "  0.21621622,\n",
       "  0.27027026,\n",
       "  0.2635135,\n",
       "  0.30743244,\n",
       "  0.3108108,\n",
       "  0.3412162,\n",
       "  0.38513514,\n",
       "  0.3918919,\n",
       "  0.4087838,\n",
       "  0.44256756,\n",
       "  0.48986486,\n",
       "  0.47635135,\n",
       "  0.48986486,\n",
       "  0.5236486,\n",
       "  0.5,\n",
       "  0.5202703,\n",
       "  0.5540541,\n",
       "  0.6081081,\n",
       "  0.5844595,\n",
       "  0.6081081,\n",
       "  0.6722973,\n",
       "  0.6925676,\n",
       "  0.6621622,\n",
       "  0.6891892,\n",
       "  0.6722973,\n",
       "  0.7635135,\n",
       "  0.7398649,\n",
       "  0.7027027,\n",
       "  0.625,\n",
       "  0.6993243,\n",
       "  0.75,\n",
       "  0.7635135,\n",
       "  0.7972973,\n",
       "  0.7939189,\n",
       "  0.7939189,\n",
       "  0.8445946,\n",
       "  0.8581081,\n",
       "  0.8243243,\n",
       "  0.8378378,\n",
       "  0.8445946,\n",
       "  0.8175676,\n",
       "  0.7972973,\n",
       "  0.8209459,\n",
       "  0.8547297,\n",
       "  0.8412162,\n",
       "  0.8682432,\n",
       "  0.9155405,\n",
       "  0.875,\n",
       "  0.902027,\n",
       "  0.8885135,\n",
       "  0.875,\n",
       "  0.8614865,\n",
       "  0.8344595,\n",
       "  0.8682432,\n",
       "  0.8952703,\n",
       "  0.8682432,\n",
       "  0.8513514,\n",
       "  0.8108108,\n",
       "  0.8648649,\n",
       "  0.8986486,\n",
       "  0.9054054,\n",
       "  0.8986486,\n",
       "  0.8716216,\n",
       "  0.8851351,\n",
       "  0.8817568,\n",
       "  0.8716216,\n",
       "  0.8141892,\n",
       "  0.8716216,\n",
       "  0.8885135,\n",
       "  0.8513514,\n",
       "  0.8277027,\n",
       "  0.8581081,\n",
       "  0.9121622,\n",
       "  0.9290541,\n",
       "  0.8952703,\n",
       "  0.8682432,\n",
       "  0.8952703,\n",
       "  0.9121622,\n",
       "  0.9256757,\n",
       "  0.9256757,\n",
       "  0.9425676,\n",
       "  0.9256757,\n",
       "  0.9662162,\n",
       "  0.9358108,\n",
       "  0.9662162,\n",
       "  0.9527027,\n",
       "  0.9222973,\n",
       "  0.9054054,\n",
       "  0.9358108,\n",
       "  0.9493243,\n",
       "  0.9290541,\n",
       "  0.9121622],\n",
       " 'val_loss': [2.5470136307381295,\n",
       "  2.5090266691671834,\n",
       "  2.5079933050516487,\n",
       "  2.4951028952727445,\n",
       "  2.4486000988934493,\n",
       "  2.4290390079085893,\n",
       "  2.4013046058448584,\n",
       "  2.3787311992129765,\n",
       "  2.364566996290877,\n",
       "  2.270065314060933,\n",
       "  2.257184801874934,\n",
       "  2.2340436303937756,\n",
       "  2.2068735328880518,\n",
       "  2.153480542672647,\n",
       "  2.0551703105101713,\n",
       "  2.1953415741791598,\n",
       "  1.9594974485603538,\n",
       "  1.917879446132763,\n",
       "  2.2403688624098494,\n",
       "  1.7823498893428493,\n",
       "  1.759463761303876,\n",
       "  1.771920336259378,\n",
       "  2.5835048056937553,\n",
       "  1.7072618587596997,\n",
       "  1.5630895737055186,\n",
       "  2.01446516449387,\n",
       "  1.591601056021613,\n",
       "  1.3195896084244187,\n",
       "  1.470551390905638,\n",
       "  1.4664885772241127,\n",
       "  1.2865191166465346,\n",
       "  1.3058247147379696,\n",
       "  1.1313943089665592,\n",
       "  1.1638493022403202,\n",
       "  1.488335963842031,\n",
       "  1.9288706199542895,\n",
       "  1.5093151153744877,\n",
       "  1.1460303970285364,\n",
       "  1.2488941373051823,\n",
       "  1.4780958214321651,\n",
       "  1.4264911638723838,\n",
       "  1.1731077416523084,\n",
       "  1.412932444263149,\n",
       "  1.0660025654612362,\n",
       "  0.9120566297221828,\n",
       "  0.8381711067380132,\n",
       "  0.9843991124952162,\n",
       "  0.976964304576049,\n",
       "  1.3402119520548228,\n",
       "  0.741153280477266,\n",
       "  1.7511913840835158,\n",
       "  1.692846707395605,\n",
       "  0.8362737410777324,\n",
       "  0.6753692385312673,\n",
       "  0.8627489386378108,\n",
       "  0.6961042429949786,\n",
       "  0.739628469621813,\n",
       "  1.2620507897557438,\n",
       "  1.5892580908698004,\n",
       "  0.6532680794999406,\n",
       "  1.7370488708083693,\n",
       "  0.4716370524586858,\n",
       "  0.7627434343905062,\n",
       "  0.8628371728433145,\n",
       "  1.3011232066798855,\n",
       "  2.542754650115967,\n",
       "  1.209398553178117,\n",
       "  0.6773212519851891,\n",
       "  0.4557951668629775,\n",
       "  1.058560680698704,\n",
       "  1.164789225604083,\n",
       "  1.2991240411191374,\n",
       "  1.2501578717618376,\n",
       "  2.333996650334951,\n",
       "  1.0526253581047058,\n",
       "  0.9938088558815621,\n",
       "  1.2805321732082882,\n",
       "  1.4509256079390243,\n",
       "  1.272598105507928,\n",
       "  2.3961704904968673,\n",
       "  1.5132050127596468,\n",
       "  1.2326598231856887,\n",
       "  0.5652443682019775,\n",
       "  1.053844680657258,\n",
       "  1.074490711495683,\n",
       "  1.2165950665602814,\n",
       "  0.39624277925169143,\n",
       "  0.5435117374400835,\n",
       "  1.2528875164083533,\n",
       "  0.5750484482662098,\n",
       "  0.34702592645142527,\n",
       "  0.40314146956881963,\n",
       "  0.38546525626569184,\n",
       "  0.5638978030230548,\n",
       "  0.6418644238162685,\n",
       "  0.4739062818321022,\n",
       "  0.7652960790170206,\n",
       "  0.6954698401528436,\n",
       "  0.7890521336246181,\n",
       "  1.0514778172647632],\n",
       " 'val_categorical_accuracy': [0.054054055,\n",
       "  0.10810811,\n",
       "  0.10810811,\n",
       "  0.08108108,\n",
       "  0.16216215,\n",
       "  0.17567568,\n",
       "  0.17567568,\n",
       "  0.16216215,\n",
       "  0.16216215,\n",
       "  0.22972973,\n",
       "  0.16216215,\n",
       "  0.24324325,\n",
       "  0.1891892,\n",
       "  0.24324325,\n",
       "  0.3243243,\n",
       "  0.1891892,\n",
       "  0.27027026,\n",
       "  0.33783785,\n",
       "  0.24324325,\n",
       "  0.3108108,\n",
       "  0.3243243,\n",
       "  0.4054054,\n",
       "  0.16216215,\n",
       "  0.35135135,\n",
       "  0.47297296,\n",
       "  0.21621622,\n",
       "  0.4054054,\n",
       "  0.527027,\n",
       "  0.47297296,\n",
       "  0.4189189,\n",
       "  0.4864865,\n",
       "  0.5675676,\n",
       "  0.6756757,\n",
       "  0.6486486,\n",
       "  0.4864865,\n",
       "  0.43243244,\n",
       "  0.45945945,\n",
       "  0.5675676,\n",
       "  0.5810811,\n",
       "  0.3783784,\n",
       "  0.47297296,\n",
       "  0.6486486,\n",
       "  0.5405405,\n",
       "  0.7162162,\n",
       "  0.6891892,\n",
       "  0.7837838,\n",
       "  0.6621622,\n",
       "  0.6216216,\n",
       "  0.527027,\n",
       "  0.6891892,\n",
       "  0.3918919,\n",
       "  0.4189189,\n",
       "  0.7027027,\n",
       "  0.8513514,\n",
       "  0.7837838,\n",
       "  0.7837838,\n",
       "  0.7162162,\n",
       "  0.5810811,\n",
       "  0.5405405,\n",
       "  0.7972973,\n",
       "  0.5675676,\n",
       "  0.8648649,\n",
       "  0.7162162,\n",
       "  0.7162162,\n",
       "  0.6486486,\n",
       "  0.25675675,\n",
       "  0.5135135,\n",
       "  0.7567568,\n",
       "  0.8783784,\n",
       "  0.7162162,\n",
       "  0.5945946,\n",
       "  0.5675676,\n",
       "  0.5675676,\n",
       "  0.4054054,\n",
       "  0.5945946,\n",
       "  0.6486486,\n",
       "  0.6216216,\n",
       "  0.5810811,\n",
       "  0.6486486,\n",
       "  0.2972973,\n",
       "  0.5,\n",
       "  0.527027,\n",
       "  0.7432432,\n",
       "  0.5675676,\n",
       "  0.6621622,\n",
       "  0.6351351,\n",
       "  0.9054054,\n",
       "  0.8648649,\n",
       "  0.7297297,\n",
       "  0.7972973,\n",
       "  0.9189189,\n",
       "  0.9054054,\n",
       "  0.9054054,\n",
       "  0.8108108,\n",
       "  0.7972973,\n",
       "  0.8648649,\n",
       "  0.7297297,\n",
       "  0.7702703,\n",
       "  0.7837838,\n",
       "  0.7162162]}"
      ]
     },
     "execution_count": 52,
     "metadata": {},
     "output_type": "execute_result"
    }
   ],
   "source": [
    "history_1.history"
   ]
  },
  {
   "cell_type": "markdown",
   "metadata": {
    "id": "KkDEahmBNpeq"
   },
   "source": [
    "# 8. Make Predictions"
   ]
  },
  {
   "cell_type": "code",
   "execution_count": 53,
   "metadata": {
    "id": "Eyqfr0ghNpeq"
   },
   "outputs": [],
   "source": [
    "res = model.predict(X_test)"
   ]
  },
  {
   "cell_type": "code",
   "execution_count": 54,
   "metadata": {
    "id": "0BxKrGeoNpeq",
    "outputId": "2f9a72fa-e192-4cfd-9356-f65f4e48d771"
   },
   "outputs": [
    {
     "data": {
      "text/plain": [
       "'phonecall'"
      ]
     },
     "execution_count": 54,
     "metadata": {},
     "output_type": "execute_result"
    }
   ],
   "source": [
    "actions[np.argmax(res[1])]"
   ]
  },
  {
   "cell_type": "code",
   "execution_count": 55,
   "metadata": {
    "id": "BunfrWjONper",
    "outputId": "5daa9b94-cbf3-4752-e930-01a72bdcfe80"
   },
   "outputs": [
    {
     "data": {
      "text/plain": [
       "'like'"
      ]
     },
     "execution_count": 55,
     "metadata": {},
     "output_type": "execute_result"
    }
   ],
   "source": [
    "actions[np.argmax(y_test[1])]"
   ]
  },
  {
   "cell_type": "markdown",
   "metadata": {
    "id": "8--O9oJ2Nper"
   },
   "source": [
    "# 9. Save Weights"
   ]
  },
  {
   "cell_type": "code",
   "execution_count": 56,
   "metadata": {
    "id": "v3lOguNZNper"
   },
   "outputs": [],
   "source": [
    "model.save('actionGRU.h5')"
   ]
  },
  {
   "cell_type": "code",
   "execution_count": 57,
   "metadata": {
    "id": "p1xfdxx3Nper"
   },
   "outputs": [],
   "source": [
    "#model.load_weights('actionGRU.h5')"
   ]
  },
  {
   "cell_type": "markdown",
   "metadata": {
    "id": "mhnEgOINNper"
   },
   "source": [
    "# 10. Evaluation using Confusion Matrix and Accuracy"
   ]
  },
  {
   "cell_type": "code",
   "execution_count": 58,
   "metadata": {
    "id": "oFK3D4vlNper"
   },
   "outputs": [],
   "source": [
    "from sklearn.metrics import multilabel_confusion_matrix, accuracy_score,classification_report"
   ]
  },
  {
   "cell_type": "code",
   "execution_count": 59,
   "metadata": {
    "id": "iiZC3wJZNper"
   },
   "outputs": [],
   "source": [
    "yhat = model.predict(X_test)"
   ]
  },
  {
   "cell_type": "code",
   "execution_count": 60,
   "metadata": {
    "id": "PpMGixZHNpes"
   },
   "outputs": [],
   "source": [
    "ytrue = np.argmax(y_test, axis=1).tolist()\n",
    "yhat = np.argmax(yhat, axis=1).tolist()"
   ]
  },
  {
   "cell_type": "code",
   "execution_count": 61,
   "metadata": {
    "id": "9NcQZEZlNpes",
    "outputId": "3df27c75-b6db-4e8f-f121-51d974e55443"
   },
   "outputs": [
    {
     "data": {
      "text/plain": [
       "array([[[19,  0],\n",
       "        [ 0,  1]],\n",
       "\n",
       "       [[15,  2],\n",
       "        [ 0,  3]],\n",
       "\n",
       "       [[15,  5],\n",
       "        [ 0,  0]],\n",
       "\n",
       "       [[17,  0],\n",
       "        [ 1,  2]],\n",
       "\n",
       "       [[18,  0],\n",
       "        [ 1,  1]],\n",
       "\n",
       "       [[17,  1],\n",
       "        [ 0,  2]],\n",
       "\n",
       "       [[16,  0],\n",
       "        [ 4,  0]],\n",
       "\n",
       "       [[19,  0],\n",
       "        [ 0,  1]],\n",
       "\n",
       "       [[16,  0],\n",
       "        [ 2,  2]]], dtype=int64)"
      ]
     },
     "execution_count": 61,
     "metadata": {},
     "output_type": "execute_result"
    }
   ],
   "source": [
    "multilabel_confusion_matrix(ytrue, yhat)"
   ]
  },
  {
   "cell_type": "code",
   "execution_count": 62,
   "metadata": {},
   "outputs": [
    {
     "ename": "NameError",
     "evalue": "name 'metrics' is not defined",
     "output_type": "error",
     "traceback": [
      "\u001b[1;31m---------------------------------------------------------------------------\u001b[0m",
      "\u001b[1;31mNameError\u001b[0m                                 Traceback (most recent call last)",
      "\u001b[1;32m~\\AppData\\Local\\Temp/ipykernel_39400/179395785.py\u001b[0m in \u001b[0;36m<module>\u001b[1;34m\u001b[0m\n\u001b[1;32m----> 1\u001b[1;33m \u001b[0mdisp\u001b[0m \u001b[1;33m=\u001b[0m \u001b[0mmetrics\u001b[0m\u001b[1;33m.\u001b[0m\u001b[0mConfusionMatrixDisplay\u001b[0m\u001b[1;33m.\u001b[0m\u001b[0mfrom_predictions\u001b[0m\u001b[1;33m(\u001b[0m\u001b[0mytrue\u001b[0m\u001b[1;33m,\u001b[0m \u001b[0myhat\u001b[0m\u001b[1;33m)\u001b[0m\u001b[1;33m\u001b[0m\u001b[1;33m\u001b[0m\u001b[0m\n\u001b[0m\u001b[0;32m      2\u001b[0m \u001b[0mdisp\u001b[0m\u001b[1;33m.\u001b[0m\u001b[0mfigure_\u001b[0m\u001b[1;33m.\u001b[0m\u001b[0msuptitle\u001b[0m\u001b[1;33m(\u001b[0m\u001b[1;34m\"Confusion Matrix\"\u001b[0m\u001b[1;33m)\u001b[0m\u001b[1;33m\u001b[0m\u001b[1;33m\u001b[0m\u001b[0m\n\u001b[0;32m      3\u001b[0m \u001b[0mprint\u001b[0m\u001b[1;33m(\u001b[0m\u001b[1;34mf\"Confusion matrix:\\n{disp.confusion_matrix}\"\u001b[0m\u001b[1;33m)\u001b[0m\u001b[1;33m\u001b[0m\u001b[1;33m\u001b[0m\u001b[0m\n\u001b[0;32m      4\u001b[0m \u001b[1;33m\u001b[0m\u001b[0m\n\u001b[0;32m      5\u001b[0m \u001b[0mplt\u001b[0m\u001b[1;33m.\u001b[0m\u001b[0mshow\u001b[0m\u001b[1;33m(\u001b[0m\u001b[1;33m)\u001b[0m\u001b[1;33m\u001b[0m\u001b[1;33m\u001b[0m\u001b[0m\n",
      "\u001b[1;31mNameError\u001b[0m: name 'metrics' is not defined"
     ]
    }
   ],
   "source": [
    "disp = metrics.ConfusionMatrixDisplay.from_predictions(ytrue, yhat)\n",
    "disp.figure_.suptitle(\"Confusion Matrix\")\n",
    "print(f\"Confusion matrix:\\n{disp.confusion_matrix}\")\n",
    "\n",
    "plt.show()"
   ]
  },
  {
   "cell_type": "code",
   "execution_count": 63,
   "metadata": {
    "id": "dkPBKNPcNpes",
    "outputId": "5503940c-2ba9-4b89-f038-48b5b3dc8187"
   },
   "outputs": [
    {
     "data": {
      "text/plain": [
       "0.6"
      ]
     },
     "execution_count": 63,
     "metadata": {},
     "output_type": "execute_result"
    }
   ],
   "source": [
    "accuracy_score(ytrue, yhat)"
   ]
  },
  {
   "cell_type": "code",
   "execution_count": 64,
   "metadata": {},
   "outputs": [],
   "source": [
    "from sklearn import metrics"
   ]
  },
  {
   "cell_type": "code",
   "execution_count": 65,
   "metadata": {},
   "outputs": [
    {
     "name": "stdout",
     "output_type": "stream",
     "text": [
      "Classification report for Sign Gestures \n",
      "              precision    recall  f1-score   support\n",
      "\n",
      "           0       1.00      1.00      1.00         1\n",
      "           1       0.60      1.00      0.75         3\n",
      "           3       0.00      0.00      0.00         0\n",
      "           5       1.00      0.67      0.80         3\n",
      "           6       1.00      0.50      0.67         2\n",
      "           8       0.67      1.00      0.80         2\n",
      "           9       0.00      0.00      0.00         4\n",
      "          10       1.00      1.00      1.00         1\n",
      "          12       1.00      0.50      0.67         4\n",
      "\n",
      "    accuracy                           0.60        20\n",
      "   macro avg       0.70      0.63      0.63        20\n",
      "weighted avg       0.71      0.60      0.61        20\n",
      "\n",
      "\n"
     ]
    },
    {
     "name": "stderr",
     "output_type": "stream",
     "text": [
      "C:\\Users\\Lab\\AppData\\Roaming\\Python\\Python38\\site-packages\\sklearn\\metrics\\_classification.py:1221: UndefinedMetricWarning: Precision and F-score are ill-defined and being set to 0.0 in labels with no predicted samples. Use `zero_division` parameter to control this behavior.\n",
      "  _warn_prf(average, modifier, msg_start, len(result))\n",
      "C:\\Users\\Lab\\AppData\\Roaming\\Python\\Python38\\site-packages\\sklearn\\metrics\\_classification.py:1221: UndefinedMetricWarning: Recall and F-score are ill-defined and being set to 0.0 in labels with no true samples. Use `zero_division` parameter to control this behavior.\n",
      "  _warn_prf(average, modifier, msg_start, len(result))\n"
     ]
    }
   ],
   "source": [
    "print(f\"Classification report for Sign Gestures \\n\"\n",
    "      f\"{metrics.classification_report(ytrue, yhat)}\\n\")"
   ]
  },
  {
   "cell_type": "code",
   "execution_count": 66,
   "metadata": {},
   "outputs": [
    {
     "data": {
      "image/png": "[encoded data removed]",
      "text/plain": [
       "<Figure size 936x936 with 2 Axes>"
      ]
     },
     "metadata": {
      "needs_background": "light"
     },
     "output_type": "display_data"
    }
   ],
   "source": [
    "acc = history_1.history['categorical_accuracy']\n",
    "val_acc = history_1.history['val_categorical_accuracy']\n",
    "\n",
    "loss = history_1.history['loss']\n",
    "val_loss = history_1.history['val_loss']\n",
    "\n",
    "\n",
    "plt.figure(figsize=(13, 13))\n",
    "plt.subplot(2, 1, 2)\n",
    "plt.plot(acc,'-b*', label='Training Accuracy')\n",
    "plt.plot(val_acc,'-r*', label='Validation Accuracy')\n",
    "plt.legend(loc='lower right')\n",
    "plt.ylabel('Accuracy')\n",
    "plt.ylim([min(plt.ylim()),1])\n",
    "plt.title('Training and Validation Accuracy')\n",
    "\n",
    "plt.subplot(2, 1, 1)\n",
    "plt.plot(loss,'-b*', label='Training Loss')\n",
    "plt.plot(val_loss,'-r*', label='Validation Loss')\n",
    "plt.legend(loc='upper right')\n",
    "plt.ylabel('Cross Entropy')\n",
    "plt.ylim([0,3.0])\n",
    "plt.title('Training and Validation Loss')\n",
    "plt.xlabel('epoch')\n",
    "plt.show()\n",
    "\n",
    "\n"
   ]
  },
  {
   "cell_type": "code",
   "execution_count": 67,
   "metadata": {},
   "outputs": [],
   "source": [
    "from sklearn.metrics import r2_score"
   ]
  },
  {
   "cell_type": "code",
   "execution_count": 68,
   "metadata": {},
   "outputs": [
    {
     "data": {
      "text/plain": [
       "-0.3557046979865772"
      ]
     },
     "execution_count": 68,
     "metadata": {},
     "output_type": "execute_result"
    }
   ],
   "source": [
    "r2_score(ytrue, yhat)"
   ]
  },
  {
   "cell_type": "code",
   "execution_count": 69,
   "metadata": {},
   "outputs": [],
   "source": [
    "from sklearn.metrics import mean_squared_error"
   ]
  },
  {
   "cell_type": "code",
   "execution_count": 70,
   "metadata": {},
   "outputs": [
    {
     "data": {
      "text/plain": [
       "20.2"
      ]
     },
     "execution_count": 70,
     "metadata": {},
     "output_type": "execute_result"
    }
   ],
   "source": [
    "mean_squared_error(ytrue, yhat)"
   ]
  },
  {
   "cell_type": "code",
   "execution_count": 71,
   "metadata": {},
   "outputs": [],
   "source": [
    "from sklearn.metrics import mean_absolute_error"
   ]
  },
  {
   "cell_type": "code",
   "execution_count": 72,
   "metadata": {},
   "outputs": [
    {
     "data": {
      "text/plain": [
       "2.6"
      ]
     },
     "execution_count": 72,
     "metadata": {},
     "output_type": "execute_result"
    }
   ],
   "source": [
    "mean_absolute_error(ytrue, yhat)"
   ]
  },
  {
   "cell_type": "code",
   "execution_count": 73,
   "metadata": {},
   "outputs": [
    {
     "name": "stdout",
     "output_type": "stream",
     "text": [
      "Evaluate on test data\n",
      "test loss, test acc: [1.8083442449569702, 0.6]\n"
     ]
    }
   ],
   "source": [
    "print(\"Evaluate on test data\")\n",
    "results = model.evaluate(X_test, y_test, batch_size=128)\n",
    "print(\"test loss, test acc:\", results)"
   ]
  },
  {
   "cell_type": "code",
   "execution_count": null,
   "metadata": {},
   "outputs": [],
   "source": []
  },
  {
   "cell_type": "code",
   "execution_count": null,
   "metadata": {},
   "outputs": [],
   "source": []
  },
  {
   "cell_type": "markdown",
   "metadata": {
    "id": "Hnexx703Npes"
   },
   "source": [
    "# 11. Test in Real Time"
   ]
  },
  {
   "cell_type": "code",
   "execution_count": null,
   "metadata": {
    "id": "fPWNyv8BNpes"
   },
   "outputs": [],
   "source": [
    "from scipy import stats"
   ]
  },
  {
   "cell_type": "code",
   "execution_count": null,
   "metadata": {
    "id": "TgTTp-jKNpes"
   },
   "outputs": [],
   "source": [
    "colors = [(245,117,16), (117,245,16), (16,117,245),(245,117,16), (117,245,16), (16,117,245),(245,117,16), (117,245,16), (16,117,245),(245,117,16), (117,245,16), (16,117,245),(245,117,16)]\n",
    "# def prob_viz(res, actions, input_frame, colors):\n",
    "#     output_frame = input_frame.copy()\n",
    "#     for num, prob in enumerate(res):\n",
    "#         cv2.rectangle(output_frame, (0,60+num*40), (int(prob*100), 90+num*40), colors[num], -1)\n",
    "#         cv2.putText(output_frame, actions[num], (0, 85+num*40), cv2.FONT_HERSHEY_SIMPLEX, 1, (255,255,255), 2, cv2.LINE_AA)\n",
    "        \n",
    "#     return output_frame"
   ]
  },
  {
   "cell_type": "code",
   "execution_count": null,
   "metadata": {
    "id": "qs8rMq3kNpet",
    "outputId": "70cf5063-0f4f-4c42-ab77-1acd805779f0"
   },
   "outputs": [],
   "source": [
    "# plt.figure(figsize=(18,18))\n",
    "# plt.imshow(prob_viz(res, actions, image, colors))"
   ]
  },
  {
   "cell_type": "code",
   "execution_count": null,
   "metadata": {
    "id": "EG2mxWAzPRqa",
    "scrolled": true
   },
   "outputs": [],
   "source": [
    "# 1. New detection variables\n",
    "sequence = []\n",
    "sentence = []\n",
    "predictions = []\n",
    "threshold = 0.5\n",
    "\n",
    "cap = cv2.VideoCapture(0)\n",
    "# Set mediapipe model \n",
    "with mp_holistic.Holistic(min_detection_confidence=0.5, min_tracking_confidence=0.5) as holistic:\n",
    "    while cap.isOpened():\n",
    "\n",
    "        # Read feed\n",
    "        ret, frame = cap.read()\n",
    "\n",
    "        # Make detections\n",
    "        image, results = mediapipe_detection(frame, holistic)\n",
    "        print(results)\n",
    "        \n",
    "        # Draw landmarks\n",
    "        draw_styled_landmarks(image, results)\n",
    "        \n",
    "        # 2. Prediction logic\n",
    "        keypoints = extract_keypoints(results)\n",
    "        sequence.append(keypoints)\n",
    "        sequence = sequence[-30:]\n",
    "        \n",
    "        if len(sequence) == 30:\n",
    "            res = model.predict(np.expand_dims(sequence, axis=0))[0]\n",
    "            print(actions[np.argmax(res)])\n",
    "            \n",
    "            if res[np.argmax(res)] > threshold:\n",
    "                if len(sentence) > 0:\n",
    "                    if actions[np.argmax(res)] != sentence[-1]:\n",
    "                        sentence.append(actions[np.argmax(res)])\n",
    "                else:\n",
    "                    sentence.append(actions[np.argmax(res)])\n",
    "\n",
    "            if len(sentence) > 5:\n",
    "                sentence = sentence[-5:]\n",
    "\n",
    "            # Viz probabilities\n",
    "            #image = prob_viz(res, actions, image, colors)\n",
    "            \n",
    "        cv2.rectangle(image, (0,0), (640, 40), (245, 117, 16), -1)\n",
    "        cv2.putText(image, ' '.join(sentence), (3,30), \n",
    "                       cv2.FONT_HERSHEY_SIMPLEX, 1, (255, 255, 255), 2, cv2.LINE_AA)\n",
    "        \n",
    "        # Show to screen\n",
    "        cv2.imshow('OpenCV Feed', image)\n",
    "\n",
    "        # Break gracefully\n",
    "        if cv2.waitKey(10) & 0xFF == ord('q'):\n",
    "            break\n",
    "    cap.release()\n",
    "    cv2.destroyAllWindows()"
   ]
  },
  {
   "cell_type": "markdown",
   "metadata": {},
   "source": [
    "# Evaluation with LSTM"
   ]
  },
  {
   "cell_type": "code",
   "execution_count": 74,
   "metadata": {},
   "outputs": [],
   "source": [
    "from tensorflow.keras.models import Sequential\n",
    "from tensorflow.keras.layers import LSTM, Dense, Dropout, BatchNormalization\n",
    "from tensorflow.keras.callbacks import TensorBoard"
   ]
  },
  {
   "cell_type": "code",
   "execution_count": 75,
   "metadata": {},
   "outputs": [],
   "source": [
    "log_dir = os.path.join('Logs2_LSTM')\n",
    "tb_callback = TensorBoard(log_dir=log_dir)"
   ]
  },
  {
   "cell_type": "code",
   "execution_count": 76,
   "metadata": {},
   "outputs": [],
   "source": [
    "model = Sequential()\n",
    "model.add(LSTM(128, return_sequences=True, activation='elu', input_shape=(30,1662)))\n",
    "model.add(Dropout(0.2))\n",
    "model.add(LSTM(64, return_sequences=True, activation='tanh'))\n",
    "model.add(Dropout(0.3))\n",
    "model.add(LSTM(32, return_sequences=False, activation='tanh'))\n",
    "model.add(Dense(64, activation='tanh'))\n",
    "model.add(BatchNormalization())\n",
    "model.add(Dense(32, activation='relu'))\n",
    "model.add(Dense(actions.shape[0], activation='softmax'))"
   ]
  },
  {
   "cell_type": "code",
   "execution_count": 77,
   "metadata": {},
   "outputs": [],
   "source": [
    "model.compile(optimizer='Adam', loss='categorical_crossentropy', metrics=['categorical_accuracy'])\n"
   ]
  },
  {
   "cell_type": "code",
   "execution_count": null,
   "metadata": {},
   "outputs": [],
   "source": [
    "history_2 = model.fit(X_train, y_train, epochs=100, validation_split=0.2,callbacks=[tb_callback])\n",
    "#_, accuracy = model.evaluate(X_test, y_test,epochs=100, validation_split=0.2,callbacks=[tb_callback])"
   ]
  },
  {
   "cell_type": "code",
   "execution_count": null,
   "metadata": {},
   "outputs": [],
   "source": [
    "model.summary()"
   ]
  },
  {
   "cell_type": "code",
   "execution_count": null,
   "metadata": {},
   "outputs": [],
   "source": [
    "res = model.predict(X_test)"
   ]
  },
  {
   "cell_type": "code",
   "execution_count": null,
   "metadata": {},
   "outputs": [],
   "source": [
    "actions[np.argmax(res[1])]"
   ]
  },
  {
   "cell_type": "code",
   "execution_count": null,
   "metadata": {},
   "outputs": [],
   "source": [
    "actions[np.argmax(y_test[1])]"
   ]
  },
  {
   "cell_type": "code",
   "execution_count": null,
   "metadata": {},
   "outputs": [],
   "source": [
    "from sklearn.metrics import multilabel_confusion_matrix, accuracy_score,classification_report"
   ]
  },
  {
   "cell_type": "code",
   "execution_count": null,
   "metadata": {},
   "outputs": [],
   "source": [
    "yhat = model.predict(X_test)"
   ]
  },
  {
   "cell_type": "code",
   "execution_count": null,
   "metadata": {},
   "outputs": [],
   "source": [
    "ytrue = np.argmax(y_test, axis=1).tolist()\n",
    "yhat = np.argmax(yhat, axis=1).tolist()"
   ]
  },
  {
   "cell_type": "code",
   "execution_count": null,
   "metadata": {},
   "outputs": [],
   "source": [
    "multilabel_confusion_matrix(ytrue, yhat)"
   ]
  },
  {
   "cell_type": "code",
   "execution_count": null,
   "metadata": {},
   "outputs": [],
   "source": [
    "accuracy_score(ytrue, yhat)"
   ]
  },
  {
   "cell_type": "code",
   "execution_count": null,
   "metadata": {},
   "outputs": [],
   "source": [
    "from sklearn import metrics"
   ]
  },
  {
   "cell_type": "code",
   "execution_count": null,
   "metadata": {},
   "outputs": [],
   "source": [
    "print(f\"Classification report for Sign Gestures \\n\"\n",
    "      f\"{metrics.classification_report(ytrue, yhat)}\\n\")"
   ]
  },
  {
   "cell_type": "code",
   "execution_count": null,
   "metadata": {},
   "outputs": [],
   "source": [
    "acc = history_2.history['categorical_accuracy']\n",
    "val_acc = history_2.history['val_categorical_accuracy']\n",
    "\n",
    "loss = history_2.history['loss']\n",
    "val_loss = history_2.history['val_loss']\n",
    "\n",
    "plt.figure(figsize=(13, 13))\n",
    "plt.subplot(2, 1, 2)\n",
    "plt.plot(acc,'-b*', label='Training Accuracy')\n",
    "plt.plot(val_acc,'-r*', label='Validation Accuracy')\n",
    "plt.legend(loc='lower right')\n",
    "plt.ylabel('Accuracy')\n",
    "plt.ylim([min(plt.ylim()),1])\n",
    "plt.title('Training and Validation Accuracy')\n",
    "\n",
    "plt.subplot(2, 1, 1)\n",
    "plt.plot(loss,'-b*', label='Training Loss')\n",
    "plt.plot(val_loss,'-r*', label='Validation Loss')\n",
    "plt.legend(loc='upper right')\n",
    "plt.ylabel('Cross Entropy')\n",
    "plt.ylim([0,3.0])\n",
    "plt.title('Training and Validation Loss')\n",
    "plt.xlabel('epoch')\n",
    "plt.show()\n",
    "\n",
    "\n"
   ]
  },
  {
   "cell_type": "code",
   "execution_count": null,
   "metadata": {},
   "outputs": [],
   "source": [
    "from sklearn.metrics import r2_score"
   ]
  },
  {
   "cell_type": "code",
   "execution_count": null,
   "metadata": {},
   "outputs": [],
   "source": [
    "r2_score(ytrue, yhat)"
   ]
  },
  {
   "cell_type": "code",
   "execution_count": null,
   "metadata": {},
   "outputs": [],
   "source": [
    "from sklearn.metrics import mean_squared_error"
   ]
  },
  {
   "cell_type": "code",
   "execution_count": null,
   "metadata": {},
   "outputs": [],
   "source": [
    "mean_squared_error(ytrue, yhat)"
   ]
  },
  {
   "cell_type": "code",
   "execution_count": null,
   "metadata": {},
   "outputs": [],
   "source": [
    "from sklearn.metrics import mean_absolute_error"
   ]
  },
  {
   "cell_type": "code",
   "execution_count": null,
   "metadata": {},
   "outputs": [],
   "source": [
    "mean_absolute_error(ytrue, yhat)"
   ]
  },
  {
   "cell_type": "code",
   "execution_count": null,
   "metadata": {},
   "outputs": [],
   "source": [
    "print(\"Evaluate on test data\")\n",
    "results = model.evaluate(X_test, y_test, batch_size=128)\n",
    "print(\"test loss, test acc:\", results)"
   ]
  },
  {
   "cell_type": "markdown",
   "metadata": {},
   "source": [
    "# Evaluation with SimpleRNN"
   ]
  },
  {
   "cell_type": "code",
   "execution_count": 78,
   "metadata": {},
   "outputs": [],
   "source": [
    "from tensorflow.keras.models import Sequential\n",
    "from tensorflow.keras.layers import SimpleRNN, Dense, Dropout, BatchNormalization\n",
    "from tensorflow.keras.callbacks import TensorBoard"
   ]
  },
  {
   "cell_type": "code",
   "execution_count": 79,
   "metadata": {},
   "outputs": [],
   "source": [
    "log_dir = os.path.join('Logs3_RNN')\n",
    "tb_callback = TensorBoard(log_dir=log_dir)"
   ]
  },
  {
   "cell_type": "code",
   "execution_count": 80,
   "metadata": {},
   "outputs": [],
   "source": [
    "model = Sequential()\n",
    "model.add(SimpleRNN(64, return_sequences=True, activation='elu', input_shape=(30,1662)))\n",
    "model.add(Dropout(0.2))\n",
    "model.add(SimpleRNN(128, return_sequences=True, activation='tanh'))\n",
    "model.add(Dropout(0.3))\n",
    "model.add(SimpleRNN(64, return_sequences=False, activation='tanh'))\n",
    "model.add(Dense(64, activation='relu'))\n",
    "model.add(BatchNormalization())\n",
    "model.add(Dense(32, activation='relu'))\n",
    "model.add(Dense(actions.shape[0], activation='softmax'))"
   ]
  },
  {
   "cell_type": "code",
   "execution_count": 81,
   "metadata": {},
   "outputs": [],
   "source": [
    "model.compile(optimizer='Adamax', loss='categorical_crossentropy', metrics=['categorical_accuracy'])"
   ]
  },
  {
   "cell_type": "code",
   "execution_count": 82,
   "metadata": {},
   "outputs": [
    {
     "name": "stdout",
     "output_type": "stream",
     "text": [
      "Train on 296 samples, validate on 74 samples\n",
      "Epoch 1/100\n",
      "288/296 [============================>.] - ETA: 0s - loss: 2.8613 - categorical_accuracy: 0.0590"
     ]
    },
    {
     "name": "stderr",
     "output_type": "stream",
     "text": [
      "C:\\Users\\Lab\\AppData\\Roaming\\Python\\Python38\\site-packages\\tensorflow\\python\\keras\\engine\\training.py:2325: UserWarning: `Model.state_updates` will be removed in a future version. This property should not be used in TensorFlow 2.0, as `updates` are applied automatically.\n",
      "  warnings.warn('`Model.state_updates` will be removed in a future version. '\n"
     ]
    },
    {
     "name": "stdout",
     "output_type": "stream",
     "text": [
      "296/296 [==============================] - 1s 4ms/sample - loss: 2.8649 - categorical_accuracy: 0.0608 - val_loss: 2.5884 - val_categorical_accuracy: 0.1081\n",
      "Epoch 2/100\n",
      "296/296 [==============================] - 0s 947us/sample - loss: 2.8256 - categorical_accuracy: 0.0541 - val_loss: 2.5606 - val_categorical_accuracy: 0.1081\n",
      "Epoch 3/100\n",
      "296/296 [==============================] - 0s 1ms/sample - loss: 2.7841 - categorical_accuracy: 0.0811 - val_loss: 2.5566 - val_categorical_accuracy: 0.1216\n",
      "Epoch 4/100\n",
      "296/296 [==============================] - 0s 1ms/sample - loss: 2.8122 - categorical_accuracy: 0.0608 - val_loss: 2.5373 - val_categorical_accuracy: 0.1757\n",
      "Epoch 5/100\n",
      "296/296 [==============================] - 0s 1ms/sample - loss: 2.7509 - categorical_accuracy: 0.1081 - val_loss: 2.5454 - val_categorical_accuracy: 0.1757\n",
      "Epoch 6/100\n",
      "296/296 [==============================] - 0s 960us/sample - loss: 2.7119 - categorical_accuracy: 0.0811 - val_loss: 2.5383 - val_categorical_accuracy: 0.1622\n",
      "Epoch 7/100\n",
      "296/296 [==============================] - 0s 974us/sample - loss: 2.6995 - categorical_accuracy: 0.0912 - val_loss: 2.5444 - val_categorical_accuracy: 0.1757\n",
      "Epoch 8/100\n",
      "296/296 [==============================] - 0s 903us/sample - loss: 2.6950 - categorical_accuracy: 0.1014 - val_loss: 2.5492 - val_categorical_accuracy: 0.1216\n",
      "Epoch 9/100\n",
      "296/296 [==============================] - 0s 1ms/sample - loss: 2.7188 - categorical_accuracy: 0.0777 - val_loss: 2.5415 - val_categorical_accuracy: 0.1216\n",
      "Epoch 10/100\n",
      "296/296 [==============================] - 0s 923us/sample - loss: 2.6703 - categorical_accuracy: 0.0912 - val_loss: 2.5462 - val_categorical_accuracy: 0.1081\n",
      "Epoch 11/100\n",
      "296/296 [==============================] - 0s 886us/sample - loss: 2.7414 - categorical_accuracy: 0.0811 - val_loss: 2.5209 - val_categorical_accuracy: 0.1351\n",
      "Epoch 12/100\n",
      "296/296 [==============================] - 0s 932us/sample - loss: 2.6762 - categorical_accuracy: 0.0811 - val_loss: 2.5251 - val_categorical_accuracy: 0.1757\n",
      "Epoch 13/100\n",
      "296/296 [==============================] - 0s 1ms/sample - loss: 2.7088 - categorical_accuracy: 0.0912 - val_loss: 2.5668 - val_categorical_accuracy: 0.1081\n",
      "Epoch 14/100\n",
      "296/296 [==============================] - 0s 1ms/sample - loss: 2.6687 - categorical_accuracy: 0.0980 - val_loss: 2.5977 - val_categorical_accuracy: 0.1081\n",
      "Epoch 15/100\n",
      "296/296 [==============================] - 0s 891us/sample - loss: 2.6831 - categorical_accuracy: 0.0642 - val_loss: 2.6154 - val_categorical_accuracy: 0.1081\n",
      "Epoch 16/100\n",
      "296/296 [==============================] - 0s 964us/sample - loss: 2.7285 - categorical_accuracy: 0.0642 - val_loss: 2.5956 - val_categorical_accuracy: 0.1081\n",
      "Epoch 17/100\n",
      "296/296 [==============================] - 0s 919us/sample - loss: 2.6243 - categorical_accuracy: 0.1284 - val_loss: 2.5448 - val_categorical_accuracy: 0.0946\n",
      "Epoch 18/100\n",
      "296/296 [==============================] - 0s 894us/sample - loss: 2.6455 - categorical_accuracy: 0.0946 - val_loss: 2.5652 - val_categorical_accuracy: 0.1081\n",
      "Epoch 19/100\n",
      "296/296 [==============================] - 0s 884us/sample - loss: 2.6633 - categorical_accuracy: 0.0777 - val_loss: 2.5426 - val_categorical_accuracy: 0.1216\n",
      "Epoch 20/100\n",
      "296/296 [==============================] - 0s 1ms/sample - loss: 2.6227 - categorical_accuracy: 0.0946 - val_loss: 2.5056 - val_categorical_accuracy: 0.0811\n",
      "Epoch 21/100\n",
      "296/296 [==============================] - 0s 968us/sample - loss: 2.6535 - categorical_accuracy: 0.0709 - val_loss: 2.5194 - val_categorical_accuracy: 0.1081\n",
      "Epoch 22/100\n",
      "296/296 [==============================] - 0s 881us/sample - loss: 2.6175 - categorical_accuracy: 0.0777 - val_loss: 2.5633 - val_categorical_accuracy: 0.1216\n",
      "Epoch 23/100\n",
      "296/296 [==============================] - 0s 925us/sample - loss: 2.6248 - categorical_accuracy: 0.0845 - val_loss: 2.5383 - val_categorical_accuracy: 0.0811\n",
      "Epoch 24/100\n",
      "296/296 [==============================] - 0s 987us/sample - loss: 2.6638 - categorical_accuracy: 0.0946 - val_loss: 2.5228 - val_categorical_accuracy: 0.0946\n",
      "Epoch 25/100\n",
      "296/296 [==============================] - 0s 897us/sample - loss: 2.6310 - categorical_accuracy: 0.0946 - val_loss: 2.5229 - val_categorical_accuracy: 0.1081\n",
      "Epoch 26/100\n",
      "296/296 [==============================] - 0s 880us/sample - loss: 2.6193 - categorical_accuracy: 0.0878 - val_loss: 2.5560 - val_categorical_accuracy: 0.1081\n",
      "Epoch 27/100\n",
      "296/296 [==============================] - 0s 917us/sample - loss: 2.6109 - categorical_accuracy: 0.0845 - val_loss: 2.5646 - val_categorical_accuracy: 0.1081\n",
      "Epoch 28/100\n",
      "296/296 [==============================] - 0s 952us/sample - loss: 2.6266 - categorical_accuracy: 0.0912 - val_loss: 2.5754 - val_categorical_accuracy: 0.1216\n",
      "Epoch 29/100\n",
      "296/296 [==============================] - 0s 948us/sample - loss: 2.6743 - categorical_accuracy: 0.0676 - val_loss: 2.5972 - val_categorical_accuracy: 0.1216\n",
      "Epoch 30/100\n",
      "296/296 [==============================] - 0s 885us/sample - loss: 2.6582 - categorical_accuracy: 0.0946 - val_loss: 2.5750 - val_categorical_accuracy: 0.1757\n",
      "Epoch 31/100\n",
      "296/296 [==============================] - 0s 928us/sample - loss: 2.6455 - categorical_accuracy: 0.0878 - val_loss: 2.5903 - val_categorical_accuracy: 0.0676\n",
      "Epoch 32/100\n",
      "296/296 [==============================] - 0s 1ms/sample - loss: 2.6597 - categorical_accuracy: 0.0709 - val_loss: 2.5826 - val_categorical_accuracy: 0.0676\n",
      "Epoch 33/100\n",
      "296/296 [==============================] - 0s 883us/sample - loss: 2.5962 - categorical_accuracy: 0.1081 - val_loss: 2.6065 - val_categorical_accuracy: 0.0676\n",
      "Epoch 34/100\n",
      "296/296 [==============================] - 0s 883us/sample - loss: 2.6206 - categorical_accuracy: 0.0912 - val_loss: 2.5990 - val_categorical_accuracy: 0.1216\n",
      "Epoch 35/100\n",
      "296/296 [==============================] - 0s 864us/sample - loss: 2.6173 - categorical_accuracy: 0.0912 - val_loss: 2.5777 - val_categorical_accuracy: 0.1216\n",
      "Epoch 36/100\n",
      "296/296 [==============================] - 0s 935us/sample - loss: 2.6259 - categorical_accuracy: 0.0878 - val_loss: 2.5733 - val_categorical_accuracy: 0.0676\n",
      "Epoch 37/100\n",
      "296/296 [==============================] - 0s 944us/sample - loss: 2.5871 - categorical_accuracy: 0.1115 - val_loss: 2.5289 - val_categorical_accuracy: 0.0946\n",
      "Epoch 38/100\n",
      "296/296 [==============================] - 0s 873us/sample - loss: 2.6108 - categorical_accuracy: 0.0980 - val_loss: 2.5021 - val_categorical_accuracy: 0.1216\n",
      "Epoch 39/100\n",
      "296/296 [==============================] - 0s 882us/sample - loss: 2.5658 - categorical_accuracy: 0.1081 - val_loss: 2.5101 - val_categorical_accuracy: 0.1486\n",
      "Epoch 40/100\n",
      "296/296 [==============================] - 0s 943us/sample - loss: 2.6001 - categorical_accuracy: 0.0980 - val_loss: 2.4766 - val_categorical_accuracy: 0.1216\n",
      "Epoch 41/100\n",
      "296/296 [==============================] - 0s 866us/sample - loss: 2.5596 - categorical_accuracy: 0.1014 - val_loss: 2.4664 - val_categorical_accuracy: 0.1757\n",
      "Epoch 42/100\n",
      "296/296 [==============================] - 0s 864us/sample - loss: 2.5298 - categorical_accuracy: 0.1250 - val_loss: 2.4547 - val_categorical_accuracy: 0.1757\n",
      "Epoch 43/100\n",
      "296/296 [==============================] - 0s 889us/sample - loss: 2.5511 - categorical_accuracy: 0.1149 - val_loss: 2.4052 - val_categorical_accuracy: 0.1216\n",
      "Epoch 44/100\n",
      "296/296 [==============================] - 0s 917us/sample - loss: 2.5326 - categorical_accuracy: 0.1486 - val_loss: 2.4320 - val_categorical_accuracy: 0.1081\n",
      "Epoch 45/100\n",
      "296/296 [==============================] - 0s 944us/sample - loss: 2.4770 - categorical_accuracy: 0.1655 - val_loss: 2.4279 - val_categorical_accuracy: 0.1081\n",
      "Epoch 46/100\n",
      "296/296 [==============================] - 0s 900us/sample - loss: 2.5069 - categorical_accuracy: 0.1318 - val_loss: 2.6039 - val_categorical_accuracy: 0.0541\n",
      "Epoch 47/100\n",
      "296/296 [==============================] - 0s 899us/sample - loss: 2.4903 - categorical_accuracy: 0.1554 - val_loss: 2.4553 - val_categorical_accuracy: 0.1081\n",
      "Epoch 48/100\n",
      "296/296 [==============================] - 0s 904us/sample - loss: 2.5035 - categorical_accuracy: 0.1351 - val_loss: 2.5869 - val_categorical_accuracy: 0.1081\n"
     ]
    },
    {
     "name": "stdout",
     "output_type": "stream",
     "text": [
      "Epoch 49/100\n",
      "296/296 [==============================] - 0s 910us/sample - loss: 2.4733 - categorical_accuracy: 0.1351 - val_loss: 2.5668 - val_categorical_accuracy: 0.1081\n",
      "Epoch 50/100\n",
      "296/296 [==============================] - 0s 902us/sample - loss: 2.4442 - categorical_accuracy: 0.1588 - val_loss: 2.4406 - val_categorical_accuracy: 0.1216\n",
      "Epoch 51/100\n",
      "296/296 [==============================] - 0s 924us/sample - loss: 2.4497 - categorical_accuracy: 0.1655 - val_loss: 2.3874 - val_categorical_accuracy: 0.1216\n",
      "Epoch 52/100\n",
      "296/296 [==============================] - 0s 961us/sample - loss: 2.3951 - categorical_accuracy: 0.1655 - val_loss: 2.3840 - val_categorical_accuracy: 0.1351\n",
      "Epoch 53/100\n",
      "296/296 [==============================] - 0s 952us/sample - loss: 2.3845 - categorical_accuracy: 0.1486 - val_loss: 2.4618 - val_categorical_accuracy: 0.1081\n",
      "Epoch 54/100\n",
      "296/296 [==============================] - 0s 823us/sample - loss: 2.3549 - categorical_accuracy: 0.1622 - val_loss: 2.3660 - val_categorical_accuracy: 0.1892\n",
      "Epoch 55/100\n",
      "296/296 [==============================] - 0s 847us/sample - loss: 2.3992 - categorical_accuracy: 0.1554 - val_loss: 2.3618 - val_categorical_accuracy: 0.1216\n",
      "Epoch 56/100\n",
      "296/296 [==============================] - 0s 877us/sample - loss: 2.3844 - categorical_accuracy: 0.1791 - val_loss: 2.4563 - val_categorical_accuracy: 0.1216\n",
      "Epoch 57/100\n",
      "296/296 [==============================] - 0s 897us/sample - loss: 2.3872 - categorical_accuracy: 0.1554 - val_loss: 2.3426 - val_categorical_accuracy: 0.1351\n",
      "Epoch 58/100\n",
      "296/296 [==============================] - 0s 825us/sample - loss: 2.3211 - categorical_accuracy: 0.1757 - val_loss: 2.3380 - val_categorical_accuracy: 0.1892\n",
      "Epoch 59/100\n",
      "296/296 [==============================] - 0s 859us/sample - loss: 2.3332 - categorical_accuracy: 0.1926 - val_loss: 2.3301 - val_categorical_accuracy: 0.2297\n",
      "Epoch 60/100\n",
      "296/296 [==============================] - 0s 833us/sample - loss: 2.2974 - categorical_accuracy: 0.1791 - val_loss: 2.3232 - val_categorical_accuracy: 0.1757\n",
      "Epoch 61/100\n",
      "296/296 [==============================] - 0s 911us/sample - loss: 2.3299 - categorical_accuracy: 0.1959 - val_loss: 2.2972 - val_categorical_accuracy: 0.1622\n",
      "Epoch 62/100\n",
      "296/296 [==============================] - 0s 829us/sample - loss: 2.2757 - categorical_accuracy: 0.2027 - val_loss: 2.3077 - val_categorical_accuracy: 0.1081\n",
      "Epoch 63/100\n",
      "296/296 [==============================] - 0s 866us/sample - loss: 2.3182 - categorical_accuracy: 0.1892 - val_loss: 2.3013 - val_categorical_accuracy: 0.1757\n",
      "Epoch 64/100\n",
      "296/296 [==============================] - 0s 826us/sample - loss: 2.3094 - categorical_accuracy: 0.1926 - val_loss: 2.2415 - val_categorical_accuracy: 0.2162\n",
      "Epoch 65/100\n",
      "296/296 [==============================] - 0s 916us/sample - loss: 2.2263 - categorical_accuracy: 0.2365 - val_loss: 2.1880 - val_categorical_accuracy: 0.2162\n",
      "Epoch 66/100\n",
      "296/296 [==============================] - 0s 852us/sample - loss: 2.2621 - categorical_accuracy: 0.2162 - val_loss: 2.2389 - val_categorical_accuracy: 0.2027\n",
      "Epoch 67/100\n",
      "296/296 [==============================] - 0s 876us/sample - loss: 2.3245 - categorical_accuracy: 0.1993 - val_loss: 2.6647 - val_categorical_accuracy: 0.1081\n",
      "Epoch 68/100\n",
      "296/296 [==============================] - 0s 863us/sample - loss: 2.2695 - categorical_accuracy: 0.1791 - val_loss: 2.3981 - val_categorical_accuracy: 0.0946\n",
      "Epoch 69/100\n",
      "296/296 [==============================] - 0s 879us/sample - loss: 2.2506 - categorical_accuracy: 0.2162 - val_loss: 2.3945 - val_categorical_accuracy: 0.1081\n",
      "Epoch 70/100\n",
      "296/296 [==============================] - 0s 968us/sample - loss: 2.2007 - categorical_accuracy: 0.2297 - val_loss: 2.2333 - val_categorical_accuracy: 0.1757\n",
      "Epoch 71/100\n",
      "296/296 [==============================] - 0s 877us/sample - loss: 2.1801 - categorical_accuracy: 0.2500 - val_loss: 2.2020 - val_categorical_accuracy: 0.2162\n",
      "Epoch 72/100\n",
      "296/296 [==============================] - 0s 879us/sample - loss: 2.1475 - categorical_accuracy: 0.2669 - val_loss: 2.1776 - val_categorical_accuracy: 0.1892\n",
      "Epoch 73/100\n",
      "296/296 [==============================] - 0s 967us/sample - loss: 2.1736 - categorical_accuracy: 0.2534 - val_loss: 2.2079 - val_categorical_accuracy: 0.1622\n",
      "Epoch 74/100\n",
      "296/296 [==============================] - 0s 943us/sample - loss: 2.1556 - categorical_accuracy: 0.2703 - val_loss: 2.1917 - val_categorical_accuracy: 0.2027\n",
      "Epoch 75/100\n",
      "296/296 [==============================] - 0s 862us/sample - loss: 2.1280 - categorical_accuracy: 0.2804 - val_loss: 2.2018 - val_categorical_accuracy: 0.2027\n",
      "Epoch 76/100\n",
      "296/296 [==============================] - 0s 933us/sample - loss: 2.1322 - categorical_accuracy: 0.2635 - val_loss: 2.3349 - val_categorical_accuracy: 0.1081\n",
      "Epoch 77/100\n",
      "296/296 [==============================] - 0s 997us/sample - loss: 2.1114 - categorical_accuracy: 0.3074 - val_loss: 2.2549 - val_categorical_accuracy: 0.1486\n",
      "Epoch 78/100\n",
      "296/296 [==============================] - 0s 950us/sample - loss: 2.0696 - categorical_accuracy: 0.2838 - val_loss: 2.2159 - val_categorical_accuracy: 0.1622\n",
      "Epoch 79/100\n",
      "296/296 [==============================] - 0s 886us/sample - loss: 2.0678 - categorical_accuracy: 0.3007 - val_loss: 2.2285 - val_categorical_accuracy: 0.2297\n",
      "Epoch 80/100\n",
      "296/296 [==============================] - 0s 844us/sample - loss: 2.1192 - categorical_accuracy: 0.2736 - val_loss: 2.1335 - val_categorical_accuracy: 0.2432\n",
      "Epoch 81/100\n",
      "296/296 [==============================] - 0s 910us/sample - loss: 2.0504 - categorical_accuracy: 0.2939 - val_loss: 2.2473 - val_categorical_accuracy: 0.1892\n",
      "Epoch 82/100\n",
      "296/296 [==============================] - 0s 947us/sample - loss: 2.0414 - categorical_accuracy: 0.2838 - val_loss: 2.2128 - val_categorical_accuracy: 0.2162\n",
      "Epoch 83/100\n",
      "296/296 [==============================] - 0s 839us/sample - loss: 2.0473 - categorical_accuracy: 0.2770 - val_loss: 2.1840 - val_categorical_accuracy: 0.1757\n",
      "Epoch 84/100\n",
      "296/296 [==============================] - 0s 893us/sample - loss: 1.9907 - categorical_accuracy: 0.3277 - val_loss: 2.1044 - val_categorical_accuracy: 0.2297\n",
      "Epoch 85/100\n",
      "296/296 [==============================] - 0s 974us/sample - loss: 1.9716 - categorical_accuracy: 0.3615 - val_loss: 2.0796 - val_categorical_accuracy: 0.2568\n",
      "Epoch 86/100\n",
      "296/296 [==============================] - 0s 876us/sample - loss: 2.0107 - categorical_accuracy: 0.3243 - val_loss: 2.0055 - val_categorical_accuracy: 0.2703\n",
      "Epoch 87/100\n",
      "296/296 [==============================] - 0s 841us/sample - loss: 1.9639 - categorical_accuracy: 0.3953 - val_loss: 1.9900 - val_categorical_accuracy: 0.2297\n",
      "Epoch 88/100\n",
      "296/296 [==============================] - 0s 886us/sample - loss: 1.9249 - categorical_accuracy: 0.3818 - val_loss: 2.1138 - val_categorical_accuracy: 0.2432\n",
      "Epoch 89/100\n",
      "296/296 [==============================] - 0s 893us/sample - loss: 1.8874 - categorical_accuracy: 0.3615 - val_loss: 2.0609 - val_categorical_accuracy: 0.2703\n",
      "Epoch 90/100\n",
      "296/296 [==============================] - 0s 960us/sample - loss: 1.8659 - categorical_accuracy: 0.3784 - val_loss: 2.1510 - val_categorical_accuracy: 0.2568\n",
      "Epoch 91/100\n",
      "296/296 [==============================] - 0s 849us/sample - loss: 1.8249 - categorical_accuracy: 0.4020 - val_loss: 1.9760 - val_categorical_accuracy: 0.2838\n",
      "Epoch 92/100\n",
      "296/296 [==============================] - 0s 879us/sample - loss: 1.8241 - categorical_accuracy: 0.4020 - val_loss: 1.9671 - val_categorical_accuracy: 0.3378\n",
      "Epoch 93/100\n",
      "296/296 [==============================] - 0s 873us/sample - loss: 1.8198 - categorical_accuracy: 0.3885 - val_loss: 2.0589 - val_categorical_accuracy: 0.3108\n",
      "Epoch 94/100\n",
      "296/296 [==============================] - 0s 941us/sample - loss: 1.8755 - categorical_accuracy: 0.3784 - val_loss: 1.9057 - val_categorical_accuracy: 0.2703\n",
      "Epoch 95/100\n",
      "296/296 [==============================] - 0s 852us/sample - loss: 1.7550 - categorical_accuracy: 0.4392 - val_loss: 1.8961 - val_categorical_accuracy: 0.2973\n",
      "Epoch 96/100\n"
     ]
    },
    {
     "name": "stdout",
     "output_type": "stream",
     "text": [
      "296/296 [==============================] - 0s 866us/sample - loss: 1.7642 - categorical_accuracy: 0.4088 - val_loss: 2.0054 - val_categorical_accuracy: 0.2703\n",
      "Epoch 97/100\n",
      "296/296 [==============================] - 0s 857us/sample - loss: 1.9528 - categorical_accuracy: 0.3041 - val_loss: 2.1006 - val_categorical_accuracy: 0.2838\n",
      "Epoch 98/100\n",
      "296/296 [==============================] - 0s 924us/sample - loss: 1.7618 - categorical_accuracy: 0.4257 - val_loss: 1.9170 - val_categorical_accuracy: 0.3243\n",
      "Epoch 99/100\n",
      "296/296 [==============================] - 0s 883us/sample - loss: 1.7114 - categorical_accuracy: 0.4257 - val_loss: 1.8860 - val_categorical_accuracy: 0.2838\n",
      "Epoch 100/100\n",
      "296/296 [==============================] - 0s 941us/sample - loss: 1.6520 - categorical_accuracy: 0.4831 - val_loss: 1.8474 - val_categorical_accuracy: 0.3108\n"
     ]
    }
   ],
   "source": [
    "history_3 = model.fit(X_train, y_train, epochs=100, validation_split=0.2,callbacks=[tb_callback])"
   ]
  },
  {
   "cell_type": "code",
   "execution_count": 83,
   "metadata": {},
   "outputs": [
    {
     "data": {
      "text/plain": [
       "{'loss': [2.8649343413275643,\n",
       "  2.8256148905367464,\n",
       "  2.784143222344888,\n",
       "  2.812221823511897,\n",
       "  2.7509244519311027,\n",
       "  2.7119285222646354,\n",
       "  2.699510580784566,\n",
       "  2.694979513013685,\n",
       "  2.7187961823231466,\n",
       "  2.6702898064175167,\n",
       "  2.7413526096859493,\n",
       "  2.6761708001832702,\n",
       "  2.7087771183735616,\n",
       "  2.6686848305367135,\n",
       "  2.6830808407551534,\n",
       "  2.7285058820569836,\n",
       "  2.6242677198873983,\n",
       "  2.6454541232134843,\n",
       "  2.6633217012560046,\n",
       "  2.6226674994906864,\n",
       "  2.6534770372751595,\n",
       "  2.61745073988631,\n",
       "  2.6248415998510413,\n",
       "  2.663811683654785,\n",
       "  2.631010377729261,\n",
       "  2.6193261275420316,\n",
       "  2.6108668559306376,\n",
       "  2.6266309119559623,\n",
       "  2.6742993560997217,\n",
       "  2.6581589853441394,\n",
       "  2.645473441562137,\n",
       "  2.659733868934013,\n",
       "  2.596216839713019,\n",
       "  2.6205506840267696,\n",
       "  2.61725969572325,\n",
       "  2.6258984578622355,\n",
       "  2.587065464741475,\n",
       "  2.610760495469377,\n",
       "  2.5657644400725492,\n",
       "  2.6000920179727913,\n",
       "  2.5596380362639555,\n",
       "  2.529786651198928,\n",
       "  2.5511145849485657,\n",
       "  2.5326127490481816,\n",
       "  2.477036353704092,\n",
       "  2.506875076809445,\n",
       "  2.490260549493738,\n",
       "  2.5034651885161527,\n",
       "  2.4732605379980965,\n",
       "  2.4442190801775134,\n",
       "  2.449706999031273,\n",
       "  2.395118255872984,\n",
       "  2.384496985255061,\n",
       "  2.354922945434983,\n",
       "  2.3992350745845483,\n",
       "  2.384406547288637,\n",
       "  2.387185083853232,\n",
       "  2.3210818767547607,\n",
       "  2.3331911306123474,\n",
       "  2.2973660391730233,\n",
       "  2.3299390045372217,\n",
       "  2.2756960778623014,\n",
       "  2.318182816376557,\n",
       "  2.3093573209401725,\n",
       "  2.226296102678454,\n",
       "  2.2620865815394633,\n",
       "  2.3244804691624,\n",
       "  2.2694523012315906,\n",
       "  2.250599345645389,\n",
       "  2.2007070876456596,\n",
       "  2.1800806329057023,\n",
       "  2.1474975379737646,\n",
       "  2.173617904250686,\n",
       "  2.1555507118637496,\n",
       "  2.1279753929859884,\n",
       "  2.1322369639937944,\n",
       "  2.111354434812391,\n",
       "  2.0696190241220833,\n",
       "  2.0678452865497485,\n",
       "  2.1191799640655518,\n",
       "  2.050437675940024,\n",
       "  2.041442829209405,\n",
       "  2.0472779499517904,\n",
       "  1.9906532571122453,\n",
       "  1.9716365917308911,\n",
       "  2.0107102587416366,\n",
       "  1.9638774394989014,\n",
       "  1.924864627219535,\n",
       "  1.887439740670694,\n",
       "  1.865941047668457,\n",
       "  1.8249498509071969,\n",
       "  1.8241091032285948,\n",
       "  1.8198287551467482,\n",
       "  1.8754858390705005,\n",
       "  1.7550457039394893,\n",
       "  1.764213413805575,\n",
       "  1.9528086894267314,\n",
       "  1.7618279521529738,\n",
       "  1.711382176425006,\n",
       "  1.6520135724866711],\n",
       " 'categorical_accuracy': [0.06081081,\n",
       "  0.054054055,\n",
       "  0.08108108,\n",
       "  0.06081081,\n",
       "  0.10810811,\n",
       "  0.08108108,\n",
       "  0.091216214,\n",
       "  0.10135135,\n",
       "  0.0777027,\n",
       "  0.091216214,\n",
       "  0.08108108,\n",
       "  0.08108108,\n",
       "  0.091216214,\n",
       "  0.097972974,\n",
       "  0.06418919,\n",
       "  0.06418919,\n",
       "  0.12837838,\n",
       "  0.0945946,\n",
       "  0.0777027,\n",
       "  0.0945946,\n",
       "  0.07094595,\n",
       "  0.0777027,\n",
       "  0.08445946,\n",
       "  0.0945946,\n",
       "  0.0945946,\n",
       "  0.08783784,\n",
       "  0.08445946,\n",
       "  0.091216214,\n",
       "  0.067567565,\n",
       "  0.0945946,\n",
       "  0.08783784,\n",
       "  0.07094595,\n",
       "  0.10810811,\n",
       "  0.091216214,\n",
       "  0.091216214,\n",
       "  0.08783784,\n",
       "  0.11148649,\n",
       "  0.097972974,\n",
       "  0.10810811,\n",
       "  0.097972974,\n",
       "  0.10135135,\n",
       "  0.125,\n",
       "  0.11486486,\n",
       "  0.14864865,\n",
       "  0.16554055,\n",
       "  0.13175675,\n",
       "  0.1554054,\n",
       "  0.13513513,\n",
       "  0.13513513,\n",
       "  0.15878378,\n",
       "  0.16554055,\n",
       "  0.16554055,\n",
       "  0.14864865,\n",
       "  0.16216215,\n",
       "  0.1554054,\n",
       "  0.17905405,\n",
       "  0.1554054,\n",
       "  0.17567568,\n",
       "  0.19256757,\n",
       "  0.17905405,\n",
       "  0.19594595,\n",
       "  0.2027027,\n",
       "  0.1891892,\n",
       "  0.19256757,\n",
       "  0.23648648,\n",
       "  0.21621622,\n",
       "  0.19932432,\n",
       "  0.17905405,\n",
       "  0.21621622,\n",
       "  0.22972973,\n",
       "  0.25,\n",
       "  0.2668919,\n",
       "  0.2533784,\n",
       "  0.27027026,\n",
       "  0.2804054,\n",
       "  0.2635135,\n",
       "  0.30743244,\n",
       "  0.2837838,\n",
       "  0.3006757,\n",
       "  0.27364865,\n",
       "  0.2939189,\n",
       "  0.2837838,\n",
       "  0.27702704,\n",
       "  0.3277027,\n",
       "  0.3614865,\n",
       "  0.3243243,\n",
       "  0.39527026,\n",
       "  0.38175675,\n",
       "  0.3614865,\n",
       "  0.3783784,\n",
       "  0.40202704,\n",
       "  0.40202704,\n",
       "  0.3885135,\n",
       "  0.3783784,\n",
       "  0.4391892,\n",
       "  0.4087838,\n",
       "  0.30405405,\n",
       "  0.4256757,\n",
       "  0.4256757,\n",
       "  0.4831081],\n",
       " 'val_loss': [2.588363131961307,\n",
       "  2.5606269385363603,\n",
       "  2.556601975415204,\n",
       "  2.537343572925877,\n",
       "  2.545366970268456,\n",
       "  2.5382580112766577,\n",
       "  2.544382875030105,\n",
       "  2.549206211760237,\n",
       "  2.541477409568993,\n",
       "  2.546225779765361,\n",
       "  2.5208805445078255,\n",
       "  2.525135819976394,\n",
       "  2.566838399783985,\n",
       "  2.5976543362076217,\n",
       "  2.615372896194458,\n",
       "  2.595590166143469,\n",
       "  2.54478087296357,\n",
       "  2.565189400234738,\n",
       "  2.5426368842253813,\n",
       "  2.5056345527236528,\n",
       "  2.519398244651588,\n",
       "  2.5633425325960726,\n",
       "  2.5383378492819295,\n",
       "  2.522819422386788,\n",
       "  2.522881314561174,\n",
       "  2.5560345714156694,\n",
       "  2.5645648982073808,\n",
       "  2.5753679597699963,\n",
       "  2.5972492179355107,\n",
       "  2.5749755936699943,\n",
       "  2.590297763412063,\n",
       "  2.582630666526588,\n",
       "  2.606497171762827,\n",
       "  2.5990322731636666,\n",
       "  2.5777318284318254,\n",
       "  2.5732628654789282,\n",
       "  2.5288666261209025,\n",
       "  2.502068145855053,\n",
       "  2.5101280663464522,\n",
       "  2.4765878754693107,\n",
       "  2.4663901457915434,\n",
       "  2.454681802440334,\n",
       "  2.4052047729492188,\n",
       "  2.432008375992646,\n",
       "  2.427919729335888,\n",
       "  2.6039488637769543,\n",
       "  2.4553246369233004,\n",
       "  2.5869255291449056,\n",
       "  2.5668097186732934,\n",
       "  2.440587720355472,\n",
       "  2.3874010008734627,\n",
       "  2.3840038454210437,\n",
       "  2.461751615678942,\n",
       "  2.365989775271029,\n",
       "  2.361839822820715,\n",
       "  2.4562596050468652,\n",
       "  2.3425693769712708,\n",
       "  2.338006625304351,\n",
       "  2.330072106541814,\n",
       "  2.3231502868033744,\n",
       "  2.2971635122556946,\n",
       "  2.3077175230593294,\n",
       "  2.3012598591881828,\n",
       "  2.2414587897223397,\n",
       "  2.187989241368062,\n",
       "  2.238887026503279,\n",
       "  2.6646822272120296,\n",
       "  2.398096020157273,\n",
       "  2.39451662914173,\n",
       "  2.233307774002488,\n",
       "  2.2019730516382165,\n",
       "  2.1776083288966,\n",
       "  2.2078940868377686,\n",
       "  2.1917161619341052,\n",
       "  2.2018029303164095,\n",
       "  2.334858868573163,\n",
       "  2.254879410202439,\n",
       "  2.2159427952122046,\n",
       "  2.228453185107257,\n",
       "  2.133497495908995,\n",
       "  2.247277917088689,\n",
       "  2.212784986238222,\n",
       "  2.183953368985975,\n",
       "  2.104362320255589,\n",
       "  2.0795783352207495,\n",
       "  2.0055336952209473,\n",
       "  1.9900369966352307,\n",
       "  2.1138030355041093,\n",
       "  2.0609361738772005,\n",
       "  2.1509692153415165,\n",
       "  1.9760426443976324,\n",
       "  1.967059141880757,\n",
       "  2.05892260010178,\n",
       "  1.9057012570870888,\n",
       "  1.8961406527338802,\n",
       "  2.0054169957702226,\n",
       "  2.1005537058856034,\n",
       "  1.917035721443795,\n",
       "  1.8859947436564677,\n",
       "  1.8474175414523564],\n",
       " 'val_categorical_accuracy': [0.10810811,\n",
       "  0.10810811,\n",
       "  0.12162162,\n",
       "  0.17567568,\n",
       "  0.17567568,\n",
       "  0.16216215,\n",
       "  0.17567568,\n",
       "  0.12162162,\n",
       "  0.12162162,\n",
       "  0.10810811,\n",
       "  0.13513513,\n",
       "  0.17567568,\n",
       "  0.10810811,\n",
       "  0.10810811,\n",
       "  0.10810811,\n",
       "  0.10810811,\n",
       "  0.0945946,\n",
       "  0.10810811,\n",
       "  0.12162162,\n",
       "  0.08108108,\n",
       "  0.10810811,\n",
       "  0.12162162,\n",
       "  0.08108108,\n",
       "  0.0945946,\n",
       "  0.10810811,\n",
       "  0.10810811,\n",
       "  0.10810811,\n",
       "  0.12162162,\n",
       "  0.12162162,\n",
       "  0.17567568,\n",
       "  0.067567565,\n",
       "  0.067567565,\n",
       "  0.067567565,\n",
       "  0.12162162,\n",
       "  0.12162162,\n",
       "  0.067567565,\n",
       "  0.0945946,\n",
       "  0.12162162,\n",
       "  0.14864865,\n",
       "  0.12162162,\n",
       "  0.17567568,\n",
       "  0.17567568,\n",
       "  0.12162162,\n",
       "  0.10810811,\n",
       "  0.10810811,\n",
       "  0.054054055,\n",
       "  0.10810811,\n",
       "  0.10810811,\n",
       "  0.10810811,\n",
       "  0.12162162,\n",
       "  0.12162162,\n",
       "  0.13513513,\n",
       "  0.10810811,\n",
       "  0.1891892,\n",
       "  0.12162162,\n",
       "  0.12162162,\n",
       "  0.13513513,\n",
       "  0.1891892,\n",
       "  0.22972973,\n",
       "  0.17567568,\n",
       "  0.16216215,\n",
       "  0.10810811,\n",
       "  0.17567568,\n",
       "  0.21621622,\n",
       "  0.21621622,\n",
       "  0.2027027,\n",
       "  0.10810811,\n",
       "  0.0945946,\n",
       "  0.10810811,\n",
       "  0.17567568,\n",
       "  0.21621622,\n",
       "  0.1891892,\n",
       "  0.16216215,\n",
       "  0.2027027,\n",
       "  0.2027027,\n",
       "  0.10810811,\n",
       "  0.14864865,\n",
       "  0.16216215,\n",
       "  0.22972973,\n",
       "  0.24324325,\n",
       "  0.1891892,\n",
       "  0.21621622,\n",
       "  0.17567568,\n",
       "  0.22972973,\n",
       "  0.25675675,\n",
       "  0.27027026,\n",
       "  0.22972973,\n",
       "  0.24324325,\n",
       "  0.27027026,\n",
       "  0.25675675,\n",
       "  0.2837838,\n",
       "  0.33783785,\n",
       "  0.3108108,\n",
       "  0.27027026,\n",
       "  0.2972973,\n",
       "  0.27027026,\n",
       "  0.2837838,\n",
       "  0.3243243,\n",
       "  0.2837838,\n",
       "  0.3108108]}"
      ]
     },
     "execution_count": 83,
     "metadata": {},
     "output_type": "execute_result"
    }
   ],
   "source": [
    "history_3.history"
   ]
  },
  {
   "cell_type": "code",
   "execution_count": 84,
   "metadata": {},
   "outputs": [
    {
     "name": "stdout",
     "output_type": "stream",
     "text": [
      "Model: \"sequential_2\"\n",
      "_________________________________________________________________\n",
      "Layer (type)                 Output Shape              Param #   \n",
      "=================================================================\n",
      "simple_rnn (SimpleRNN)       (None, 30, 64)            110528    \n",
      "_________________________________________________________________\n",
      "dropout_4 (Dropout)          (None, 30, 64)            0         \n",
      "_________________________________________________________________\n",
      "simple_rnn_1 (SimpleRNN)     (None, 30, 128)           24704     \n",
      "_________________________________________________________________\n",
      "dropout_5 (Dropout)          (None, 30, 128)           0         \n",
      "_________________________________________________________________\n",
      "simple_rnn_2 (SimpleRNN)     (None, 64)                12352     \n",
      "_________________________________________________________________\n",
      "dense_6 (Dense)              (None, 64)                4160      \n",
      "_________________________________________________________________\n",
      "batch_normalization_2 (Batch (None, 64)                256       \n",
      "_________________________________________________________________\n",
      "dense_7 (Dense)              (None, 32)                2080      \n",
      "_________________________________________________________________\n",
      "dense_8 (Dense)              (None, 13)                429       \n",
      "=================================================================\n",
      "Total params: 154,509\n",
      "Trainable params: 154,381\n",
      "Non-trainable params: 128\n",
      "_________________________________________________________________\n"
     ]
    }
   ],
   "source": [
    "model.summary()"
   ]
  },
  {
   "cell_type": "code",
   "execution_count": 85,
   "metadata": {},
   "outputs": [
    {
     "data": {
      "image/png": "[encoded data removed]",
      "text/plain": [
       "<Figure size 936x936 with 2 Axes>"
      ]
     },
     "metadata": {
      "needs_background": "light"
     },
     "output_type": "display_data"
    }
   ],
   "source": [
    "acc = history_3.history['categorical_accuracy']\n",
    "val_acc = history_3.history['val_categorical_accuracy']\n",
    "\n",
    "loss = history_3.history['loss']\n",
    "val_loss = history_3.history['val_loss']\n",
    "\n",
    "plt.figure(figsize=(13, 13))\n",
    "plt.subplot(2, 1, 2)\n",
    "plt.plot(acc,'-b*', label='Training Accuracy')\n",
    "plt.plot(val_acc,'-r*', label='Validation Accuracy')\n",
    "plt.legend(loc='upper right')\n",
    "plt.ylabel('Accuracy')\n",
    "plt.ylim([min(plt.ylim()),1])\n",
    "plt.title('Training and Validation Accuracy')\n",
    "\n",
    "plt.subplot(2, 1, 1)\n",
    "plt.plot(loss,'-b*', label='Training Loss')\n",
    "plt.plot(val_loss,'-r*', label='Validation Loss')\n",
    "plt.legend(loc='upper right')\n",
    "plt.ylabel('Cross Entropy')\n",
    "plt.ylim([0,3.5])\n",
    "plt.title('Training and Validation Loss')\n",
    "plt.xlabel('epoch')\n",
    "plt.show()\n",
    "\n",
    "\n"
   ]
  },
  {
   "cell_type": "code",
   "execution_count": 86,
   "metadata": {},
   "outputs": [
    {
     "name": "stdout",
     "output_type": "stream",
     "text": [
      "Evaluate on test data\n",
      "test loss, test acc: [1.6742655038833618, 0.3]\n"
     ]
    }
   ],
   "source": [
    "print(\"Evaluate on test data\")\n",
    "results = model.evaluate(X_test, y_test, batch_size=128)\n",
    "print(\"test loss, test acc:\", results)"
   ]
  },
  {
   "cell_type": "code",
   "execution_count": null,
   "metadata": {},
   "outputs": [],
   "source": [
    "res = model.predict(X_test)"
   ]
  },
  {
   "cell_type": "code",
   "execution_count": null,
   "metadata": {},
   "outputs": [],
   "source": [
    "actions[np.argmax(res[1])]"
   ]
  },
  {
   "cell_type": "code",
   "execution_count": null,
   "metadata": {},
   "outputs": [],
   "source": [
    "actions[np.argmax(y_test[1])]"
   ]
  },
  {
   "cell_type": "code",
   "execution_count": null,
   "metadata": {},
   "outputs": [],
   "source": [
    "from sklearn import metrics"
   ]
  },
  {
   "cell_type": "code",
   "execution_count": null,
   "metadata": {},
   "outputs": [],
   "source": [
    "print(f\"Classification report for Sign Gestures \\n\"\n",
    "      f\"{metrics.classification_report(ytrue, yhat)}\\n\")"
   ]
  },
  {
   "cell_type": "code",
   "execution_count": null,
   "metadata": {},
   "outputs": [],
   "source": [
    "metrics.accuracy_score(ytrue, yhat)"
   ]
  },
  {
   "cell_type": "code",
   "execution_count": null,
   "metadata": {},
   "outputs": [],
   "source": [
    "from sklearn.metrics import r2_score"
   ]
  },
  {
   "cell_type": "code",
   "execution_count": null,
   "metadata": {},
   "outputs": [],
   "source": [
    "r2_score(ytrue, yhat)"
   ]
  },
  {
   "cell_type": "code",
   "execution_count": null,
   "metadata": {},
   "outputs": [],
   "source": [
    "from sklearn.metrics import mean_squared_error"
   ]
  },
  {
   "cell_type": "code",
   "execution_count": null,
   "metadata": {},
   "outputs": [],
   "source": [
    "mean_squared_error(ytrue, yhat)"
   ]
  },
  {
   "cell_type": "code",
   "execution_count": null,
   "metadata": {},
   "outputs": [],
   "source": [
    "from sklearn.metrics import mean_absolute_error"
   ]
  },
  {
   "cell_type": "code",
   "execution_count": null,
   "metadata": {},
   "outputs": [],
   "source": [
    "mean_absolute_error(ytrue, yhat)"
   ]
  },
  {
   "cell_type": "markdown",
   "metadata": {},
   "source": [
    "# Proposed GRU"
   ]
  },
  {
   "cell_type": "code",
   "execution_count": 87,
   "metadata": {},
   "outputs": [],
   "source": [
    "from tensorflow.keras.models import Sequential\n",
    "from tensorflow.keras.layers import GRU, Dense, Dropout, BatchNormalization\n",
    "from tensorflow.keras.callbacks import TensorBoard"
   ]
  },
  {
   "cell_type": "code",
   "execution_count": 88,
   "metadata": {},
   "outputs": [],
   "source": [
    "log_dir = os.path.join('LogsMGRU')\n",
    "tb_callback = TensorBoard(log_dir=log_dir)"
   ]
  },
  {
   "cell_type": "code",
   "execution_count": 89,
   "metadata": {},
   "outputs": [],
   "source": [
    "model = Sequential()\n",
    "model.add(GRU(128, return_sequences=True, activation='elu', input_shape=(30,1662)))\n",
    "model.add(Dropout(0.2))\n",
    "model.add(GRU(64, return_sequences=True, activation='tanh'))\n",
    "model.add(Dropout(0.3))\n",
    "model.add(GRU(32, return_sequences=False, activation='relu'))\n",
    "model.add(Dense(64, activation='relu'))\n",
    "model.add(BatchNormalization())\n",
    "model.add(Dense(32, activation='relu'))\n",
    "model.add(Dense(actions.shape[0], activation='softmax'))"
   ]
  },
  {
   "cell_type": "code",
   "execution_count": 90,
   "metadata": {},
   "outputs": [],
   "source": [
    "model.compile(optimizer='Adam', loss='categorical_crossentropy', metrics=['categorical_accuracy'])"
   ]
  },
  {
   "cell_type": "code",
   "execution_count": 91,
   "metadata": {},
   "outputs": [
    {
     "name": "stdout",
     "output_type": "stream",
     "text": [
      "Train on 296 samples, validate on 74 samples\n",
      "Epoch 1/100\n",
      "296/296 [==============================] - 2s 6ms/sample - loss: 2.6748 - categorical_accuracy: 0.0709 - val_loss: 2.6160 - val_categorical_accuracy: 0.0541\n",
      "Epoch 2/100\n",
      "296/296 [==============================] - 1s 3ms/sample - loss: 2.6417 - categorical_accuracy: 0.0946 - val_loss: 2.6208 - val_categorical_accuracy: 0.0541\n",
      "Epoch 3/100\n",
      "296/296 [==============================] - 1s 2ms/sample - loss: 2.4766 - categorical_accuracy: 0.1419 - val_loss: 2.5463 - val_categorical_accuracy: 0.0270\n",
      "Epoch 4/100\n",
      "296/296 [==============================] - 1s 2ms/sample - loss: 2.4569 - categorical_accuracy: 0.1318 - val_loss: 2.5318 - val_categorical_accuracy: 0.0676\n",
      "Epoch 5/100\n",
      "296/296 [==============================] - 1s 2ms/sample - loss: 2.4372 - categorical_accuracy: 0.1318 - val_loss: 2.5950 - val_categorical_accuracy: 0.0541\n",
      "Epoch 6/100\n",
      "296/296 [==============================] - 1s 2ms/sample - loss: 2.3529 - categorical_accuracy: 0.1689 - val_loss: 2.5211 - val_categorical_accuracy: 0.1486\n",
      "Epoch 7/100\n",
      "296/296 [==============================] - 1s 2ms/sample - loss: 2.2563 - categorical_accuracy: 0.1993 - val_loss: 2.5529 - val_categorical_accuracy: 0.0541\n",
      "Epoch 8/100\n",
      "296/296 [==============================] - 1s 2ms/sample - loss: 2.2256 - categorical_accuracy: 0.2162 - val_loss: 2.4859 - val_categorical_accuracy: 0.0946\n",
      "Epoch 9/100\n",
      "296/296 [==============================] - 1s 2ms/sample - loss: 2.2359 - categorical_accuracy: 0.2128 - val_loss: 2.5100 - val_categorical_accuracy: 0.0946\n",
      "Epoch 10/100\n",
      "296/296 [==============================] - 1s 2ms/sample - loss: 2.2021 - categorical_accuracy: 0.1926 - val_loss: 2.7407 - val_categorical_accuracy: 0.0946\n",
      "Epoch 11/100\n",
      "296/296 [==============================] - 1s 2ms/sample - loss: 2.1647 - categorical_accuracy: 0.2466 - val_loss: 2.4191 - val_categorical_accuracy: 0.0541\n",
      "Epoch 12/100\n",
      "296/296 [==============================] - 1s 2ms/sample - loss: 2.0951 - categorical_accuracy: 0.2703 - val_loss: 2.3849 - val_categorical_accuracy: 0.0811\n",
      "Epoch 13/100\n",
      "296/296 [==============================] - 1s 2ms/sample - loss: 2.0264 - categorical_accuracy: 0.2804 - val_loss: 2.5023 - val_categorical_accuracy: 0.1081\n",
      "Epoch 14/100\n",
      "296/296 [==============================] - 1s 2ms/sample - loss: 2.0352 - categorical_accuracy: 0.2736 - val_loss: 2.3390 - val_categorical_accuracy: 0.2432\n",
      "Epoch 15/100\n",
      "296/296 [==============================] - 1s 2ms/sample - loss: 1.9253 - categorical_accuracy: 0.3615 - val_loss: 2.2609 - val_categorical_accuracy: 0.1892\n",
      "Epoch 16/100\n",
      "296/296 [==============================] - 1s 2ms/sample - loss: 1.9196 - categorical_accuracy: 0.3041 - val_loss: 2.2749 - val_categorical_accuracy: 0.1351\n",
      "Epoch 17/100\n",
      "296/296 [==============================] - 1s 2ms/sample - loss: 1.9146 - categorical_accuracy: 0.3514 - val_loss: 2.2055 - val_categorical_accuracy: 0.1216\n",
      "Epoch 18/100\n",
      "296/296 [==============================] - 1s 2ms/sample - loss: 1.8297 - categorical_accuracy: 0.3649 - val_loss: 2.0602 - val_categorical_accuracy: 0.2973\n",
      "Epoch 19/100\n",
      "296/296 [==============================] - 1s 2ms/sample - loss: 1.7271 - categorical_accuracy: 0.4291 - val_loss: 1.9263 - val_categorical_accuracy: 0.3919\n",
      "Epoch 20/100\n",
      "296/296 [==============================] - 1s 2ms/sample - loss: 1.6684 - categorical_accuracy: 0.4561 - val_loss: 1.9873 - val_categorical_accuracy: 0.3243\n",
      "Epoch 21/100\n",
      "296/296 [==============================] - 1s 2ms/sample - loss: 1.5870 - categorical_accuracy: 0.5000 - val_loss: 2.0921 - val_categorical_accuracy: 0.2703\n",
      "Epoch 22/100\n",
      "296/296 [==============================] - 1s 2ms/sample - loss: 1.5773 - categorical_accuracy: 0.5068 - val_loss: 2.2264 - val_categorical_accuracy: 0.2703\n",
      "Epoch 23/100\n",
      "296/296 [==============================] - 1s 2ms/sample - loss: 1.6552 - categorical_accuracy: 0.4155 - val_loss: 1.9193 - val_categorical_accuracy: 0.2838\n",
      "Epoch 24/100\n",
      "296/296 [==============================] - 1s 2ms/sample - loss: 1.5957 - categorical_accuracy: 0.4899 - val_loss: 1.8306 - val_categorical_accuracy: 0.3378\n",
      "Epoch 25/100\n",
      "296/296 [==============================] - 1s 2ms/sample - loss: 1.5037 - categorical_accuracy: 0.5473 - val_loss: 2.6952 - val_categorical_accuracy: 0.1216\n",
      "Epoch 26/100\n",
      "296/296 [==============================] - 1s 2ms/sample - loss: 1.5456 - categorical_accuracy: 0.5169 - val_loss: 1.9004 - val_categorical_accuracy: 0.3919\n",
      "Epoch 27/100\n",
      "296/296 [==============================] - 1s 2ms/sample - loss: 1.3547 - categorical_accuracy: 0.5270 - val_loss: 1.6034 - val_categorical_accuracy: 0.4324\n",
      "Epoch 28/100\n",
      "296/296 [==============================] - 1s 2ms/sample - loss: 1.3756 - categorical_accuracy: 0.5541 - val_loss: 1.5579 - val_categorical_accuracy: 0.4730\n",
      "Epoch 29/100\n",
      "296/296 [==============================] - 1s 2ms/sample - loss: 1.2391 - categorical_accuracy: 0.6216 - val_loss: 2.5242 - val_categorical_accuracy: 0.2297\n",
      "Epoch 30/100\n",
      "296/296 [==============================] - 1s 2ms/sample - loss: 1.3296 - categorical_accuracy: 0.5608 - val_loss: 1.3832 - val_categorical_accuracy: 0.5676\n",
      "Epoch 31/100\n",
      "296/296 [==============================] - 1s 2ms/sample - loss: 1.0488 - categorical_accuracy: 0.6858 - val_loss: 2.0135 - val_categorical_accuracy: 0.3243\n",
      "Epoch 32/100\n",
      "296/296 [==============================] - 1s 2ms/sample - loss: 1.0674 - categorical_accuracy: 0.6284 - val_loss: 1.3705 - val_categorical_accuracy: 0.4595\n",
      "Epoch 33/100\n",
      "296/296 [==============================] - 1s 2ms/sample - loss: 0.9826 - categorical_accuracy: 0.6858 - val_loss: 1.5406 - val_categorical_accuracy: 0.4730\n",
      "Epoch 34/100\n",
      "296/296 [==============================] - 1s 2ms/sample - loss: 0.9026 - categorical_accuracy: 0.7264 - val_loss: 1.0802 - val_categorical_accuracy: 0.6351\n",
      "Epoch 35/100\n",
      "296/296 [==============================] - 1s 2ms/sample - loss: 0.8427 - categorical_accuracy: 0.7534 - val_loss: 2.0286 - val_categorical_accuracy: 0.2838\n",
      "Epoch 36/100\n",
      "296/296 [==============================] - 1s 2ms/sample - loss: 1.0238 - categorical_accuracy: 0.6622 - val_loss: 2.2900 - val_categorical_accuracy: 0.3378\n",
      "Epoch 37/100\n",
      "296/296 [==============================] - 1s 2ms/sample - loss: 0.9037 - categorical_accuracy: 0.7297 - val_loss: 1.2696 - val_categorical_accuracy: 0.5676\n",
      "Epoch 38/100\n",
      "296/296 [==============================] - 1s 2ms/sample - loss: 0.8298 - categorical_accuracy: 0.7466 - val_loss: 1.5299 - val_categorical_accuracy: 0.4459\n",
      "Epoch 39/100\n",
      "296/296 [==============================] - 1s 2ms/sample - loss: 0.8550 - categorical_accuracy: 0.7061 - val_loss: 1.5947 - val_categorical_accuracy: 0.4459\n",
      "Epoch 40/100\n",
      "296/296 [==============================] - 1s 2ms/sample - loss: 0.7878 - categorical_accuracy: 0.7162 - val_loss: 2.0610 - val_categorical_accuracy: 0.4054\n",
      "Epoch 41/100\n",
      "296/296 [==============================] - 1s 2ms/sample - loss: 0.8214 - categorical_accuracy: 0.7534 - val_loss: 1.8553 - val_categorical_accuracy: 0.3784\n",
      "Epoch 42/100\n",
      "296/296 [==============================] - 1s 2ms/sample - loss: 0.6491 - categorical_accuracy: 0.8311 - val_loss: 0.8326 - val_categorical_accuracy: 0.7568\n",
      "Epoch 43/100\n",
      "296/296 [==============================] - 1s 2ms/sample - loss: 0.6946 - categorical_accuracy: 0.8007 - val_loss: 1.5825 - val_categorical_accuracy: 0.4324\n",
      "Epoch 44/100\n",
      "296/296 [==============================] - 1s 2ms/sample - loss: 0.7198 - categorical_accuracy: 0.7770 - val_loss: 1.8087 - val_categorical_accuracy: 0.4324\n",
      "Epoch 45/100\n",
      "296/296 [==============================] - 1s 2ms/sample - loss: 0.6125 - categorical_accuracy: 0.8345 - val_loss: 0.9971 - val_categorical_accuracy: 0.6216\n",
      "Epoch 46/100\n",
      "296/296 [==============================] - 1s 2ms/sample - loss: 0.5820 - categorical_accuracy: 0.8108 - val_loss: 0.8836 - val_categorical_accuracy: 0.6351\n",
      "Epoch 47/100\n",
      "296/296 [==============================] - 1s 2ms/sample - loss: 0.4768 - categorical_accuracy: 0.8953 - val_loss: 0.6240 - val_categorical_accuracy: 0.7838\n",
      "Epoch 48/100\n",
      "296/296 [==============================] - 1s 2ms/sample - loss: 0.4670 - categorical_accuracy: 0.8986 - val_loss: 0.8023 - val_categorical_accuracy: 0.6892\n"
     ]
    },
    {
     "name": "stdout",
     "output_type": "stream",
     "text": [
      "Epoch 49/100\n",
      "296/296 [==============================] - 1s 2ms/sample - loss: 0.4482 - categorical_accuracy: 0.8818 - val_loss: 1.6867 - val_categorical_accuracy: 0.4054\n",
      "Epoch 50/100\n",
      "296/296 [==============================] - 1s 2ms/sample - loss: 0.4739 - categorical_accuracy: 0.8615 - val_loss: 1.1506 - val_categorical_accuracy: 0.6757\n",
      "Epoch 51/100\n",
      "296/296 [==============================] - 1s 2ms/sample - loss: 0.4611 - categorical_accuracy: 0.8615 - val_loss: 1.0177 - val_categorical_accuracy: 0.6351\n",
      "Epoch 52/100\n",
      "296/296 [==============================] - 1s 2ms/sample - loss: 0.4301 - categorical_accuracy: 0.9054 - val_loss: 0.9308 - val_categorical_accuracy: 0.6081\n",
      "Epoch 53/100\n",
      "296/296 [==============================] - 1s 2ms/sample - loss: 0.4394 - categorical_accuracy: 0.8682 - val_loss: 0.9004 - val_categorical_accuracy: 0.6216\n",
      "Epoch 54/100\n",
      "296/296 [==============================] - 1s 2ms/sample - loss: 0.3375 - categorical_accuracy: 0.9257 - val_loss: 1.0411 - val_categorical_accuracy: 0.6351\n",
      "Epoch 55/100\n",
      "296/296 [==============================] - 1s 2ms/sample - loss: 0.3747 - categorical_accuracy: 0.8919 - val_loss: 1.6661 - val_categorical_accuracy: 0.5135\n",
      "Epoch 56/100\n",
      "296/296 [==============================] - 1s 2ms/sample - loss: 0.3607 - categorical_accuracy: 0.9155 - val_loss: 0.6143 - val_categorical_accuracy: 0.7568\n",
      "Epoch 57/100\n",
      "296/296 [==============================] - 1s 2ms/sample - loss: 0.3315 - categorical_accuracy: 0.9223 - val_loss: 0.6339 - val_categorical_accuracy: 0.8514\n",
      "Epoch 58/100\n",
      "296/296 [==============================] - 1s 2ms/sample - loss: 0.3075 - categorical_accuracy: 0.9223 - val_loss: 1.4207 - val_categorical_accuracy: 0.5541\n",
      "Epoch 59/100\n",
      "296/296 [==============================] - 1s 2ms/sample - loss: 0.3310 - categorical_accuracy: 0.9155 - val_loss: 1.6798 - val_categorical_accuracy: 0.6216\n",
      "Epoch 60/100\n",
      "296/296 [==============================] - 1s 2ms/sample - loss: 0.4837 - categorical_accuracy: 0.8547 - val_loss: 2.4263 - val_categorical_accuracy: 0.5541\n",
      "Epoch 61/100\n",
      "296/296 [==============================] - 1s 2ms/sample - loss: 0.4053 - categorical_accuracy: 0.8682 - val_loss: 0.6216 - val_categorical_accuracy: 0.8108\n",
      "Epoch 62/100\n",
      "296/296 [==============================] - 1s 2ms/sample - loss: 0.3167 - categorical_accuracy: 0.8986 - val_loss: 0.6276 - val_categorical_accuracy: 0.8243\n",
      "Epoch 63/100\n",
      "296/296 [==============================] - 1s 2ms/sample - loss: 0.3524 - categorical_accuracy: 0.8986 - val_loss: 2.5082 - val_categorical_accuracy: 0.4865\n",
      "Epoch 64/100\n",
      "296/296 [==============================] - 1s 2ms/sample - loss: 0.4582 - categorical_accuracy: 0.8446 - val_loss: 1.8504 - val_categorical_accuracy: 0.4459\n",
      "Epoch 65/100\n",
      "296/296 [==============================] - 1s 2ms/sample - loss: 0.3630 - categorical_accuracy: 0.8919 - val_loss: 0.6641 - val_categorical_accuracy: 0.7703\n",
      "Epoch 66/100\n",
      "296/296 [==============================] - 1s 2ms/sample - loss: 0.3553 - categorical_accuracy: 0.8784 - val_loss: 1.1119 - val_categorical_accuracy: 0.6351\n",
      "Epoch 67/100\n",
      "296/296 [==============================] - 1s 2ms/sample - loss: 0.2857 - categorical_accuracy: 0.9223 - val_loss: 0.6733 - val_categorical_accuracy: 0.8378\n",
      "Epoch 68/100\n",
      "296/296 [==============================] - 1s 2ms/sample - loss: 0.2948 - categorical_accuracy: 0.8953 - val_loss: 0.5756 - val_categorical_accuracy: 0.7973\n",
      "Epoch 69/100\n",
      "296/296 [==============================] - 1s 2ms/sample - loss: 0.2753 - categorical_accuracy: 0.9189 - val_loss: 0.6166 - val_categorical_accuracy: 0.7568\n",
      "Epoch 70/100\n",
      "296/296 [==============================] - 1s 2ms/sample - loss: 0.2233 - categorical_accuracy: 0.9459 - val_loss: 1.8441 - val_categorical_accuracy: 0.6081\n",
      "Epoch 71/100\n",
      "296/296 [==============================] - 1s 2ms/sample - loss: 0.2107 - categorical_accuracy: 0.9527 - val_loss: 0.6032 - val_categorical_accuracy: 0.7703\n",
      "Epoch 72/100\n",
      "296/296 [==============================] - 1s 2ms/sample - loss: 0.2064 - categorical_accuracy: 0.9426 - val_loss: 0.3889 - val_categorical_accuracy: 0.8649\n",
      "Epoch 73/100\n",
      "296/296 [==============================] - 1s 2ms/sample - loss: 0.2216 - categorical_accuracy: 0.9527 - val_loss: 0.8462 - val_categorical_accuracy: 0.7162\n",
      "Epoch 74/100\n",
      "296/296 [==============================] - 1s 2ms/sample - loss: 0.1982 - categorical_accuracy: 0.9426 - val_loss: 0.7408 - val_categorical_accuracy: 0.7973\n",
      "Epoch 75/100\n",
      "296/296 [==============================] - 1s 2ms/sample - loss: 0.2669 - categorical_accuracy: 0.9189 - val_loss: 0.4713 - val_categorical_accuracy: 0.8514\n",
      "Epoch 76/100\n",
      "296/296 [==============================] - 1s 2ms/sample - loss: 0.2088 - categorical_accuracy: 0.9392 - val_loss: 0.5909 - val_categorical_accuracy: 0.7973\n",
      "Epoch 77/100\n",
      "296/296 [==============================] - 1s 2ms/sample - loss: 0.2060 - categorical_accuracy: 0.9426 - val_loss: 2.4294 - val_categorical_accuracy: 0.4595\n",
      "Epoch 78/100\n",
      "296/296 [==============================] - 1s 2ms/sample - loss: 0.1978 - categorical_accuracy: 0.9426 - val_loss: 0.5300 - val_categorical_accuracy: 0.8378\n",
      "Epoch 79/100\n",
      "296/296 [==============================] - 1s 2ms/sample - loss: 0.1868 - categorical_accuracy: 0.9493 - val_loss: 0.9496 - val_categorical_accuracy: 0.7027\n",
      "Epoch 80/100\n",
      "296/296 [==============================] - 1s 2ms/sample - loss: 0.2401 - categorical_accuracy: 0.9324 - val_loss: 0.9087 - val_categorical_accuracy: 0.6622\n",
      "Epoch 81/100\n",
      "296/296 [==============================] - 1s 2ms/sample - loss: 0.1672 - categorical_accuracy: 0.9662 - val_loss: 0.5725 - val_categorical_accuracy: 0.8514\n",
      "Epoch 82/100\n",
      "296/296 [==============================] - 1s 2ms/sample - loss: 0.2104 - categorical_accuracy: 0.9527 - val_loss: 0.4147 - val_categorical_accuracy: 0.9054\n",
      "Epoch 83/100\n",
      "296/296 [==============================] - 1s 2ms/sample - loss: 0.2339 - categorical_accuracy: 0.9257 - val_loss: 0.7557 - val_categorical_accuracy: 0.8108\n",
      "Epoch 84/100\n",
      "296/296 [==============================] - 1s 2ms/sample - loss: 0.2424 - categorical_accuracy: 0.9291 - val_loss: 0.8133 - val_categorical_accuracy: 0.7432\n",
      "Epoch 85/100\n",
      "296/296 [==============================] - 1s 2ms/sample - loss: 0.3506 - categorical_accuracy: 0.9054 - val_loss: 0.8184 - val_categorical_accuracy: 0.8108\n",
      "Epoch 86/100\n",
      "296/296 [==============================] - 1s 2ms/sample - loss: 0.2823 - categorical_accuracy: 0.9088 - val_loss: 1.1342 - val_categorical_accuracy: 0.6757\n",
      "Epoch 87/100\n",
      "296/296 [==============================] - 1s 2ms/sample - loss: 0.2148 - categorical_accuracy: 0.9291 - val_loss: 1.6312 - val_categorical_accuracy: 0.5270\n",
      "Epoch 88/100\n",
      "296/296 [==============================] - 1s 2ms/sample - loss: 0.2701 - categorical_accuracy: 0.9155 - val_loss: 2.4892 - val_categorical_accuracy: 0.3649\n",
      "Epoch 89/100\n",
      "296/296 [==============================] - 1s 2ms/sample - loss: 0.2085 - categorical_accuracy: 0.9392 - val_loss: 1.7065 - val_categorical_accuracy: 0.6216\n",
      "Epoch 90/100\n",
      "296/296 [==============================] - 1s 2ms/sample - loss: 0.2364 - categorical_accuracy: 0.9122 - val_loss: 1.1544 - val_categorical_accuracy: 0.6622\n",
      "Epoch 91/100\n",
      "296/296 [==============================] - 1s 2ms/sample - loss: 0.2545 - categorical_accuracy: 0.8953 - val_loss: 2.9247 - val_categorical_accuracy: 0.4730\n",
      "Epoch 92/100\n",
      "296/296 [==============================] - 1s 2ms/sample - loss: 0.2893 - categorical_accuracy: 0.9122 - val_loss: 2.8074 - val_categorical_accuracy: 0.4324\n",
      "Epoch 93/100\n",
      "296/296 [==============================] - 1s 2ms/sample - loss: 0.1722 - categorical_accuracy: 0.9561 - val_loss: 1.0021 - val_categorical_accuracy: 0.7297\n",
      "Epoch 94/100\n",
      "296/296 [==============================] - 1s 2ms/sample - loss: 0.1462 - categorical_accuracy: 0.9696 - val_loss: 0.4047 - val_categorical_accuracy: 0.8919\n",
      "Epoch 95/100\n",
      "296/296 [==============================] - 1s 2ms/sample - loss: 0.2078 - categorical_accuracy: 0.9426 - val_loss: 1.0964 - val_categorical_accuracy: 0.6216\n",
      "Epoch 96/100\n",
      "296/296 [==============================] - 1s 2ms/sample - loss: 0.1687 - categorical_accuracy: 0.9561 - val_loss: 0.9718 - val_categorical_accuracy: 0.7297\n",
      "Epoch 97/100\n"
     ]
    },
    {
     "name": "stdout",
     "output_type": "stream",
     "text": [
      "296/296 [==============================] - 1s 2ms/sample - loss: 0.4678 - categorical_accuracy: 0.8412 - val_loss: 1.6547 - val_categorical_accuracy: 0.5541\n",
      "Epoch 98/100\n",
      "296/296 [==============================] - 1s 2ms/sample - loss: 0.2586 - categorical_accuracy: 0.9189 - val_loss: 1.7557 - val_categorical_accuracy: 0.5405\n",
      "Epoch 99/100\n",
      "296/296 [==============================] - 1s 2ms/sample - loss: 0.2155 - categorical_accuracy: 0.9358 - val_loss: 0.4892 - val_categorical_accuracy: 0.8378\n",
      "Epoch 100/100\n",
      "296/296 [==============================] - 1s 2ms/sample - loss: 0.1431 - categorical_accuracy: 0.9595 - val_loss: 0.6664 - val_categorical_accuracy: 0.8378\n"
     ]
    }
   ],
   "source": [
    "history_4 = model.fit(X_train, y_train, epochs=100, validation_split=0.2,callbacks=[tb_callback])"
   ]
  },
  {
   "cell_type": "code",
   "execution_count": 92,
   "metadata": {},
   "outputs": [
    {
     "data": {
      "text/plain": [
       "{'loss': [2.6747680097012907,\n",
       "  2.6416647369797164,\n",
       "  2.4766075482239596,\n",
       "  2.4568717544143266,\n",
       "  2.4372136850614807,\n",
       "  2.352927659008954,\n",
       "  2.256331372905422,\n",
       "  2.2256045921428784,\n",
       "  2.2358944609358504,\n",
       "  2.2021385527945854,\n",
       "  2.1647307904990942,\n",
       "  2.0951339650798486,\n",
       "  2.026395604417131,\n",
       "  2.035210477339255,\n",
       "  1.9252502724931047,\n",
       "  1.9195648399559226,\n",
       "  1.914584069638639,\n",
       "  1.8297051287986137,\n",
       "  1.7271397983705676,\n",
       "  1.6683658039247669,\n",
       "  1.5869583890244767,\n",
       "  1.5772738940006978,\n",
       "  1.6551643803312972,\n",
       "  1.5957483633144482,\n",
       "  1.50372314453125,\n",
       "  1.5456344888016984,\n",
       "  1.3547378456270374,\n",
       "  1.3756168565234623,\n",
       "  1.239095781300519,\n",
       "  1.329566641433819,\n",
       "  1.0488241524309725,\n",
       "  1.0674481842968915,\n",
       "  0.9825795921119483,\n",
       "  0.9026162431046769,\n",
       "  0.8427150764980832,\n",
       "  1.0237647778279073,\n",
       "  0.9036545044667011,\n",
       "  0.829806798213237,\n",
       "  0.8549978894156378,\n",
       "  0.7877507354762103,\n",
       "  0.8214124795552846,\n",
       "  0.6491272256181047,\n",
       "  0.6945983864165641,\n",
       "  0.7197788116094228,\n",
       "  0.6125443497219601,\n",
       "  0.5819679273141397,\n",
       "  0.47681956033448913,\n",
       "  0.4670101162549612,\n",
       "  0.44819188762355494,\n",
       "  0.4738612819362331,\n",
       "  0.461147703029014,\n",
       "  0.4300934559590108,\n",
       "  0.4393962138407939,\n",
       "  0.33753064838615626,\n",
       "  0.3747219539977409,\n",
       "  0.36072519985405177,\n",
       "  0.33149630797875895,\n",
       "  0.3075439398353164,\n",
       "  0.33100128415468577,\n",
       "  0.48365312492525253,\n",
       "  0.40530444641371033,\n",
       "  0.3166523978516862,\n",
       "  0.35243731898230474,\n",
       "  0.4582244512197134,\n",
       "  0.36299388714738795,\n",
       "  0.3553305526037474,\n",
       "  0.28574482170311183,\n",
       "  0.29482947974591645,\n",
       "  0.2752539805463842,\n",
       "  0.2233100050204509,\n",
       "  0.21072753458409696,\n",
       "  0.20637843415543838,\n",
       "  0.22158688649132446,\n",
       "  0.19823601278098854,\n",
       "  0.26688746685111847,\n",
       "  0.20882181239289208,\n",
       "  0.2059944338492445,\n",
       "  0.19779018373102755,\n",
       "  0.18683434096542564,\n",
       "  0.24014743115450884,\n",
       "  0.16721704541831403,\n",
       "  0.21035410987364278,\n",
       "  0.23393133685395523,\n",
       "  0.24237977491842733,\n",
       "  0.35057744786546036,\n",
       "  0.2822554014824532,\n",
       "  0.21476394582439112,\n",
       "  0.2700966934900026,\n",
       "  0.2084528554130245,\n",
       "  0.23635080859467789,\n",
       "  0.25452496715494105,\n",
       "  0.28926057912207936,\n",
       "  0.17220504783295296,\n",
       "  0.14622754341847188,\n",
       "  0.20783966618615227,\n",
       "  0.16867337275195765,\n",
       "  0.4677537131953884,\n",
       "  0.25860273999136846,\n",
       "  0.2155281788594014,\n",
       "  0.1430605327760851],\n",
       " 'categorical_accuracy': [0.07094595,\n",
       "  0.0945946,\n",
       "  0.1418919,\n",
       "  0.13175675,\n",
       "  0.13175675,\n",
       "  0.16891892,\n",
       "  0.19932432,\n",
       "  0.21621622,\n",
       "  0.21283785,\n",
       "  0.19256757,\n",
       "  0.24662162,\n",
       "  0.27027026,\n",
       "  0.2804054,\n",
       "  0.27364865,\n",
       "  0.3614865,\n",
       "  0.30405405,\n",
       "  0.35135135,\n",
       "  0.36486486,\n",
       "  0.42905405,\n",
       "  0.4560811,\n",
       "  0.5,\n",
       "  0.5067568,\n",
       "  0.41554055,\n",
       "  0.48986486,\n",
       "  0.5472973,\n",
       "  0.5168919,\n",
       "  0.527027,\n",
       "  0.5540541,\n",
       "  0.6216216,\n",
       "  0.5608108,\n",
       "  0.6858108,\n",
       "  0.6283784,\n",
       "  0.6858108,\n",
       "  0.7263514,\n",
       "  0.7533784,\n",
       "  0.6621622,\n",
       "  0.7297297,\n",
       "  0.7466216,\n",
       "  0.7060811,\n",
       "  0.7162162,\n",
       "  0.7533784,\n",
       "  0.8310811,\n",
       "  0.8006757,\n",
       "  0.777027,\n",
       "  0.8344595,\n",
       "  0.8108108,\n",
       "  0.8952703,\n",
       "  0.8986486,\n",
       "  0.8817568,\n",
       "  0.8614865,\n",
       "  0.8614865,\n",
       "  0.9054054,\n",
       "  0.8682432,\n",
       "  0.9256757,\n",
       "  0.8918919,\n",
       "  0.9155405,\n",
       "  0.9222973,\n",
       "  0.9222973,\n",
       "  0.9155405,\n",
       "  0.8547297,\n",
       "  0.8682432,\n",
       "  0.8986486,\n",
       "  0.8986486,\n",
       "  0.8445946,\n",
       "  0.8918919,\n",
       "  0.8783784,\n",
       "  0.9222973,\n",
       "  0.8952703,\n",
       "  0.9189189,\n",
       "  0.9459459,\n",
       "  0.9527027,\n",
       "  0.9425676,\n",
       "  0.9527027,\n",
       "  0.9425676,\n",
       "  0.9189189,\n",
       "  0.9391892,\n",
       "  0.9425676,\n",
       "  0.9425676,\n",
       "  0.9493243,\n",
       "  0.9324324,\n",
       "  0.9662162,\n",
       "  0.9527027,\n",
       "  0.9256757,\n",
       "  0.9290541,\n",
       "  0.9054054,\n",
       "  0.9087838,\n",
       "  0.9290541,\n",
       "  0.9155405,\n",
       "  0.9391892,\n",
       "  0.9121622,\n",
       "  0.8952703,\n",
       "  0.9121622,\n",
       "  0.9560811,\n",
       "  0.9695946,\n",
       "  0.9425676,\n",
       "  0.9560811,\n",
       "  0.8412162,\n",
       "  0.9189189,\n",
       "  0.9358108,\n",
       "  0.9594595],\n",
       " 'val_loss': [2.6160454943373397,\n",
       "  2.6207894119056494,\n",
       "  2.546295771727691,\n",
       "  2.531789914981739,\n",
       "  2.5950438911850386,\n",
       "  2.5211314768404574,\n",
       "  2.552858707067129,\n",
       "  2.4859220143911003,\n",
       "  2.5100028385987154,\n",
       "  2.7406697788754024,\n",
       "  2.4190821389894226,\n",
       "  2.3849424800357304,\n",
       "  2.502321675017073,\n",
       "  2.3390339194117367,\n",
       "  2.260861332352097,\n",
       "  2.2748846492251835,\n",
       "  2.2055345999227987,\n",
       "  2.06023899284569,\n",
       "  1.9263125368066736,\n",
       "  1.987333851891595,\n",
       "  2.0921176704200537,\n",
       "  2.2264141456500903,\n",
       "  1.9192663398948875,\n",
       "  1.8305669410808667,\n",
       "  2.695159332172291,\n",
       "  1.9003824768839657,\n",
       "  1.6034489515665415,\n",
       "  1.5578508699262463,\n",
       "  2.5242363568898796,\n",
       "  1.383212756466221,\n",
       "  2.0134840655971216,\n",
       "  1.3705364143526233,\n",
       "  1.5405507409894788,\n",
       "  1.0802423631822742,\n",
       "  2.02857586499807,\n",
       "  2.2899922551335514,\n",
       "  1.2696140779031289,\n",
       "  1.52994289913693,\n",
       "  1.5946881384462923,\n",
       "  2.060988310221079,\n",
       "  1.855344221398637,\n",
       "  0.8325921941447902,\n",
       "  1.5825191414034046,\n",
       "  1.8086750861760732,\n",
       "  0.9971363157839388,\n",
       "  0.8836078998204824,\n",
       "  0.6239882224314922,\n",
       "  0.802270765240128,\n",
       "  1.6866891384124756,\n",
       "  1.150640242808574,\n",
       "  1.0177302392753396,\n",
       "  0.9308060568732184,\n",
       "  0.9004239311089387,\n",
       "  1.0410604122522715,\n",
       "  1.6660718144597233,\n",
       "  0.6143197916649483,\n",
       "  0.6339344382286072,\n",
       "  1.420738216992971,\n",
       "  1.6797581298931226,\n",
       "  2.4262723342792407,\n",
       "  0.6215672541309047,\n",
       "  0.627644335901415,\n",
       "  2.5081615770185315,\n",
       "  1.8504330338658512,\n",
       "  0.6641087822012,\n",
       "  1.1118909926027865,\n",
       "  0.6732902339584118,\n",
       "  0.5755624626133893,\n",
       "  0.6165752265904401,\n",
       "  1.8440605305336617,\n",
       "  0.6031863826352197,\n",
       "  0.38889710806511546,\n",
       "  0.8461907650973346,\n",
       "  0.7407890944867521,\n",
       "  0.4712754794069239,\n",
       "  0.5909423280406643,\n",
       "  2.429398272488568,\n",
       "  0.5299865982017001,\n",
       "  0.9496185779571533,\n",
       "  0.908747365345826,\n",
       "  0.5724864038261207,\n",
       "  0.4147334501550004,\n",
       "  0.7556650525814778,\n",
       "  0.8132824881656749,\n",
       "  0.8184190601915926,\n",
       "  1.1341973704260748,\n",
       "  1.6312454262295284,\n",
       "  2.4892008884533032,\n",
       "  1.7064953494716335,\n",
       "  1.1544135281363048,\n",
       "  2.9247413454829037,\n",
       "  2.807372686025259,\n",
       "  1.0020999811791085,\n",
       "  0.4047336065890016,\n",
       "  1.0964272489418854,\n",
       "  0.9717706735875156,\n",
       "  1.6546673162563428,\n",
       "  1.7556697742359058,\n",
       "  0.4891946041906202,\n",
       "  0.6663925220837464],\n",
       " 'val_categorical_accuracy': [0.054054055,\n",
       "  0.054054055,\n",
       "  0.027027028,\n",
       "  0.067567565,\n",
       "  0.054054055,\n",
       "  0.14864865,\n",
       "  0.054054055,\n",
       "  0.0945946,\n",
       "  0.0945946,\n",
       "  0.0945946,\n",
       "  0.054054055,\n",
       "  0.08108108,\n",
       "  0.10810811,\n",
       "  0.24324325,\n",
       "  0.1891892,\n",
       "  0.13513513,\n",
       "  0.12162162,\n",
       "  0.2972973,\n",
       "  0.3918919,\n",
       "  0.3243243,\n",
       "  0.27027026,\n",
       "  0.27027026,\n",
       "  0.2837838,\n",
       "  0.33783785,\n",
       "  0.12162162,\n",
       "  0.3918919,\n",
       "  0.43243244,\n",
       "  0.47297296,\n",
       "  0.22972973,\n",
       "  0.5675676,\n",
       "  0.3243243,\n",
       "  0.45945945,\n",
       "  0.47297296,\n",
       "  0.6351351,\n",
       "  0.2837838,\n",
       "  0.33783785,\n",
       "  0.5675676,\n",
       "  0.44594595,\n",
       "  0.44594595,\n",
       "  0.4054054,\n",
       "  0.3783784,\n",
       "  0.7567568,\n",
       "  0.43243244,\n",
       "  0.43243244,\n",
       "  0.6216216,\n",
       "  0.6351351,\n",
       "  0.7837838,\n",
       "  0.6891892,\n",
       "  0.4054054,\n",
       "  0.6756757,\n",
       "  0.6351351,\n",
       "  0.6081081,\n",
       "  0.6216216,\n",
       "  0.6351351,\n",
       "  0.5135135,\n",
       "  0.7567568,\n",
       "  0.8513514,\n",
       "  0.5540541,\n",
       "  0.6216216,\n",
       "  0.5540541,\n",
       "  0.8108108,\n",
       "  0.8243243,\n",
       "  0.4864865,\n",
       "  0.44594595,\n",
       "  0.7702703,\n",
       "  0.6351351,\n",
       "  0.8378378,\n",
       "  0.7972973,\n",
       "  0.7567568,\n",
       "  0.6081081,\n",
       "  0.7702703,\n",
       "  0.8648649,\n",
       "  0.7162162,\n",
       "  0.7972973,\n",
       "  0.8513514,\n",
       "  0.7972973,\n",
       "  0.45945945,\n",
       "  0.8378378,\n",
       "  0.7027027,\n",
       "  0.6621622,\n",
       "  0.8513514,\n",
       "  0.9054054,\n",
       "  0.8108108,\n",
       "  0.7432432,\n",
       "  0.8108108,\n",
       "  0.6756757,\n",
       "  0.527027,\n",
       "  0.36486486,\n",
       "  0.6216216,\n",
       "  0.6621622,\n",
       "  0.47297296,\n",
       "  0.43243244,\n",
       "  0.7297297,\n",
       "  0.8918919,\n",
       "  0.6216216,\n",
       "  0.7297297,\n",
       "  0.5540541,\n",
       "  0.5405405,\n",
       "  0.8378378,\n",
       "  0.8378378]}"
      ]
     },
     "execution_count": 92,
     "metadata": {},
     "output_type": "execute_result"
    }
   ],
   "source": [
    "history_4.history"
   ]
  },
  {
   "cell_type": "code",
   "execution_count": null,
   "metadata": {},
   "outputs": [],
   "source": [
    "model.summary()"
   ]
  },
  {
   "cell_type": "code",
   "execution_count": null,
   "metadata": {},
   "outputs": [],
   "source": [
    "acc = history_4.history['categorical_accuracy']\n",
    "val_acc = history_4.history['val_categorical_accuracy']\n",
    "\n",
    "loss = history_4.history['loss']\n",
    "val_loss = history_4.history['val_loss']\n",
    "\n",
    "plt.figure(figsize=(15, 15))\n",
    "plt.subplot(2, 1, 2)\n",
    "plt.plot(acc,'-b*', label='Training Accuracy')\n",
    "plt.plot(val_acc,'-r*', label='Validation Accuracy')\n",
    "plt.legend(loc='lower right')\n",
    "plt.ylabel('Accuracy')\n",
    "plt.ylim([min(plt.ylim()),1])\n",
    "plt.title('Training and Validation Accuracy')\n",
    "\n",
    "plt.subplot(2, 1, 1)\n",
    "plt.plot(loss,'-b*', label='Training Loss')\n",
    "plt.plot(val_loss,'-r*', label='Validation Loss')\n",
    "plt.legend(loc='upper right')\n",
    "plt.ylabel('Cross Entropy')\n",
    "plt.ylim([0,3.5])\n",
    "plt.title('Training and Validation Loss')\n",
    "plt.xlabel('epoch')\n",
    "plt.show()\n",
    "\n",
    "\n"
   ]
  },
  {
   "cell_type": "code",
   "execution_count": null,
   "metadata": {},
   "outputs": [],
   "source": [
    "res = model.predict(X_test)"
   ]
  },
  {
   "cell_type": "code",
   "execution_count": null,
   "metadata": {},
   "outputs": [],
   "source": [
    "actions[np.argmax(res[1])] "
   ]
  },
  {
   "cell_type": "code",
   "execution_count": null,
   "metadata": {},
   "outputs": [],
   "source": [
    "actions[np.argmax(y_test[1])]"
   ]
  },
  {
   "cell_type": "code",
   "execution_count": null,
   "metadata": {},
   "outputs": [],
   "source": [
    "from sklearn.metrics import multilabel_confusion_matrix, accuracy_score,classification_report"
   ]
  },
  {
   "cell_type": "code",
   "execution_count": null,
   "metadata": {},
   "outputs": [],
   "source": [
    "yhat = model.predict(X_test)"
   ]
  },
  {
   "cell_type": "code",
   "execution_count": null,
   "metadata": {},
   "outputs": [],
   "source": [
    "ytrue = np.argmax(y_test, axis=1).tolist()\n",
    "yhat = np.argmax(yhat, axis=1).tolist()"
   ]
  },
  {
   "cell_type": "code",
   "execution_count": null,
   "metadata": {},
   "outputs": [],
   "source": [
    "multilabel_confusion_matrix(ytrue, yhat)"
   ]
  },
  {
   "cell_type": "code",
   "execution_count": null,
   "metadata": {},
   "outputs": [],
   "source": [
    "accuracy_score(ytrue, yhat)"
   ]
  },
  {
   "cell_type": "code",
   "execution_count": null,
   "metadata": {},
   "outputs": [],
   "source": [
    "from sklearn import metrics"
   ]
  },
  {
   "cell_type": "code",
   "execution_count": null,
   "metadata": {},
   "outputs": [],
   "source": [
    "print(f\"Classification report for Sign Gestures \\n\"\n",
    "      f\"{metrics.classification_report(ytrue, yhat)}\\n\")"
   ]
  },
  {
   "cell_type": "code",
   "execution_count": null,
   "metadata": {},
   "outputs": [],
   "source": [
    "from sklearn.metrics import r2_score"
   ]
  },
  {
   "cell_type": "code",
   "execution_count": null,
   "metadata": {},
   "outputs": [],
   "source": []
  },
  {
   "cell_type": "code",
   "execution_count": null,
   "metadata": {},
   "outputs": [],
   "source": [
    "r2_score(ytrue, yhat)"
   ]
  },
  {
   "cell_type": "code",
   "execution_count": null,
   "metadata": {},
   "outputs": [],
   "source": [
    "from sklearn.metrics import mean_squared_error"
   ]
  },
  {
   "cell_type": "code",
   "execution_count": null,
   "metadata": {},
   "outputs": [],
   "source": [
    "mean_squared_error(ytrue, yhat)"
   ]
  },
  {
   "cell_type": "code",
   "execution_count": null,
   "metadata": {},
   "outputs": [],
   "source": [
    "from sklearn.metrics import mean_absolute_error"
   ]
  },
  {
   "cell_type": "code",
   "execution_count": null,
   "metadata": {},
   "outputs": [],
   "source": [
    "mean_absolute_error(ytrue, yhat)"
   ]
  },
  {
   "cell_type": "code",
   "execution_count": null,
   "metadata": {},
   "outputs": [],
   "source": [
    "print(\"Evaluate on test data\")\n",
    "results = model.evaluate(X_test, y_test, batch_size=128)\n",
    "print(\"test loss, test acc:\", results)"
   ]
  },
  {
   "cell_type": "markdown",
   "metadata": {},
   "source": [
    "# Bidirectional GRU"
   ]
  },
  {
   "cell_type": "code",
   "execution_count": 93,
   "metadata": {},
   "outputs": [],
   "source": [
    "from tensorflow.keras.models import Sequential\n",
    "from tensorflow.keras.layers import GRU, Dense, Dropout, BatchNormalization\n",
    "from tensorflow.keras.layers import Bidirectional\n",
    "from tensorflow.keras.callbacks import TensorBoard"
   ]
  },
  {
   "cell_type": "code",
   "execution_count": 94,
   "metadata": {},
   "outputs": [],
   "source": [
    "model = Sequential()\n",
    "model.add(Bidirectional(GRU(64, return_sequences=True, activation='elu', input_shape=(30,1662))))\n",
    "model.add(Dropout(0.2))\n",
    "model.add(Bidirectional(GRU(128, return_sequences=True, activation='tanh')))\n",
    "model.add(Dropout(0.3))\n",
    "model.add(Bidirectional(GRU(64, return_sequences=False, activation='relu')))\n",
    "model.add(Dense(64, activation='relu'))\n",
    "model.add(BatchNormalization())\n",
    "model.add(Dense(32, activation='relu'))\n",
    "model.add(Dense(actions.shape[0], activation='softmax'))"
   ]
  },
  {
   "cell_type": "code",
   "execution_count": 95,
   "metadata": {},
   "outputs": [],
   "source": [
    "model.compile(optimizer='Adamax', loss='categorical_crossentropy', metrics=['categorical_accuracy'])"
   ]
  },
  {
   "cell_type": "code",
   "execution_count": 96,
   "metadata": {},
   "outputs": [
    {
     "name": "stdout",
     "output_type": "stream",
     "text": [
      "Train on 296 samples, validate on 74 samples\n",
      "Epoch 1/100\n",
      "296/296 [==============================] - 2s 8ms/sample - loss: 2.6806 - categorical_accuracy: 0.0574 - val_loss: 2.6045 - val_categorical_accuracy: 0.0541\n",
      "Epoch 2/100\n",
      "296/296 [==============================] - 1s 3ms/sample - loss: 2.5647 - categorical_accuracy: 0.1284 - val_loss: 2.5859 - val_categorical_accuracy: 0.0541\n",
      "Epoch 3/100\n",
      "296/296 [==============================] - 1s 3ms/sample - loss: 2.4964 - categorical_accuracy: 0.1351 - val_loss: 2.5458 - val_categorical_accuracy: 0.0541\n",
      "Epoch 4/100\n",
      "296/296 [==============================] - 1s 3ms/sample - loss: 2.4228 - categorical_accuracy: 0.1689 - val_loss: 2.5135 - val_categorical_accuracy: 0.1216\n",
      "Epoch 5/100\n",
      "296/296 [==============================] - 1s 3ms/sample - loss: 2.2956 - categorical_accuracy: 0.2095 - val_loss: 2.4703 - val_categorical_accuracy: 0.1216\n",
      "Epoch 6/100\n",
      "296/296 [==============================] - 1s 3ms/sample - loss: 2.2073 - categorical_accuracy: 0.2635 - val_loss: 2.4591 - val_categorical_accuracy: 0.0541\n",
      "Epoch 7/100\n",
      "296/296 [==============================] - 1s 3ms/sample - loss: 2.2128 - categorical_accuracy: 0.2264 - val_loss: 2.3907 - val_categorical_accuracy: 0.1622\n",
      "Epoch 8/100\n",
      "296/296 [==============================] - 1s 3ms/sample - loss: 2.1709 - categorical_accuracy: 0.3108 - val_loss: 2.3579 - val_categorical_accuracy: 0.1757\n",
      "Epoch 9/100\n",
      "296/296 [==============================] - 1s 3ms/sample - loss: 2.0758 - categorical_accuracy: 0.3142 - val_loss: 2.3192 - val_categorical_accuracy: 0.2027\n",
      "Epoch 10/100\n",
      "296/296 [==============================] - 1s 3ms/sample - loss: 1.9767 - categorical_accuracy: 0.3682 - val_loss: 2.2813 - val_categorical_accuracy: 0.2297\n",
      "Epoch 11/100\n",
      "296/296 [==============================] - 1s 3ms/sample - loss: 1.8638 - categorical_accuracy: 0.4527 - val_loss: 2.3034 - val_categorical_accuracy: 0.1757\n",
      "Epoch 12/100\n",
      "296/296 [==============================] - 1s 3ms/sample - loss: 1.7911 - categorical_accuracy: 0.4966 - val_loss: 2.1836 - val_categorical_accuracy: 0.1892\n",
      "Epoch 13/100\n",
      "296/296 [==============================] - 1s 3ms/sample - loss: 1.7076 - categorical_accuracy: 0.4797 - val_loss: 2.1111 - val_categorical_accuracy: 0.4324\n",
      "Epoch 14/100\n",
      "296/296 [==============================] - 1s 3ms/sample - loss: 1.6548 - categorical_accuracy: 0.5304 - val_loss: 2.1022 - val_categorical_accuracy: 0.4054\n",
      "Epoch 15/100\n",
      "296/296 [==============================] - 1s 3ms/sample - loss: 1.5830 - categorical_accuracy: 0.5270 - val_loss: 2.1050 - val_categorical_accuracy: 0.3108\n",
      "Epoch 16/100\n",
      "296/296 [==============================] - 1s 3ms/sample - loss: 1.5864 - categorical_accuracy: 0.5541 - val_loss: 1.9904 - val_categorical_accuracy: 0.3514\n",
      "Epoch 17/100\n",
      "296/296 [==============================] - 1s 3ms/sample - loss: 1.4951 - categorical_accuracy: 0.5541 - val_loss: 1.8877 - val_categorical_accuracy: 0.4595\n",
      "Epoch 18/100\n",
      "296/296 [==============================] - 1s 3ms/sample - loss: 1.4410 - categorical_accuracy: 0.6318 - val_loss: 1.9254 - val_categorical_accuracy: 0.5270\n",
      "Epoch 19/100\n",
      "296/296 [==============================] - 1s 3ms/sample - loss: 1.3936 - categorical_accuracy: 0.5811 - val_loss: 1.8209 - val_categorical_accuracy: 0.4189\n",
      "Epoch 20/100\n",
      "296/296 [==============================] - 1s 3ms/sample - loss: 1.2992 - categorical_accuracy: 0.6419 - val_loss: 1.7430 - val_categorical_accuracy: 0.5405\n",
      "Epoch 21/100\n",
      "296/296 [==============================] - 1s 3ms/sample - loss: 1.2622 - categorical_accuracy: 0.6318 - val_loss: 1.7877 - val_categorical_accuracy: 0.4459\n",
      "Epoch 22/100\n",
      "296/296 [==============================] - 1s 3ms/sample - loss: 1.2284 - categorical_accuracy: 0.6689 - val_loss: 1.7249 - val_categorical_accuracy: 0.4865\n",
      "Epoch 23/100\n",
      "296/296 [==============================] - 1s 3ms/sample - loss: 1.1783 - categorical_accuracy: 0.6689 - val_loss: 1.7006 - val_categorical_accuracy: 0.4730\n",
      "Epoch 24/100\n",
      "296/296 [==============================] - 1s 3ms/sample - loss: 1.1173 - categorical_accuracy: 0.7230 - val_loss: 1.5838 - val_categorical_accuracy: 0.5270\n",
      "Epoch 25/100\n",
      "296/296 [==============================] - 1s 3ms/sample - loss: 1.0456 - categorical_accuracy: 0.7297 - val_loss: 1.4945 - val_categorical_accuracy: 0.6892\n",
      "Epoch 26/100\n",
      "296/296 [==============================] - 1s 3ms/sample - loss: 1.0351 - categorical_accuracy: 0.7669 - val_loss: 1.5614 - val_categorical_accuracy: 0.6081\n",
      "Epoch 27/100\n",
      "296/296 [==============================] - 1s 3ms/sample - loss: 1.0027 - categorical_accuracy: 0.7534 - val_loss: 1.4038 - val_categorical_accuracy: 0.5270\n",
      "Epoch 28/100\n",
      "296/296 [==============================] - 1s 3ms/sample - loss: 0.9753 - categorical_accuracy: 0.7804 - val_loss: 1.2819 - val_categorical_accuracy: 0.6216\n",
      "Epoch 29/100\n",
      "296/296 [==============================] - 1s 3ms/sample - loss: 0.9090 - categorical_accuracy: 0.7872 - val_loss: 1.2733 - val_categorical_accuracy: 0.7027\n",
      "Epoch 30/100\n",
      "296/296 [==============================] - 1s 3ms/sample - loss: 0.8384 - categorical_accuracy: 0.8412 - val_loss: 1.3573 - val_categorical_accuracy: 0.6081\n",
      "Epoch 31/100\n",
      "296/296 [==============================] - 1s 3ms/sample - loss: 0.8467 - categorical_accuracy: 0.8243 - val_loss: 1.1542 - val_categorical_accuracy: 0.7297\n",
      "Epoch 32/100\n",
      "296/296 [==============================] - 1s 3ms/sample - loss: 0.8195 - categorical_accuracy: 0.8480 - val_loss: 1.1366 - val_categorical_accuracy: 0.6216\n",
      "Epoch 33/100\n",
      "296/296 [==============================] - 1s 3ms/sample - loss: 0.7823 - categorical_accuracy: 0.8480 - val_loss: 1.1097 - val_categorical_accuracy: 0.6622\n",
      "Epoch 34/100\n",
      "296/296 [==============================] - 1s 3ms/sample - loss: 0.7445 - categorical_accuracy: 0.8649 - val_loss: 1.1704 - val_categorical_accuracy: 0.7162\n",
      "Epoch 35/100\n",
      "296/296 [==============================] - 1s 3ms/sample - loss: 0.7192 - categorical_accuracy: 0.8818 - val_loss: 1.2371 - val_categorical_accuracy: 0.7027\n",
      "Epoch 36/100\n",
      "296/296 [==============================] - 1s 3ms/sample - loss: 0.7063 - categorical_accuracy: 0.8818 - val_loss: 1.6677 - val_categorical_accuracy: 0.4595\n",
      "Epoch 37/100\n",
      "296/296 [==============================] - 1s 3ms/sample - loss: 0.7652 - categorical_accuracy: 0.8378 - val_loss: 1.1679 - val_categorical_accuracy: 0.7568\n",
      "Epoch 38/100\n",
      "296/296 [==============================] - 1s 3ms/sample - loss: 0.6789 - categorical_accuracy: 0.8682 - val_loss: 0.9829 - val_categorical_accuracy: 0.7568\n",
      "Epoch 39/100\n",
      "296/296 [==============================] - 1s 3ms/sample - loss: 0.6138 - categorical_accuracy: 0.8986 - val_loss: 0.8990 - val_categorical_accuracy: 0.7838\n",
      "Epoch 40/100\n",
      "296/296 [==============================] - 1s 3ms/sample - loss: 0.5481 - categorical_accuracy: 0.9122 - val_loss: 0.8160 - val_categorical_accuracy: 0.8378\n",
      "Epoch 41/100\n",
      "296/296 [==============================] - 1s 3ms/sample - loss: 0.5727 - categorical_accuracy: 0.8986 - val_loss: 1.0465 - val_categorical_accuracy: 0.6081\n",
      "Epoch 42/100\n",
      "296/296 [==============================] - 1s 3ms/sample - loss: 0.5664 - categorical_accuracy: 0.8885 - val_loss: 0.8582 - val_categorical_accuracy: 0.6757\n",
      "Epoch 43/100\n",
      "296/296 [==============================] - 1s 3ms/sample - loss: 0.5683 - categorical_accuracy: 0.9155 - val_loss: 1.0703 - val_categorical_accuracy: 0.6892\n",
      "Epoch 44/100\n",
      "296/296 [==============================] - 1s 3ms/sample - loss: 0.5086 - categorical_accuracy: 0.9291 - val_loss: 1.0576 - val_categorical_accuracy: 0.6622\n",
      "Epoch 45/100\n",
      "296/296 [==============================] - 1s 3ms/sample - loss: 0.4652 - categorical_accuracy: 0.9426 - val_loss: 0.9111 - val_categorical_accuracy: 0.7432\n",
      "Epoch 46/100\n",
      "296/296 [==============================] - 1s 3ms/sample - loss: 0.4604 - categorical_accuracy: 0.9223 - val_loss: 0.9649 - val_categorical_accuracy: 0.7162\n",
      "Epoch 47/100\n",
      "296/296 [==============================] - 1s 3ms/sample - loss: 0.4759 - categorical_accuracy: 0.9189 - val_loss: 0.5946 - val_categorical_accuracy: 0.8649\n",
      "Epoch 48/100\n",
      "296/296 [==============================] - 1s 3ms/sample - loss: 0.4225 - categorical_accuracy: 0.9392 - val_loss: 1.0150 - val_categorical_accuracy: 0.7432\n"
     ]
    },
    {
     "name": "stdout",
     "output_type": "stream",
     "text": [
      "Epoch 49/100\n",
      "296/296 [==============================] - 1s 3ms/sample - loss: 0.4190 - categorical_accuracy: 0.9493 - val_loss: 0.6102 - val_categorical_accuracy: 0.8649\n",
      "Epoch 50/100\n",
      "296/296 [==============================] - 1s 3ms/sample - loss: 0.3950 - categorical_accuracy: 0.9426 - val_loss: 0.5666 - val_categorical_accuracy: 0.9054\n",
      "Epoch 51/100\n",
      "296/296 [==============================] - 1s 3ms/sample - loss: 0.3736 - categorical_accuracy: 0.9392 - val_loss: 0.5980 - val_categorical_accuracy: 0.8784\n",
      "Epoch 52/100\n",
      "296/296 [==============================] - 1s 3ms/sample - loss: 0.3857 - categorical_accuracy: 0.9358 - val_loss: 0.6138 - val_categorical_accuracy: 0.8243\n",
      "Epoch 53/100\n",
      "296/296 [==============================] - 1s 3ms/sample - loss: 0.3636 - categorical_accuracy: 0.9493 - val_loss: 0.6256 - val_categorical_accuracy: 0.8243\n",
      "Epoch 54/100\n",
      "296/296 [==============================] - 1s 3ms/sample - loss: 0.3386 - categorical_accuracy: 0.9426 - val_loss: 0.5850 - val_categorical_accuracy: 0.8514\n",
      "Epoch 55/100\n",
      "296/296 [==============================] - 1s 3ms/sample - loss: 0.3232 - categorical_accuracy: 0.9527 - val_loss: 0.6288 - val_categorical_accuracy: 0.8514\n",
      "Epoch 56/100\n",
      "296/296 [==============================] - 1s 3ms/sample - loss: 0.3352 - categorical_accuracy: 0.9493 - val_loss: 0.7420 - val_categorical_accuracy: 0.7838\n",
      "Epoch 57/100\n",
      "296/296 [==============================] - 1s 3ms/sample - loss: 0.3245 - categorical_accuracy: 0.9527 - val_loss: 0.5517 - val_categorical_accuracy: 0.8784\n",
      "Epoch 58/100\n",
      "296/296 [==============================] - 1s 3ms/sample - loss: 0.3045 - categorical_accuracy: 0.9628 - val_loss: 0.4465 - val_categorical_accuracy: 0.8649\n",
      "Epoch 59/100\n",
      "296/296 [==============================] - 1s 3ms/sample - loss: 0.2991 - categorical_accuracy: 0.9561 - val_loss: 0.5789 - val_categorical_accuracy: 0.8514\n",
      "Epoch 60/100\n",
      "296/296 [==============================] - 1s 3ms/sample - loss: 0.2789 - categorical_accuracy: 0.9527 - val_loss: 0.6683 - val_categorical_accuracy: 0.7838\n",
      "Epoch 61/100\n",
      "296/296 [==============================] - 1s 3ms/sample - loss: 0.3021 - categorical_accuracy: 0.9561 - val_loss: 1.3061 - val_categorical_accuracy: 0.6081\n",
      "Epoch 62/100\n",
      "296/296 [==============================] - 1s 3ms/sample - loss: 0.2623 - categorical_accuracy: 0.9662 - val_loss: 0.4910 - val_categorical_accuracy: 0.8919\n",
      "Epoch 63/100\n",
      "296/296 [==============================] - 1s 3ms/sample - loss: 0.2655 - categorical_accuracy: 0.9595 - val_loss: 0.3999 - val_categorical_accuracy: 0.8919\n",
      "Epoch 64/100\n",
      "296/296 [==============================] - 1s 3ms/sample - loss: 0.2306 - categorical_accuracy: 0.9730 - val_loss: 0.4300 - val_categorical_accuracy: 0.8784\n",
      "Epoch 65/100\n",
      "296/296 [==============================] - 1s 3ms/sample - loss: 0.2230 - categorical_accuracy: 0.9662 - val_loss: 0.4708 - val_categorical_accuracy: 0.8649\n",
      "Epoch 66/100\n",
      "296/296 [==============================] - 1s 3ms/sample - loss: 0.2322 - categorical_accuracy: 0.9595 - val_loss: 0.5802 - val_categorical_accuracy: 0.8649\n",
      "Epoch 67/100\n",
      "296/296 [==============================] - 1s 3ms/sample - loss: 0.2172 - categorical_accuracy: 0.9730 - val_loss: 0.3657 - val_categorical_accuracy: 0.9189\n",
      "Epoch 68/100\n",
      "296/296 [==============================] - 1s 3ms/sample - loss: 0.2105 - categorical_accuracy: 0.9662 - val_loss: 0.5054 - val_categorical_accuracy: 0.8784\n",
      "Epoch 69/100\n",
      "296/296 [==============================] - 1s 3ms/sample - loss: 0.2429 - categorical_accuracy: 0.9628 - val_loss: 0.5763 - val_categorical_accuracy: 0.8243\n",
      "Epoch 70/100\n",
      "296/296 [==============================] - 1s 3ms/sample - loss: 0.2541 - categorical_accuracy: 0.9628 - val_loss: 0.4325 - val_categorical_accuracy: 0.8649\n",
      "Epoch 71/100\n",
      "296/296 [==============================] - 1s 3ms/sample - loss: 0.2576 - categorical_accuracy: 0.9527 - val_loss: 1.4948 - val_categorical_accuracy: 0.6081\n",
      "Epoch 72/100\n",
      "296/296 [==============================] - 1s 3ms/sample - loss: 0.2627 - categorical_accuracy: 0.9662 - val_loss: 0.8479 - val_categorical_accuracy: 0.6757\n",
      "Epoch 73/100\n",
      "296/296 [==============================] - 1s 3ms/sample - loss: 0.2439 - categorical_accuracy: 0.9527 - val_loss: 0.6714 - val_categorical_accuracy: 0.8243\n",
      "Epoch 74/100\n",
      "296/296 [==============================] - 1s 3ms/sample - loss: 0.2136 - categorical_accuracy: 0.9662 - val_loss: 0.4101 - val_categorical_accuracy: 0.9324\n",
      "Epoch 75/100\n",
      "296/296 [==============================] - 1s 3ms/sample - loss: 0.1810 - categorical_accuracy: 0.9764 - val_loss: 0.4301 - val_categorical_accuracy: 0.8919\n",
      "Epoch 76/100\n",
      "296/296 [==============================] - 1s 3ms/sample - loss: 0.1881 - categorical_accuracy: 0.9797 - val_loss: 0.4495 - val_categorical_accuracy: 0.8784\n",
      "Epoch 77/100\n",
      "296/296 [==============================] - 1s 3ms/sample - loss: 0.1719 - categorical_accuracy: 0.9764 - val_loss: 0.4934 - val_categorical_accuracy: 0.8649\n",
      "Epoch 78/100\n",
      "296/296 [==============================] - 1s 3ms/sample - loss: 0.1785 - categorical_accuracy: 0.9831 - val_loss: 0.5628 - val_categorical_accuracy: 0.8649\n",
      "Epoch 79/100\n",
      "296/296 [==============================] - 1s 3ms/sample - loss: 0.1712 - categorical_accuracy: 0.9730 - val_loss: 0.8070 - val_categorical_accuracy: 0.7703\n",
      "Epoch 80/100\n",
      "296/296 [==============================] - 1s 3ms/sample - loss: 0.1715 - categorical_accuracy: 0.9797 - val_loss: 0.8583 - val_categorical_accuracy: 0.6757\n",
      "Epoch 81/100\n",
      "296/296 [==============================] - 1s 3ms/sample - loss: 0.1631 - categorical_accuracy: 0.9662 - val_loss: 0.4489 - val_categorical_accuracy: 0.9054\n",
      "Epoch 82/100\n",
      "296/296 [==============================] - 1s 3ms/sample - loss: 0.1465 - categorical_accuracy: 0.9730 - val_loss: 0.3820 - val_categorical_accuracy: 0.8784\n",
      "Epoch 83/100\n",
      "296/296 [==============================] - 1s 3ms/sample - loss: 0.1515 - categorical_accuracy: 0.9662 - val_loss: 0.4138 - val_categorical_accuracy: 0.8919\n",
      "Epoch 84/100\n",
      "296/296 [==============================] - 1s 3ms/sample - loss: 0.1963 - categorical_accuracy: 0.9595 - val_loss: 0.4222 - val_categorical_accuracy: 0.8649\n",
      "Epoch 85/100\n",
      "296/296 [==============================] - 1s 3ms/sample - loss: 0.2106 - categorical_accuracy: 0.9730 - val_loss: 0.5300 - val_categorical_accuracy: 0.8649\n",
      "Epoch 86/100\n",
      "296/296 [==============================] - 1s 3ms/sample - loss: 0.1757 - categorical_accuracy: 0.9696 - val_loss: 0.4979 - val_categorical_accuracy: 0.8649\n",
      "Epoch 87/100\n",
      "296/296 [==============================] - 1s 3ms/sample - loss: 0.1678 - categorical_accuracy: 0.9595 - val_loss: 0.3503 - val_categorical_accuracy: 0.9054\n",
      "Epoch 88/100\n",
      "296/296 [==============================] - 1s 3ms/sample - loss: 0.1617 - categorical_accuracy: 0.9662 - val_loss: 0.3540 - val_categorical_accuracy: 0.9054\n",
      "Epoch 89/100\n",
      "296/296 [==============================] - 1s 3ms/sample - loss: 0.1469 - categorical_accuracy: 0.9730 - val_loss: 0.4385 - val_categorical_accuracy: 0.8919\n",
      "Epoch 90/100\n",
      "296/296 [==============================] - 1s 3ms/sample - loss: 0.1296 - categorical_accuracy: 0.9730 - val_loss: 0.3500 - val_categorical_accuracy: 0.8784\n",
      "Epoch 91/100\n",
      "296/296 [==============================] - 1s 3ms/sample - loss: 0.1076 - categorical_accuracy: 0.9764 - val_loss: 0.3012 - val_categorical_accuracy: 0.9189\n",
      "Epoch 92/100\n",
      "296/296 [==============================] - 1s 3ms/sample - loss: 0.1380 - categorical_accuracy: 0.9764 - val_loss: 0.4277 - val_categorical_accuracy: 0.8919\n",
      "Epoch 93/100\n",
      "296/296 [==============================] - 1s 3ms/sample - loss: 0.1457 - categorical_accuracy: 0.9764 - val_loss: 0.5740 - val_categorical_accuracy: 0.8649\n",
      "Epoch 94/100\n",
      "296/296 [==============================] - 1s 3ms/sample - loss: 0.1255 - categorical_accuracy: 0.9797 - val_loss: 0.4469 - val_categorical_accuracy: 0.8784\n",
      "Epoch 95/100\n",
      "296/296 [==============================] - 1s 3ms/sample - loss: 0.1474 - categorical_accuracy: 0.9730 - val_loss: 0.5528 - val_categorical_accuracy: 0.8649\n",
      "Epoch 96/100\n",
      "296/296 [==============================] - 1s 3ms/sample - loss: 0.1599 - categorical_accuracy: 0.9797 - val_loss: 0.3547 - val_categorical_accuracy: 0.9324\n",
      "Epoch 97/100\n"
     ]
    },
    {
     "name": "stdout",
     "output_type": "stream",
     "text": [
      "296/296 [==============================] - 1s 3ms/sample - loss: 0.1263 - categorical_accuracy: 0.9764 - val_loss: 0.6813 - val_categorical_accuracy: 0.7973\n",
      "Epoch 98/100\n",
      "296/296 [==============================] - 1s 3ms/sample - loss: 0.1328 - categorical_accuracy: 0.9696 - val_loss: 0.4276 - val_categorical_accuracy: 0.8784\n",
      "Epoch 99/100\n",
      "296/296 [==============================] - 1s 3ms/sample - loss: 0.1199 - categorical_accuracy: 0.9831 - val_loss: 0.2663 - val_categorical_accuracy: 0.9189\n",
      "Epoch 100/100\n",
      "296/296 [==============================] - 1s 3ms/sample - loss: 0.0988 - categorical_accuracy: 0.9797 - val_loss: 0.3486 - val_categorical_accuracy: 0.9324\n"
     ]
    }
   ],
   "source": [
    "history_5 = model.fit(X_train, y_train, epochs=100, validation_split=0.2,callbacks=[tb_callback])"
   ]
  },
  {
   "cell_type": "code",
   "execution_count": 97,
   "metadata": {},
   "outputs": [
    {
     "data": {
      "text/plain": [
       "{'loss': [2.6805590938877417,\n",
       "  2.5646938762149296,\n",
       "  2.496377674308983,\n",
       "  2.422804252521412,\n",
       "  2.2956418282276876,\n",
       "  2.207306868321187,\n",
       "  2.212847239262349,\n",
       "  2.1709406955822095,\n",
       "  2.075830685125815,\n",
       "  1.9766772437740017,\n",
       "  1.8638490180711489,\n",
       "  1.791139309470718,\n",
       "  1.7076491987383045,\n",
       "  1.6547691757614549,\n",
       "  1.5830388326902647,\n",
       "  1.5864390618092306,\n",
       "  1.4951299783345815,\n",
       "  1.4410280601398364,\n",
       "  1.3936384304149732,\n",
       "  1.2992122688808956,\n",
       "  1.2621604107521676,\n",
       "  1.2283678699184108,\n",
       "  1.1783147438152417,\n",
       "  1.1173299776541221,\n",
       "  1.0455779707109607,\n",
       "  1.0351377435632654,\n",
       "  1.002691607217531,\n",
       "  0.9753486981263032,\n",
       "  0.9090425420451809,\n",
       "  0.8384009406373307,\n",
       "  0.8467428507031621,\n",
       "  0.8194812632895805,\n",
       "  0.7822775776321823,\n",
       "  0.744510293006897,\n",
       "  0.7192024733569171,\n",
       "  0.7063216728133124,\n",
       "  0.765172494424356,\n",
       "  0.6788731732883969,\n",
       "  0.6137772266929215,\n",
       "  0.5481380788055626,\n",
       "  0.5727031424238875,\n",
       "  0.5664484436447556,\n",
       "  0.5682880878448486,\n",
       "  0.5085910752012923,\n",
       "  0.4652134824443508,\n",
       "  0.4604456134744593,\n",
       "  0.4759416435215924,\n",
       "  0.4225322459195111,\n",
       "  0.419007495448396,\n",
       "  0.39497470211338354,\n",
       "  0.3735624439007527,\n",
       "  0.38568050313640284,\n",
       "  0.36361720110919027,\n",
       "  0.33863774747461883,\n",
       "  0.3231951868211901,\n",
       "  0.3351976098241033,\n",
       "  0.3244913325116441,\n",
       "  0.3044681251049042,\n",
       "  0.29912161988181035,\n",
       "  0.278903025227624,\n",
       "  0.3020996491651277,\n",
       "  0.26227996840670303,\n",
       "  0.26547341250084544,\n",
       "  0.23058832114612735,\n",
       "  0.22303982602583394,\n",
       "  0.2321602122203724,\n",
       "  0.2172240647109779,\n",
       "  0.21051654461267832,\n",
       "  0.24294207708255663,\n",
       "  0.2540716923571922,\n",
       "  0.2576034359029821,\n",
       "  0.2626766135563722,\n",
       "  0.24387375809050896,\n",
       "  0.21358744437630112,\n",
       "  0.1810190009104239,\n",
       "  0.18810962341927193,\n",
       "  0.17193070134601077,\n",
       "  0.17853422583760442,\n",
       "  0.1711902739228429,\n",
       "  0.1714766641726365,\n",
       "  0.16306081212855675,\n",
       "  0.1464685185535534,\n",
       "  0.1514796195803462,\n",
       "  0.19633732293103193,\n",
       "  0.2105587334246249,\n",
       "  0.17573094408254367,\n",
       "  0.16776876755662867,\n",
       "  0.1617362080393611,\n",
       "  0.14687257562134717,\n",
       "  0.1295778896357562,\n",
       "  0.1075596193204055,\n",
       "  0.13799443639613487,\n",
       "  0.1456550732254982,\n",
       "  0.12554048203133247,\n",
       "  0.1474350658622948,\n",
       "  0.15993025979480227,\n",
       "  0.1262718463266218,\n",
       "  0.1328406581604803,\n",
       "  0.11988706967315159,\n",
       "  0.09877906014790407],\n",
       " 'categorical_accuracy': [0.05743243,\n",
       "  0.12837838,\n",
       "  0.13513513,\n",
       "  0.16891892,\n",
       "  0.20945945,\n",
       "  0.2635135,\n",
       "  0.22635135,\n",
       "  0.3108108,\n",
       "  0.3141892,\n",
       "  0.36824325,\n",
       "  0.4527027,\n",
       "  0.4966216,\n",
       "  0.47972974,\n",
       "  0.5304054,\n",
       "  0.527027,\n",
       "  0.5540541,\n",
       "  0.5540541,\n",
       "  0.6317568,\n",
       "  0.5810811,\n",
       "  0.6418919,\n",
       "  0.6317568,\n",
       "  0.6689189,\n",
       "  0.6689189,\n",
       "  0.722973,\n",
       "  0.7297297,\n",
       "  0.7668919,\n",
       "  0.7533784,\n",
       "  0.7804054,\n",
       "  0.7871622,\n",
       "  0.8412162,\n",
       "  0.8243243,\n",
       "  0.847973,\n",
       "  0.847973,\n",
       "  0.8648649,\n",
       "  0.8817568,\n",
       "  0.8817568,\n",
       "  0.8378378,\n",
       "  0.8682432,\n",
       "  0.8986486,\n",
       "  0.9121622,\n",
       "  0.8986486,\n",
       "  0.8885135,\n",
       "  0.9155405,\n",
       "  0.9290541,\n",
       "  0.9425676,\n",
       "  0.9222973,\n",
       "  0.9189189,\n",
       "  0.9391892,\n",
       "  0.9493243,\n",
       "  0.9425676,\n",
       "  0.9391892,\n",
       "  0.9358108,\n",
       "  0.9493243,\n",
       "  0.9425676,\n",
       "  0.9527027,\n",
       "  0.9493243,\n",
       "  0.9527027,\n",
       "  0.9628378,\n",
       "  0.9560811,\n",
       "  0.9527027,\n",
       "  0.9560811,\n",
       "  0.9662162,\n",
       "  0.9594595,\n",
       "  0.972973,\n",
       "  0.9662162,\n",
       "  0.9594595,\n",
       "  0.972973,\n",
       "  0.9662162,\n",
       "  0.9628378,\n",
       "  0.9628378,\n",
       "  0.9527027,\n",
       "  0.9662162,\n",
       "  0.9527027,\n",
       "  0.9662162,\n",
       "  0.9763514,\n",
       "  0.9797297,\n",
       "  0.9763514,\n",
       "  0.9831081,\n",
       "  0.972973,\n",
       "  0.9797297,\n",
       "  0.9662162,\n",
       "  0.972973,\n",
       "  0.9662162,\n",
       "  0.9594595,\n",
       "  0.972973,\n",
       "  0.9695946,\n",
       "  0.9594595,\n",
       "  0.9662162,\n",
       "  0.972973,\n",
       "  0.972973,\n",
       "  0.9763514,\n",
       "  0.9763514,\n",
       "  0.9763514,\n",
       "  0.9797297,\n",
       "  0.972973,\n",
       "  0.9797297,\n",
       "  0.9763514,\n",
       "  0.9695946,\n",
       "  0.9831081,\n",
       "  0.9797297],\n",
       " 'val_loss': [2.6044649626757645,\n",
       "  2.5859421781591467,\n",
       "  2.545849877434808,\n",
       "  2.513451234714405,\n",
       "  2.4703384670051367,\n",
       "  2.4591038162643843,\n",
       "  2.390711494394251,\n",
       "  2.3578897940145955,\n",
       "  2.319189136092727,\n",
       "  2.281281071740228,\n",
       "  2.3033788913005107,\n",
       "  2.1835801279222644,\n",
       "  2.1110816581829175,\n",
       "  2.1022340864748568,\n",
       "  2.1049786870544023,\n",
       "  1.9904283059609902,\n",
       "  1.8877472233127903,\n",
       "  1.9253942837586273,\n",
       "  1.8209020737055186,\n",
       "  1.7429505489967965,\n",
       "  1.7877035720928296,\n",
       "  1.7248514278514966,\n",
       "  1.7005704093623806,\n",
       "  1.5837830788380391,\n",
       "  1.4944526118201178,\n",
       "  1.5613845457901825,\n",
       "  1.4038193225860596,\n",
       "  1.2819255042720485,\n",
       "  1.2733086863079586,\n",
       "  1.35729988845619,\n",
       "  1.1542049678596291,\n",
       "  1.1365995600416854,\n",
       "  1.109689739910332,\n",
       "  1.1703954097386953,\n",
       "  1.237065824302467,\n",
       "  1.667680276406778,\n",
       "  1.1678925817077224,\n",
       "  0.9828816507313702,\n",
       "  0.8989895694964641,\n",
       "  0.8160480067536637,\n",
       "  1.0464571166682888,\n",
       "  0.8581514745145231,\n",
       "  1.0703300720936544,\n",
       "  1.0576481690277924,\n",
       "  0.9110814284633946,\n",
       "  0.9649379801105809,\n",
       "  0.5946113483325856,\n",
       "  1.0149912077027399,\n",
       "  0.6101727985047005,\n",
       "  0.5666214646519842,\n",
       "  0.5980023371206747,\n",
       "  0.613757619986663,\n",
       "  0.6255825153879218,\n",
       "  0.5849728165446101,\n",
       "  0.628798428419474,\n",
       "  0.7420243765856769,\n",
       "  0.5517064010774767,\n",
       "  0.44649583665100306,\n",
       "  0.578910913016345,\n",
       "  0.6683064344766978,\n",
       "  1.3060755407488025,\n",
       "  0.4909693840387705,\n",
       "  0.39989023031415166,\n",
       "  0.43002969429299637,\n",
       "  0.4707905090338475,\n",
       "  0.5802027716024502,\n",
       "  0.36569838467481974,\n",
       "  0.5054197573178524,\n",
       "  0.5762989166620616,\n",
       "  0.4324696925846306,\n",
       "  1.49482883633794,\n",
       "  0.8478855571231326,\n",
       "  0.6714481856371906,\n",
       "  0.4101230719605008,\n",
       "  0.4300606798481297,\n",
       "  0.44947026287381714,\n",
       "  0.49341630130200775,\n",
       "  0.5628260889568845,\n",
       "  0.8069668573302191,\n",
       "  0.8583409512365187,\n",
       "  0.4489357258016999,\n",
       "  0.3819651474823823,\n",
       "  0.4138165776794021,\n",
       "  0.4221541579510715,\n",
       "  0.5300161995597787,\n",
       "  0.49788202788378744,\n",
       "  0.3502567325894897,\n",
       "  0.3540396975806436,\n",
       "  0.4384813163731549,\n",
       "  0.3499547130352742,\n",
       "  0.30121775394355926,\n",
       "  0.42765945719706044,\n",
       "  0.5739858569325628,\n",
       "  0.4469272784284643,\n",
       "  0.5528369843959808,\n",
       "  0.3546983599662781,\n",
       "  0.6812569047953632,\n",
       "  0.4275856928245441,\n",
       "  0.2663313750479672,\n",
       "  0.34858776427604055],\n",
       " 'val_categorical_accuracy': [0.054054055,\n",
       "  0.054054055,\n",
       "  0.054054055,\n",
       "  0.12162162,\n",
       "  0.12162162,\n",
       "  0.054054055,\n",
       "  0.16216215,\n",
       "  0.17567568,\n",
       "  0.2027027,\n",
       "  0.22972973,\n",
       "  0.17567568,\n",
       "  0.1891892,\n",
       "  0.43243244,\n",
       "  0.4054054,\n",
       "  0.3108108,\n",
       "  0.35135135,\n",
       "  0.45945945,\n",
       "  0.527027,\n",
       "  0.4189189,\n",
       "  0.5405405,\n",
       "  0.44594595,\n",
       "  0.4864865,\n",
       "  0.47297296,\n",
       "  0.527027,\n",
       "  0.6891892,\n",
       "  0.6081081,\n",
       "  0.527027,\n",
       "  0.6216216,\n",
       "  0.7027027,\n",
       "  0.6081081,\n",
       "  0.7297297,\n",
       "  0.6216216,\n",
       "  0.6621622,\n",
       "  0.7162162,\n",
       "  0.7027027,\n",
       "  0.45945945,\n",
       "  0.7567568,\n",
       "  0.7567568,\n",
       "  0.7837838,\n",
       "  0.8378378,\n",
       "  0.6081081,\n",
       "  0.6756757,\n",
       "  0.6891892,\n",
       "  0.6621622,\n",
       "  0.7432432,\n",
       "  0.7162162,\n",
       "  0.8648649,\n",
       "  0.7432432,\n",
       "  0.8648649,\n",
       "  0.9054054,\n",
       "  0.8783784,\n",
       "  0.8243243,\n",
       "  0.8243243,\n",
       "  0.8513514,\n",
       "  0.8513514,\n",
       "  0.7837838,\n",
       "  0.8783784,\n",
       "  0.8648649,\n",
       "  0.8513514,\n",
       "  0.7837838,\n",
       "  0.6081081,\n",
       "  0.8918919,\n",
       "  0.8918919,\n",
       "  0.8783784,\n",
       "  0.8648649,\n",
       "  0.8648649,\n",
       "  0.9189189,\n",
       "  0.8783784,\n",
       "  0.8243243,\n",
       "  0.8648649,\n",
       "  0.6081081,\n",
       "  0.6756757,\n",
       "  0.8243243,\n",
       "  0.9324324,\n",
       "  0.8918919,\n",
       "  0.8783784,\n",
       "  0.8648649,\n",
       "  0.8648649,\n",
       "  0.7702703,\n",
       "  0.6756757,\n",
       "  0.9054054,\n",
       "  0.8783784,\n",
       "  0.8918919,\n",
       "  0.8648649,\n",
       "  0.8648649,\n",
       "  0.8648649,\n",
       "  0.9054054,\n",
       "  0.9054054,\n",
       "  0.8918919,\n",
       "  0.8783784,\n",
       "  0.9189189,\n",
       "  0.8918919,\n",
       "  0.8648649,\n",
       "  0.8783784,\n",
       "  0.8648649,\n",
       "  0.9324324,\n",
       "  0.7972973,\n",
       "  0.8783784,\n",
       "  0.9189189,\n",
       "  0.9324324]}"
      ]
     },
     "execution_count": 97,
     "metadata": {},
     "output_type": "execute_result"
    }
   ],
   "source": [
    "history_5.history"
   ]
  },
  {
   "cell_type": "code",
   "execution_count": 98,
   "metadata": {},
   "outputs": [
    {
     "name": "stdout",
     "output_type": "stream",
     "text": [
      "Model: \"sequential_4\"\n",
      "_________________________________________________________________\n",
      "Layer (type)                 Output Shape              Param #   \n",
      "=================================================================\n",
      "bidirectional (Bidirectional multiple                  663552    \n",
      "_________________________________________________________________\n",
      "dropout_8 (Dropout)          multiple                  0         \n",
      "_________________________________________________________________\n",
      "bidirectional_1 (Bidirection multiple                  198144    \n",
      "_________________________________________________________________\n",
      "dropout_9 (Dropout)          multiple                  0         \n",
      "_________________________________________________________________\n",
      "bidirectional_2 (Bidirection multiple                  123648    \n",
      "_________________________________________________________________\n",
      "dense_12 (Dense)             multiple                  8256      \n",
      "_________________________________________________________________\n",
      "batch_normalization_4 (Batch multiple                  256       \n",
      "_________________________________________________________________\n",
      "dense_13 (Dense)             multiple                  2080      \n",
      "_________________________________________________________________\n",
      "dense_14 (Dense)             multiple                  429       \n",
      "=================================================================\n",
      "Total params: 996,365\n",
      "Trainable params: 996,237\n",
      "Non-trainable params: 128\n",
      "_________________________________________________________________\n"
     ]
    }
   ],
   "source": [
    "model.summary()"
   ]
  },
  {
   "cell_type": "code",
   "execution_count": null,
   "metadata": {},
   "outputs": [],
   "source": [
    "res = model.predict(X_test)"
   ]
  },
  {
   "cell_type": "code",
   "execution_count": null,
   "metadata": {},
   "outputs": [],
   "source": [
    "actions[np.argmax(res[1])] "
   ]
  },
  {
   "cell_type": "code",
   "execution_count": null,
   "metadata": {},
   "outputs": [],
   "source": [
    "actions[np.argmax(y_test[1])]"
   ]
  },
  {
   "cell_type": "code",
   "execution_count": null,
   "metadata": {},
   "outputs": [],
   "source": [
    "from sklearn.metrics import multilabel_confusion_matrix, accuracy_score,classification_report"
   ]
  },
  {
   "cell_type": "code",
   "execution_count": null,
   "metadata": {},
   "outputs": [],
   "source": [
    "yhat = model.predict(X_test)"
   ]
  },
  {
   "cell_type": "code",
   "execution_count": null,
   "metadata": {},
   "outputs": [],
   "source": [
    "ytrue = np.argmax(y_test, axis=1).tolist()\n",
    "yhat = np.argmax(yhat, axis=1).tolist()"
   ]
  },
  {
   "cell_type": "code",
   "execution_count": null,
   "metadata": {},
   "outputs": [],
   "source": [
    "multilabel_confusion_matrix(ytrue, yhat)"
   ]
  },
  {
   "cell_type": "code",
   "execution_count": null,
   "metadata": {},
   "outputs": [],
   "source": [
    "accuracy_score(ytrue, yhat)"
   ]
  },
  {
   "cell_type": "code",
   "execution_count": null,
   "metadata": {},
   "outputs": [],
   "source": [
    "from sklearn import metrics"
   ]
  },
  {
   "cell_type": "code",
   "execution_count": null,
   "metadata": {},
   "outputs": [],
   "source": [
    "print(f\"Classification report for Sign Gestures \\n\"\n",
    "      f\"{metrics.classification_report(ytrue, yhat)}\\n\")"
   ]
  },
  {
   "cell_type": "code",
   "execution_count": null,
   "metadata": {},
   "outputs": [],
   "source": [
    "acc = history_5.history['categorical_accuracy']\n",
    "val_acc = history_5.history['val_categorical_accuracy']\n",
    "\n",
    "loss = history_5.history['loss']\n",
    "val_loss = history_5.history['val_loss']\n",
    "\n",
    "\n",
    "plt.figure(figsize=(13, 13))\n",
    "plt.subplot(2, 1, 2)\n",
    "plt.plot(acc,'-b*', label='Training Accuracy')\n",
    "plt.plot(val_acc,'-r*', label='Validation Accuracy')\n",
    "plt.legend(loc='lower right')\n",
    "plt.ylabel('Accuracy')\n",
    "plt.ylim([min(plt.ylim()),1])\n",
    "plt.title('Training and Validation Accuracy')\n",
    "\n",
    "plt.subplot(2, 1, 1)\n",
    "plt.plot(loss,'-b*', label='Training Loss')\n",
    "plt.plot(val_loss,'-r*', label='Validation Loss')\n",
    "plt.legend(loc='upper right')\n",
    "plt.ylabel('Cross Entropy')\n",
    "plt.ylim([0,3.0])\n",
    "plt.title('Training and Validation Loss')\n",
    "plt.xlabel('epoch')\n",
    "plt.show()\n"
   ]
  },
  {
   "cell_type": "code",
   "execution_count": null,
   "metadata": {},
   "outputs": [],
   "source": [
    "from sklearn.metrics import r2_score"
   ]
  },
  {
   "cell_type": "code",
   "execution_count": null,
   "metadata": {},
   "outputs": [],
   "source": [
    "r2_score(ytrue, yhat)"
   ]
  },
  {
   "cell_type": "code",
   "execution_count": null,
   "metadata": {},
   "outputs": [],
   "source": [
    "from sklearn.metrics import mean_squared_error"
   ]
  },
  {
   "cell_type": "code",
   "execution_count": null,
   "metadata": {},
   "outputs": [],
   "source": [
    "mean_squared_error(ytrue, yhat)"
   ]
  },
  {
   "cell_type": "code",
   "execution_count": null,
   "metadata": {},
   "outputs": [],
   "source": [
    "from sklearn.metrics import mean_absolute_error"
   ]
  },
  {
   "cell_type": "code",
   "execution_count": null,
   "metadata": {},
   "outputs": [],
   "source": [
    "mean_absolute_error(ytrue, yhat)"
   ]
  },
  {
   "cell_type": "code",
   "execution_count": null,
   "metadata": {},
   "outputs": [],
   "source": [
    "print(\"Evaluate on test data\")\n",
    "results = model.evaluate(X_test, y_test, batch_size=128)\n",
    "print(\"test loss, test acc:\", results)"
   ]
  },
  {
   "cell_type": "markdown",
   "metadata": {},
   "source": [
    "# Bidirectional LSTM"
   ]
  },
  {
   "cell_type": "code",
   "execution_count": 99,
   "metadata": {},
   "outputs": [],
   "source": [
    "from tensorflow.keras.models import Sequential\n",
    "from tensorflow.keras.layers import LSTM, Dense, Dropout, BatchNormalization\n",
    "from tensorflow.keras.layers import Bidirectional\n",
    "from tensorflow.keras.callbacks import TensorBoard"
   ]
  },
  {
   "cell_type": "code",
   "execution_count": 100,
   "metadata": {},
   "outputs": [],
   "source": [
    "model = Sequential()\n",
    "model.add(Bidirectional(LSTM(64, return_sequences=True, activation='elu', input_shape=(30,1662))))\n",
    "model.add(Dropout(0.2))\n",
    "model.add(Bidirectional(LSTM(128, return_sequences=True, activation='tanh')))\n",
    "model.add(Dropout(0.3))\n",
    "model.add(Bidirectional(LSTM(64, return_sequences=False, activation='relu')))\n",
    "model.add(Dense(64, activation='relu'))\n",
    "model.add(BatchNormalization())\n",
    "model.add(Dense(32, activation='relu'))\n",
    "model.add(Dense(actions.shape[0], activation='softmax'))"
   ]
  },
  {
   "cell_type": "code",
   "execution_count": 101,
   "metadata": {},
   "outputs": [],
   "source": [
    "model.compile(optimizer='Adamax', loss='categorical_crossentropy', metrics=['categorical_accuracy'])"
   ]
  },
  {
   "cell_type": "code",
   "execution_count": 102,
   "metadata": {},
   "outputs": [
    {
     "name": "stdout",
     "output_type": "stream",
     "text": [
      "Train on 296 samples, validate on 74 samples\n",
      "Epoch 1/100\n",
      "296/296 [==============================] - 3s 10ms/sample - loss: 2.7307 - categorical_accuracy: 0.1149 - val_loss: 2.6168 - val_categorical_accuracy: 0.0946\n",
      "Epoch 2/100\n",
      "296/296 [==============================] - 1s 4ms/sample - loss: 2.7683 - categorical_accuracy: 0.0642 - val_loss: 2.6282 - val_categorical_accuracy: 0.0811\n",
      "Epoch 3/100\n",
      "296/296 [==============================] - 1s 4ms/sample - loss: 2.6704 - categorical_accuracy: 0.0777 - val_loss: 2.6242 - val_categorical_accuracy: 0.0541\n",
      "Epoch 4/100\n",
      "296/296 [==============================] - 1s 4ms/sample - loss: 2.6627 - categorical_accuracy: 0.0912 - val_loss: 2.6116 - val_categorical_accuracy: 0.0946\n",
      "Epoch 5/100\n",
      "296/296 [==============================] - 1s 4ms/sample - loss: 2.6556 - categorical_accuracy: 0.0709 - val_loss: 2.5578 - val_categorical_accuracy: 0.1081\n",
      "Epoch 6/100\n",
      "296/296 [==============================] - 1s 4ms/sample - loss: 2.5927 - categorical_accuracy: 0.0980 - val_loss: 2.5369 - val_categorical_accuracy: 0.2027\n",
      "Epoch 7/100\n",
      "296/296 [==============================] - 1s 4ms/sample - loss: 2.6214 - categorical_accuracy: 0.1014 - val_loss: 3.0015 - val_categorical_accuracy: 0.0541\n",
      "Epoch 8/100\n",
      "296/296 [==============================] - 1s 4ms/sample - loss: 2.5165 - categorical_accuracy: 0.1115 - val_loss: 3.0152 - val_categorical_accuracy: 0.0405\n",
      "Epoch 9/100\n",
      "296/296 [==============================] - 1s 4ms/sample - loss: 2.4584 - categorical_accuracy: 0.1419 - val_loss: 2.6559 - val_categorical_accuracy: 0.0541\n",
      "Epoch 10/100\n",
      "296/296 [==============================] - 1s 4ms/sample - loss: 2.4630 - categorical_accuracy: 0.1486 - val_loss: 2.5622 - val_categorical_accuracy: 0.1081\n",
      "Epoch 11/100\n",
      "296/296 [==============================] - 1s 4ms/sample - loss: 2.4313 - categorical_accuracy: 0.1284 - val_loss: 2.6510 - val_categorical_accuracy: 0.0811\n",
      "Epoch 12/100\n",
      "296/296 [==============================] - 1s 4ms/sample - loss: 2.4235 - categorical_accuracy: 0.1486 - val_loss: 2.6875 - val_categorical_accuracy: 0.0946\n",
      "Epoch 13/100\n",
      "296/296 [==============================] - 1s 4ms/sample - loss: 2.3805 - categorical_accuracy: 0.1689 - val_loss: 2.7670 - val_categorical_accuracy: 0.0811\n",
      "Epoch 14/100\n",
      "296/296 [==============================] - 1s 4ms/sample - loss: 2.3563 - categorical_accuracy: 0.1622 - val_loss: 2.6156 - val_categorical_accuracy: 0.0946\n",
      "Epoch 15/100\n",
      "296/296 [==============================] - 1s 4ms/sample - loss: 2.3368 - categorical_accuracy: 0.1486 - val_loss: 2.6413 - val_categorical_accuracy: 0.0811\n",
      "Epoch 16/100\n",
      "296/296 [==============================] - 1s 4ms/sample - loss: 2.3546 - categorical_accuracy: 0.1723 - val_loss: 2.7602 - val_categorical_accuracy: 0.1081\n",
      "Epoch 17/100\n",
      "296/296 [==============================] - 1s 4ms/sample - loss: 2.3555 - categorical_accuracy: 0.1216 - val_loss: 2.4674 - val_categorical_accuracy: 0.0946\n",
      "Epoch 18/100\n",
      "296/296 [==============================] - 1s 4ms/sample - loss: 2.3775 - categorical_accuracy: 0.1554 - val_loss: 2.5260 - val_categorical_accuracy: 0.0946\n",
      "Epoch 19/100\n",
      "296/296 [==============================] - 1s 4ms/sample - loss: 2.3424 - categorical_accuracy: 0.1486 - val_loss: 2.5817 - val_categorical_accuracy: 0.1081\n",
      "Epoch 20/100\n",
      "296/296 [==============================] - 1s 4ms/sample - loss: 2.2897 - categorical_accuracy: 0.1757 - val_loss: 2.5390 - val_categorical_accuracy: 0.1216\n",
      "Epoch 21/100\n",
      "296/296 [==============================] - 1s 4ms/sample - loss: 2.3160 - categorical_accuracy: 0.1689 - val_loss: 2.5397 - val_categorical_accuracy: 0.1351\n",
      "Epoch 22/100\n",
      "296/296 [==============================] - 1s 4ms/sample - loss: 2.2994 - categorical_accuracy: 0.1453 - val_loss: 2.4736 - val_categorical_accuracy: 0.1216\n",
      "Epoch 23/100\n",
      "296/296 [==============================] - 1s 4ms/sample - loss: 2.2990 - categorical_accuracy: 0.1655 - val_loss: 2.4650 - val_categorical_accuracy: 0.1216\n",
      "Epoch 24/100\n",
      "296/296 [==============================] - 1s 4ms/sample - loss: 2.2749 - categorical_accuracy: 0.1723 - val_loss: 2.3993 - val_categorical_accuracy: 0.0946\n",
      "Epoch 25/100\n",
      "296/296 [==============================] - 1s 4ms/sample - loss: 2.3009 - categorical_accuracy: 0.1385 - val_loss: 2.3770 - val_categorical_accuracy: 0.1351\n",
      "Epoch 26/100\n",
      "296/296 [==============================] - 1s 4ms/sample - loss: 2.2852 - categorical_accuracy: 0.1486 - val_loss: 2.3483 - val_categorical_accuracy: 0.1351\n",
      "Epoch 27/100\n",
      "296/296 [==============================] - 1s 4ms/sample - loss: 2.2607 - categorical_accuracy: 0.1689 - val_loss: 2.3843 - val_categorical_accuracy: 0.1486\n",
      "Epoch 28/100\n",
      "296/296 [==============================] - 1s 4ms/sample - loss: 2.2333 - categorical_accuracy: 0.1858 - val_loss: 2.3796 - val_categorical_accuracy: 0.1486\n",
      "Epoch 29/100\n",
      "296/296 [==============================] - 1s 4ms/sample - loss: 2.2704 - categorical_accuracy: 0.1858 - val_loss: 2.6537 - val_categorical_accuracy: 0.1486\n",
      "Epoch 30/100\n",
      "296/296 [==============================] - 1s 4ms/sample - loss: 2.3019 - categorical_accuracy: 0.1588 - val_loss: 2.4228 - val_categorical_accuracy: 0.1216\n",
      "Epoch 31/100\n",
      "296/296 [==============================] - 1s 4ms/sample - loss: 2.2579 - categorical_accuracy: 0.1824 - val_loss: 2.4155 - val_categorical_accuracy: 0.1216\n",
      "Epoch 32/100\n",
      "296/296 [==============================] - 1s 4ms/sample - loss: 2.2819 - categorical_accuracy: 0.1486 - val_loss: 2.4405 - val_categorical_accuracy: 0.1216\n",
      "Epoch 33/100\n",
      "296/296 [==============================] - 1s 4ms/sample - loss: 2.2437 - categorical_accuracy: 0.1858 - val_loss: 2.5947 - val_categorical_accuracy: 0.1486\n",
      "Epoch 34/100\n",
      "296/296 [==============================] - 1s 4ms/sample - loss: 2.2721 - categorical_accuracy: 0.1655 - val_loss: 2.5578 - val_categorical_accuracy: 0.0811\n",
      "Epoch 35/100\n",
      "296/296 [==============================] - 1s 4ms/sample - loss: 2.2923 - categorical_accuracy: 0.1723 - val_loss: 2.5266 - val_categorical_accuracy: 0.1216\n",
      "Epoch 36/100\n",
      "296/296 [==============================] - 1s 4ms/sample - loss: 2.2381 - categorical_accuracy: 0.1824 - val_loss: 2.4680 - val_categorical_accuracy: 0.0541\n",
      "Epoch 37/100\n",
      "296/296 [==============================] - 1s 4ms/sample - loss: 2.2324 - categorical_accuracy: 0.2162 - val_loss: 2.5063 - val_categorical_accuracy: 0.0946\n",
      "Epoch 38/100\n",
      "296/296 [==============================] - 1s 4ms/sample - loss: 2.1814 - categorical_accuracy: 0.2128 - val_loss: 2.4527 - val_categorical_accuracy: 0.1351\n",
      "Epoch 39/100\n",
      "296/296 [==============================] - 1s 4ms/sample - loss: 2.2271 - categorical_accuracy: 0.1993 - val_loss: 2.4821 - val_categorical_accuracy: 0.1081\n",
      "Epoch 40/100\n",
      "296/296 [==============================] - 1s 4ms/sample - loss: 2.2143 - categorical_accuracy: 0.2162 - val_loss: 2.4725 - val_categorical_accuracy: 0.1622\n",
      "Epoch 41/100\n",
      "296/296 [==============================] - 1s 4ms/sample - loss: 2.1678 - categorical_accuracy: 0.2264 - val_loss: 2.4812 - val_categorical_accuracy: 0.1351\n",
      "Epoch 42/100\n",
      "296/296 [==============================] - 1s 4ms/sample - loss: 2.1907 - categorical_accuracy: 0.2061 - val_loss: 2.4103 - val_categorical_accuracy: 0.1351\n",
      "Epoch 43/100\n",
      "296/296 [==============================] - 1s 4ms/sample - loss: 2.1570 - categorical_accuracy: 0.2230 - val_loss: 2.5126 - val_categorical_accuracy: 0.1622\n",
      "Epoch 44/100\n",
      "296/296 [==============================] - 1s 4ms/sample - loss: 2.1821 - categorical_accuracy: 0.1757 - val_loss: 2.3929 - val_categorical_accuracy: 0.1757\n",
      "Epoch 45/100\n",
      "296/296 [==============================] - 1s 4ms/sample - loss: 2.1394 - categorical_accuracy: 0.2432 - val_loss: 2.3853 - val_categorical_accuracy: 0.1757\n",
      "Epoch 46/100\n",
      "296/296 [==============================] - 1s 4ms/sample - loss: 2.1195 - categorical_accuracy: 0.2331 - val_loss: 2.4366 - val_categorical_accuracy: 0.1757\n",
      "Epoch 47/100\n",
      "296/296 [==============================] - 1s 4ms/sample - loss: 2.1343 - categorical_accuracy: 0.2128 - val_loss: 2.5038 - val_categorical_accuracy: 0.2162\n",
      "Epoch 48/100\n",
      "296/296 [==============================] - 1s 4ms/sample - loss: 2.1065 - categorical_accuracy: 0.2568 - val_loss: 2.4504 - val_categorical_accuracy: 0.2432\n"
     ]
    },
    {
     "name": "stdout",
     "output_type": "stream",
     "text": [
      "Epoch 49/100\n",
      "296/296 [==============================] - 1s 4ms/sample - loss: 2.1124 - categorical_accuracy: 0.2399 - val_loss: 2.3427 - val_categorical_accuracy: 0.2162\n",
      "Epoch 50/100\n",
      "296/296 [==============================] - 1s 4ms/sample - loss: 2.0831 - categorical_accuracy: 0.2331 - val_loss: 2.2842 - val_categorical_accuracy: 0.2297\n",
      "Epoch 51/100\n",
      "296/296 [==============================] - 1s 4ms/sample - loss: 2.0833 - categorical_accuracy: 0.2568 - val_loss: 2.2262 - val_categorical_accuracy: 0.2432\n",
      "Epoch 52/100\n",
      "296/296 [==============================] - 1s 4ms/sample - loss: 2.0632 - categorical_accuracy: 0.2669 - val_loss: 2.1883 - val_categorical_accuracy: 0.2297\n",
      "Epoch 53/100\n",
      "296/296 [==============================] - 1s 4ms/sample - loss: 2.0621 - categorical_accuracy: 0.2466 - val_loss: 2.3104 - val_categorical_accuracy: 0.2027\n",
      "Epoch 54/100\n",
      "296/296 [==============================] - 1s 4ms/sample - loss: 2.0501 - categorical_accuracy: 0.2770 - val_loss: 2.1966 - val_categorical_accuracy: 0.2568\n",
      "Epoch 55/100\n",
      "296/296 [==============================] - 1s 4ms/sample - loss: 2.0261 - categorical_accuracy: 0.2973 - val_loss: 2.2968 - val_categorical_accuracy: 0.2162\n",
      "Epoch 56/100\n",
      "296/296 [==============================] - 1s 4ms/sample - loss: 2.0162 - categorical_accuracy: 0.2838 - val_loss: 2.2060 - val_categorical_accuracy: 0.2027\n",
      "Epoch 57/100\n",
      "296/296 [==============================] - 1s 4ms/sample - loss: 1.9828 - categorical_accuracy: 0.2939 - val_loss: 2.3123 - val_categorical_accuracy: 0.2162\n",
      "Epoch 58/100\n",
      "296/296 [==============================] - 1s 4ms/sample - loss: 1.9965 - categorical_accuracy: 0.3142 - val_loss: 2.1738 - val_categorical_accuracy: 0.2703\n",
      "Epoch 59/100\n",
      "296/296 [==============================] - 1s 4ms/sample - loss: 2.0016 - categorical_accuracy: 0.2939 - val_loss: 2.2735 - val_categorical_accuracy: 0.2703\n",
      "Epoch 60/100\n",
      "296/296 [==============================] - 1s 3ms/sample - loss: 1.9668 - categorical_accuracy: 0.3108 - val_loss: 2.3005 - val_categorical_accuracy: 0.2162\n",
      "Epoch 61/100\n",
      "296/296 [==============================] - 1s 4ms/sample - loss: 1.9356 - categorical_accuracy: 0.3209 - val_loss: 2.1526 - val_categorical_accuracy: 0.2703\n",
      "Epoch 62/100\n",
      "296/296 [==============================] - 1s 4ms/sample - loss: 1.9518 - categorical_accuracy: 0.3041 - val_loss: 2.1392 - val_categorical_accuracy: 0.2432\n",
      "Epoch 63/100\n",
      "296/296 [==============================] - 1s 4ms/sample - loss: 1.9055 - categorical_accuracy: 0.2939 - val_loss: 2.0589 - val_categorical_accuracy: 0.2703\n",
      "Epoch 64/100\n",
      "296/296 [==============================] - 1s 4ms/sample - loss: 1.9314 - categorical_accuracy: 0.3007 - val_loss: 2.3118 - val_categorical_accuracy: 0.1757\n",
      "Epoch 65/100\n",
      "296/296 [==============================] - 1s 4ms/sample - loss: 1.9309 - categorical_accuracy: 0.3108 - val_loss: 2.3445 - val_categorical_accuracy: 0.2162\n",
      "Epoch 66/100\n",
      "296/296 [==============================] - 1s 4ms/sample - loss: 1.9661 - categorical_accuracy: 0.2736 - val_loss: 2.3033 - val_categorical_accuracy: 0.2297\n",
      "Epoch 67/100\n",
      "296/296 [==============================] - 1s 4ms/sample - loss: 1.9248 - categorical_accuracy: 0.3311 - val_loss: 2.1813 - val_categorical_accuracy: 0.2027\n",
      "Epoch 68/100\n",
      "296/296 [==============================] - 1s 4ms/sample - loss: 1.9000 - categorical_accuracy: 0.2973 - val_loss: 2.0171 - val_categorical_accuracy: 0.2838\n",
      "Epoch 69/100\n",
      "296/296 [==============================] - 1s 4ms/sample - loss: 1.8608 - categorical_accuracy: 0.3074 - val_loss: 2.1783 - val_categorical_accuracy: 0.2027\n",
      "Epoch 70/100\n",
      "296/296 [==============================] - 1s 4ms/sample - loss: 1.8831 - categorical_accuracy: 0.2838 - val_loss: 2.0320 - val_categorical_accuracy: 0.1351\n",
      "Epoch 71/100\n",
      "296/296 [==============================] - 1s 4ms/sample - loss: 1.8667 - categorical_accuracy: 0.3345 - val_loss: 2.1591 - val_categorical_accuracy: 0.2432\n",
      "Epoch 72/100\n",
      "296/296 [==============================] - 1s 4ms/sample - loss: 1.9066 - categorical_accuracy: 0.3209 - val_loss: 2.4637 - val_categorical_accuracy: 0.1622\n",
      "Epoch 73/100\n",
      "296/296 [==============================] - 1s 4ms/sample - loss: 1.8955 - categorical_accuracy: 0.3243 - val_loss: 2.1320 - val_categorical_accuracy: 0.1892\n",
      "Epoch 74/100\n",
      "296/296 [==============================] - 1s 4ms/sample - loss: 1.9012 - categorical_accuracy: 0.2905 - val_loss: 2.2484 - val_categorical_accuracy: 0.1622\n",
      "Epoch 75/100\n",
      "296/296 [==============================] - 1s 4ms/sample - loss: 1.9509 - categorical_accuracy: 0.3074 - val_loss: 1.9739 - val_categorical_accuracy: 0.3108\n",
      "Epoch 76/100\n",
      "296/296 [==============================] - 1s 4ms/sample - loss: 2.0666 - categorical_accuracy: 0.2905 - val_loss: 2.5924 - val_categorical_accuracy: 0.1351\n",
      "Epoch 77/100\n",
      "296/296 [==============================] - 1s 4ms/sample - loss: 2.1465 - categorical_accuracy: 0.2432 - val_loss: 2.4527 - val_categorical_accuracy: 0.1892\n",
      "Epoch 78/100\n",
      "296/296 [==============================] - 1s 4ms/sample - loss: 2.0075 - categorical_accuracy: 0.2872 - val_loss: 2.0252 - val_categorical_accuracy: 0.2297\n",
      "Epoch 79/100\n",
      "296/296 [==============================] - 1s 4ms/sample - loss: 1.9809 - categorical_accuracy: 0.2939 - val_loss: 2.1318 - val_categorical_accuracy: 0.2568\n",
      "Epoch 80/100\n",
      "296/296 [==============================] - 1s 4ms/sample - loss: 1.9651 - categorical_accuracy: 0.2669 - val_loss: 2.4383 - val_categorical_accuracy: 0.2027\n",
      "Epoch 81/100\n",
      "296/296 [==============================] - 1s 4ms/sample - loss: 1.8693 - categorical_accuracy: 0.2872 - val_loss: 2.0617 - val_categorical_accuracy: 0.2703\n",
      "Epoch 82/100\n",
      "296/296 [==============================] - 1s 4ms/sample - loss: 1.8548 - categorical_accuracy: 0.3108 - val_loss: 2.2187 - val_categorical_accuracy: 0.2297\n",
      "Epoch 83/100\n",
      "296/296 [==============================] - 1s 4ms/sample - loss: 1.8332 - categorical_accuracy: 0.3243 - val_loss: 1.9000 - val_categorical_accuracy: 0.2838\n",
      "Epoch 84/100\n",
      "296/296 [==============================] - 1s 4ms/sample - loss: 1.8104 - categorical_accuracy: 0.3615 - val_loss: 1.9790 - val_categorical_accuracy: 0.2973\n",
      "Epoch 85/100\n",
      "296/296 [==============================] - 1s 4ms/sample - loss: 1.8883 - categorical_accuracy: 0.2905 - val_loss: 2.3831 - val_categorical_accuracy: 0.1486\n",
      "Epoch 86/100\n",
      "296/296 [==============================] - 1s 4ms/sample - loss: 1.8578 - categorical_accuracy: 0.3007 - val_loss: 1.8567 - val_categorical_accuracy: 0.3649\n",
      "Epoch 87/100\n",
      "296/296 [==============================] - 1s 4ms/sample - loss: 1.8370 - categorical_accuracy: 0.3412 - val_loss: 1.6336 - val_categorical_accuracy: 0.4730\n",
      "Epoch 88/100\n",
      "296/296 [==============================] - 1s 4ms/sample - loss: 1.7267 - categorical_accuracy: 0.3446 - val_loss: 1.9089 - val_categorical_accuracy: 0.3514\n",
      "Epoch 89/100\n",
      "296/296 [==============================] - 1s 4ms/sample - loss: 1.7228 - categorical_accuracy: 0.3412 - val_loss: 2.8926 - val_categorical_accuracy: 0.3108\n",
      "Epoch 90/100\n",
      "296/296 [==============================] - 1s 4ms/sample - loss: 1.7332 - categorical_accuracy: 0.3581 - val_loss: 1.6681 - val_categorical_accuracy: 0.2973\n",
      "Epoch 91/100\n",
      "296/296 [==============================] - 1s 4ms/sample - loss: 1.7207 - categorical_accuracy: 0.4020 - val_loss: 2.0061 - val_categorical_accuracy: 0.3514\n",
      "Epoch 92/100\n",
      "296/296 [==============================] - 1s 4ms/sample - loss: 1.6863 - categorical_accuracy: 0.4054 - val_loss: 1.7436 - val_categorical_accuracy: 0.3919\n",
      "Epoch 93/100\n",
      "296/296 [==============================] - 1s 4ms/sample - loss: 1.6859 - categorical_accuracy: 0.4155 - val_loss: 1.6540 - val_categorical_accuracy: 0.3243\n",
      "Epoch 94/100\n",
      "296/296 [==============================] - 1s 4ms/sample - loss: 1.6659 - categorical_accuracy: 0.3986 - val_loss: 1.9526 - val_categorical_accuracy: 0.2432\n",
      "Epoch 95/100\n",
      "296/296 [==============================] - 1s 4ms/sample - loss: 1.6294 - categorical_accuracy: 0.4088 - val_loss: 2.0109 - val_categorical_accuracy: 0.3784\n",
      "Epoch 96/100\n",
      "296/296 [==============================] - 1s 4ms/sample - loss: 1.6555 - categorical_accuracy: 0.4122 - val_loss: 1.8076 - val_categorical_accuracy: 0.3514\n",
      "Epoch 97/100\n"
     ]
    },
    {
     "name": "stdout",
     "output_type": "stream",
     "text": [
      "296/296 [==============================] - 1s 4ms/sample - loss: 1.6494 - categorical_accuracy: 0.3919 - val_loss: 1.5897 - val_categorical_accuracy: 0.3514\n",
      "Epoch 98/100\n",
      "296/296 [==============================] - 1s 4ms/sample - loss: 1.5796 - categorical_accuracy: 0.4595 - val_loss: 1.8335 - val_categorical_accuracy: 0.4324\n",
      "Epoch 99/100\n",
      "296/296 [==============================] - 1s 4ms/sample - loss: 1.5696 - categorical_accuracy: 0.4257 - val_loss: 1.6588 - val_categorical_accuracy: 0.4324\n",
      "Epoch 100/100\n",
      "296/296 [==============================] - 1s 4ms/sample - loss: 1.5759 - categorical_accuracy: 0.4561 - val_loss: 1.9161 - val_categorical_accuracy: 0.3919\n"
     ]
    }
   ],
   "source": [
    "history_6 = model.fit(X_train, y_train, epochs=100, validation_split=0.2,callbacks=[tb_callback])"
   ]
  },
  {
   "cell_type": "code",
   "execution_count": 103,
   "metadata": {},
   "outputs": [
    {
     "data": {
      "text/plain": [
       "{'loss': [2.7307004928588867,\n",
       "  2.7682837537817053,\n",
       "  2.6704329026711955,\n",
       "  2.662742704958529,\n",
       "  2.6556100587587097,\n",
       "  2.592652011562038,\n",
       "  2.6213828486365243,\n",
       "  2.516540649774912,\n",
       "  2.458447604566007,\n",
       "  2.463040222992768,\n",
       "  2.4313103637179814,\n",
       "  2.4234931662275985,\n",
       "  2.380459450386666,\n",
       "  2.3563394804258606,\n",
       "  2.33681092391143,\n",
       "  2.3545692933572306,\n",
       "  2.3555395538742476,\n",
       "  2.377469539642334,\n",
       "  2.3424486082953377,\n",
       "  2.289692144136171,\n",
       "  2.3159949070698507,\n",
       "  2.2994123085125073,\n",
       "  2.2990167656460323,\n",
       "  2.274926862201175,\n",
       "  2.300880238816545,\n",
       "  2.2851962269963444,\n",
       "  2.260740563676164,\n",
       "  2.2332688408928947,\n",
       "  2.2704033336123906,\n",
       "  2.3018627166748047,\n",
       "  2.257869952433818,\n",
       "  2.2818727493286133,\n",
       "  2.2436765400139063,\n",
       "  2.27209455902512,\n",
       "  2.292335523141397,\n",
       "  2.2380819449553617,\n",
       "  2.232401519208341,\n",
       "  2.1814191792462325,\n",
       "  2.2271387254869617,\n",
       "  2.214349836916537,\n",
       "  2.167809396176725,\n",
       "  2.1907239153578475,\n",
       "  2.156961131740261,\n",
       "  2.182093723400219,\n",
       "  2.1393699194933915,\n",
       "  2.119533841674392,\n",
       "  2.1343307623992094,\n",
       "  2.106546891702188,\n",
       "  2.1123734744819433,\n",
       "  2.083086580843539,\n",
       "  2.083290364291217,\n",
       "  2.0631813133085095,\n",
       "  2.0620907287339905,\n",
       "  2.050073211257522,\n",
       "  2.026104907731752,\n",
       "  2.0162377099733093,\n",
       "  1.9828431831823814,\n",
       "  1.9964920153488983,\n",
       "  2.001588747308061,\n",
       "  1.9667636252738334,\n",
       "  1.9356464373098838,\n",
       "  1.9518095802616429,\n",
       "  1.9055479313876178,\n",
       "  1.9314113887580666,\n",
       "  1.930906192676441,\n",
       "  1.9660509728096627,\n",
       "  1.9248388200192839,\n",
       "  1.8999951852334511,\n",
       "  1.8607503562360197,\n",
       "  1.8830859725539748,\n",
       "  1.866746863803348,\n",
       "  1.9066115521095894,\n",
       "  1.895467539091368,\n",
       "  1.9011773676485628,\n",
       "  1.9509107873246476,\n",
       "  2.0665692767581425,\n",
       "  2.1464891175966003,\n",
       "  2.0074786237768225,\n",
       "  1.980878159806535,\n",
       "  1.965147353507377,\n",
       "  1.869341180131242,\n",
       "  1.8548259606232513,\n",
       "  1.8332171311249603,\n",
       "  1.8104239122287646,\n",
       "  1.8883190412779112,\n",
       "  1.8577509313016325,\n",
       "  1.8369916903006065,\n",
       "  1.7266807362839982,\n",
       "  1.7228176432686884,\n",
       "  1.7331777198894605,\n",
       "  1.7207384818309062,\n",
       "  1.6863189967902932,\n",
       "  1.685852540505899,\n",
       "  1.6658805254343394,\n",
       "  1.6293627603633984,\n",
       "  1.6554649713877085,\n",
       "  1.649354818704966,\n",
       "  1.5796343378118567,\n",
       "  1.5696206350584287,\n",
       "  1.575857629647126],\n",
       " 'categorical_accuracy': [0.11486486,\n",
       "  0.06418919,\n",
       "  0.0777027,\n",
       "  0.091216214,\n",
       "  0.07094595,\n",
       "  0.097972974,\n",
       "  0.10135135,\n",
       "  0.11148649,\n",
       "  0.1418919,\n",
       "  0.14864865,\n",
       "  0.12837838,\n",
       "  0.14864865,\n",
       "  0.16891892,\n",
       "  0.16216215,\n",
       "  0.14864865,\n",
       "  0.1722973,\n",
       "  0.12162162,\n",
       "  0.1554054,\n",
       "  0.14864865,\n",
       "  0.17567568,\n",
       "  0.16891892,\n",
       "  0.14527027,\n",
       "  0.16554055,\n",
       "  0.1722973,\n",
       "  0.13851352,\n",
       "  0.14864865,\n",
       "  0.16891892,\n",
       "  0.1858108,\n",
       "  0.1858108,\n",
       "  0.15878378,\n",
       "  0.18243243,\n",
       "  0.14864865,\n",
       "  0.1858108,\n",
       "  0.16554055,\n",
       "  0.1722973,\n",
       "  0.18243243,\n",
       "  0.21621622,\n",
       "  0.21283785,\n",
       "  0.19932432,\n",
       "  0.21621622,\n",
       "  0.22635135,\n",
       "  0.20608108,\n",
       "  0.22297297,\n",
       "  0.17567568,\n",
       "  0.24324325,\n",
       "  0.2331081,\n",
       "  0.21283785,\n",
       "  0.25675675,\n",
       "  0.23986487,\n",
       "  0.2331081,\n",
       "  0.25675675,\n",
       "  0.2668919,\n",
       "  0.24662162,\n",
       "  0.27702704,\n",
       "  0.2972973,\n",
       "  0.2837838,\n",
       "  0.2939189,\n",
       "  0.3141892,\n",
       "  0.2939189,\n",
       "  0.3108108,\n",
       "  0.32094595,\n",
       "  0.30405405,\n",
       "  0.2939189,\n",
       "  0.3006757,\n",
       "  0.3108108,\n",
       "  0.27364865,\n",
       "  0.3310811,\n",
       "  0.2972973,\n",
       "  0.30743244,\n",
       "  0.2837838,\n",
       "  0.33445945,\n",
       "  0.32094595,\n",
       "  0.3243243,\n",
       "  0.29054055,\n",
       "  0.30743244,\n",
       "  0.29054055,\n",
       "  0.24324325,\n",
       "  0.28716215,\n",
       "  0.2939189,\n",
       "  0.2668919,\n",
       "  0.28716215,\n",
       "  0.3108108,\n",
       "  0.3243243,\n",
       "  0.3614865,\n",
       "  0.29054055,\n",
       "  0.3006757,\n",
       "  0.3412162,\n",
       "  0.3445946,\n",
       "  0.3412162,\n",
       "  0.3581081,\n",
       "  0.40202704,\n",
       "  0.4054054,\n",
       "  0.41554055,\n",
       "  0.39864865,\n",
       "  0.4087838,\n",
       "  0.41216215,\n",
       "  0.3918919,\n",
       "  0.45945945,\n",
       "  0.4256757,\n",
       "  0.4560811],\n",
       " 'val_loss': [2.616841135798274,\n",
       "  2.6281851304543986,\n",
       "  2.624247931145333,\n",
       "  2.611627875147639,\n",
       "  2.5577807426452637,\n",
       "  2.5368831286559232,\n",
       "  3.001474238730766,\n",
       "  3.0151706644006677,\n",
       "  2.6558980555147738,\n",
       "  2.562169004131008,\n",
       "  2.6510013760747135,\n",
       "  2.6875089374748438,\n",
       "  2.766957869400849,\n",
       "  2.6155596488230937,\n",
       "  2.6412548761110046,\n",
       "  2.7602110037932523,\n",
       "  2.4674369128974707,\n",
       "  2.525981806419991,\n",
       "  2.581746326910483,\n",
       "  2.539027065844149,\n",
       "  2.5397113529411524,\n",
       "  2.4736059936317236,\n",
       "  2.4650059132962614,\n",
       "  2.3992607657973832,\n",
       "  2.377011672870533,\n",
       "  2.3482759643245386,\n",
       "  2.3843223082052694,\n",
       "  2.379632163692165,\n",
       "  2.6537378672006966,\n",
       "  2.42279847892555,\n",
       "  2.4155368224994556,\n",
       "  2.440460778571464,\n",
       "  2.5947356997309505,\n",
       "  2.5578144692085885,\n",
       "  2.5266065146472,\n",
       "  2.4679634635512895,\n",
       "  2.506274416639998,\n",
       "  2.4526542908436544,\n",
       "  2.4820701109396444,\n",
       "  2.47250450624002,\n",
       "  2.4811855071299784,\n",
       "  2.4103328408421696,\n",
       "  2.512621248090589,\n",
       "  2.392924753395287,\n",
       "  2.385302782058716,\n",
       "  2.4365568096573287,\n",
       "  2.503811978005074,\n",
       "  2.450426707396636,\n",
       "  2.342741328316766,\n",
       "  2.2842155662742822,\n",
       "  2.2262161809044914,\n",
       "  2.188304856016829,\n",
       "  2.310446056159767,\n",
       "  2.1965798558415592,\n",
       "  2.2968003105472876,\n",
       "  2.2059733416583085,\n",
       "  2.3123313349646493,\n",
       "  2.1737896236213476,\n",
       "  2.2734864724648967,\n",
       "  2.3004949028427535,\n",
       "  2.152615940248644,\n",
       "  2.139214734773378,\n",
       "  2.0588807995254927,\n",
       "  2.311751230342968,\n",
       "  2.3445489406585693,\n",
       "  2.3032685743795858,\n",
       "  2.181317458281646,\n",
       "  2.017097737338092,\n",
       "  2.1783106842556514,\n",
       "  2.032014875798612,\n",
       "  2.159056244669734,\n",
       "  2.4636753314250224,\n",
       "  2.131967589661882,\n",
       "  2.2483606789563155,\n",
       "  1.973927201451482,\n",
       "  2.5923994811805517,\n",
       "  2.452694828445847,\n",
       "  2.0252195757788582,\n",
       "  2.13180195318686,\n",
       "  2.4383078330271952,\n",
       "  2.0617234642441207,\n",
       "  2.218667842246391,\n",
       "  1.9000209376618669,\n",
       "  1.979035557927312,\n",
       "  2.3831295193852604,\n",
       "  1.8567262726861078,\n",
       "  1.6336175299979545,\n",
       "  1.9088555220011119,\n",
       "  2.8925599826348796,\n",
       "  1.6680546000197127,\n",
       "  2.0060829858522156,\n",
       "  1.7435833473463316,\n",
       "  1.6540128057067458,\n",
       "  1.952592456662977,\n",
       "  2.0109006843051396,\n",
       "  1.8075524117495563,\n",
       "  1.5896898411415719,\n",
       "  1.833501538714847,\n",
       "  1.6588190858428542,\n",
       "  1.916112455161842],\n",
       " 'val_categorical_accuracy': [0.0945946,\n",
       "  0.08108108,\n",
       "  0.054054055,\n",
       "  0.0945946,\n",
       "  0.10810811,\n",
       "  0.2027027,\n",
       "  0.054054055,\n",
       "  0.04054054,\n",
       "  0.054054055,\n",
       "  0.10810811,\n",
       "  0.08108108,\n",
       "  0.0945946,\n",
       "  0.08108108,\n",
       "  0.0945946,\n",
       "  0.08108108,\n",
       "  0.10810811,\n",
       "  0.0945946,\n",
       "  0.0945946,\n",
       "  0.10810811,\n",
       "  0.12162162,\n",
       "  0.13513513,\n",
       "  0.12162162,\n",
       "  0.12162162,\n",
       "  0.0945946,\n",
       "  0.13513513,\n",
       "  0.13513513,\n",
       "  0.14864865,\n",
       "  0.14864865,\n",
       "  0.14864865,\n",
       "  0.12162162,\n",
       "  0.12162162,\n",
       "  0.12162162,\n",
       "  0.14864865,\n",
       "  0.08108108,\n",
       "  0.12162162,\n",
       "  0.054054055,\n",
       "  0.0945946,\n",
       "  0.13513513,\n",
       "  0.10810811,\n",
       "  0.16216215,\n",
       "  0.13513513,\n",
       "  0.13513513,\n",
       "  0.16216215,\n",
       "  0.17567568,\n",
       "  0.17567568,\n",
       "  0.17567568,\n",
       "  0.21621622,\n",
       "  0.24324325,\n",
       "  0.21621622,\n",
       "  0.22972973,\n",
       "  0.24324325,\n",
       "  0.22972973,\n",
       "  0.2027027,\n",
       "  0.25675675,\n",
       "  0.21621622,\n",
       "  0.2027027,\n",
       "  0.21621622,\n",
       "  0.27027026,\n",
       "  0.27027026,\n",
       "  0.21621622,\n",
       "  0.27027026,\n",
       "  0.24324325,\n",
       "  0.27027026,\n",
       "  0.17567568,\n",
       "  0.21621622,\n",
       "  0.22972973,\n",
       "  0.2027027,\n",
       "  0.2837838,\n",
       "  0.2027027,\n",
       "  0.13513513,\n",
       "  0.24324325,\n",
       "  0.16216215,\n",
       "  0.1891892,\n",
       "  0.16216215,\n",
       "  0.3108108,\n",
       "  0.13513513,\n",
       "  0.1891892,\n",
       "  0.22972973,\n",
       "  0.25675675,\n",
       "  0.2027027,\n",
       "  0.27027026,\n",
       "  0.22972973,\n",
       "  0.2837838,\n",
       "  0.2972973,\n",
       "  0.14864865,\n",
       "  0.36486486,\n",
       "  0.47297296,\n",
       "  0.35135135,\n",
       "  0.3108108,\n",
       "  0.2972973,\n",
       "  0.35135135,\n",
       "  0.3918919,\n",
       "  0.3243243,\n",
       "  0.24324325,\n",
       "  0.3783784,\n",
       "  0.35135135,\n",
       "  0.35135135,\n",
       "  0.43243244,\n",
       "  0.43243244,\n",
       "  0.3918919]}"
      ]
     },
     "execution_count": 103,
     "metadata": {},
     "output_type": "execute_result"
    }
   ],
   "source": [
    "history_6.history"
   ]
  },
  {
   "cell_type": "code",
   "execution_count": 104,
   "metadata": {},
   "outputs": [
    {
     "name": "stdout",
     "output_type": "stream",
     "text": [
      "Model: \"sequential_5\"\n",
      "_________________________________________________________________\n",
      "Layer (type)                 Output Shape              Param #   \n",
      "=================================================================\n",
      "bidirectional_3 (Bidirection multiple                  884224    \n",
      "_________________________________________________________________\n",
      "dropout_10 (Dropout)         multiple                  0         \n",
      "_________________________________________________________________\n",
      "bidirectional_4 (Bidirection multiple                  263168    \n",
      "_________________________________________________________________\n",
      "dropout_11 (Dropout)         multiple                  0         \n",
      "_________________________________________________________________\n",
      "bidirectional_5 (Bidirection multiple                  164352    \n",
      "_________________________________________________________________\n",
      "dense_15 (Dense)             multiple                  8256      \n",
      "_________________________________________________________________\n",
      "batch_normalization_5 (Batch multiple                  256       \n",
      "_________________________________________________________________\n",
      "dense_16 (Dense)             multiple                  2080      \n",
      "_________________________________________________________________\n",
      "dense_17 (Dense)             multiple                  429       \n",
      "=================================================================\n",
      "Total params: 1,322,765\n",
      "Trainable params: 1,322,637\n",
      "Non-trainable params: 128\n",
      "_________________________________________________________________\n"
     ]
    }
   ],
   "source": [
    "model.summary()"
   ]
  },
  {
   "cell_type": "code",
   "execution_count": null,
   "metadata": {},
   "outputs": [],
   "source": [
    "res = model.predict(X_test)"
   ]
  },
  {
   "cell_type": "code",
   "execution_count": null,
   "metadata": {},
   "outputs": [],
   "source": [
    "actions[np.argmax(res[1])] "
   ]
  },
  {
   "cell_type": "code",
   "execution_count": null,
   "metadata": {},
   "outputs": [],
   "source": [
    "actions[np.argmax(y_test[1])]"
   ]
  },
  {
   "cell_type": "code",
   "execution_count": null,
   "metadata": {},
   "outputs": [],
   "source": [
    "from sklearn.metrics import multilabel_confusion_matrix, accuracy_score,classification_report"
   ]
  },
  {
   "cell_type": "code",
   "execution_count": null,
   "metadata": {},
   "outputs": [],
   "source": [
    "yhat = model.predict(X_test)"
   ]
  },
  {
   "cell_type": "code",
   "execution_count": null,
   "metadata": {},
   "outputs": [],
   "source": [
    "ytrue = np.argmax(y_test, axis=1).tolist()\n",
    "yhat = np.argmax(yhat, axis=1).tolist()"
   ]
  },
  {
   "cell_type": "code",
   "execution_count": null,
   "metadata": {},
   "outputs": [],
   "source": [
    "multilabel_confusion_matrix(ytrue, yhat)"
   ]
  },
  {
   "cell_type": "code",
   "execution_count": null,
   "metadata": {},
   "outputs": [],
   "source": [
    "accuracy_score(ytrue, yhat)"
   ]
  },
  {
   "cell_type": "code",
   "execution_count": null,
   "metadata": {},
   "outputs": [],
   "source": [
    "from sklearn import metrics"
   ]
  },
  {
   "cell_type": "code",
   "execution_count": null,
   "metadata": {},
   "outputs": [],
   "source": [
    "print(f\"Classification report for Sign Gestures \\n\"\n",
    "      f\"{metrics.classification_report(ytrue, yhat)}\\n\")"
   ]
  },
  {
   "cell_type": "code",
   "execution_count": null,
   "metadata": {},
   "outputs": [],
   "source": [
    "acc = history_6.history['categorical_accuracy']\n",
    "val_acc = history_6.history['val_categorical_accuracy']\n",
    "\n",
    "loss = history_6.history['loss']\n",
    "val_loss = history_6.history['val_loss']\n",
    "\n",
    "\n",
    "plt.figure(figsize=(13, 13))\n",
    "plt.subplot(2, 1, 2)\n",
    "plt.plot(acc,'-b*', label='Training Accuracy')\n",
    "plt.plot(val_acc,'-r*', label='Validation Accuracy')\n",
    "plt.legend(loc='upper right')\n",
    "plt.ylabel('Accuracy')\n",
    "plt.ylim([min(plt.ylim()),1])\n",
    "plt.title('Training and Validation Accuracy')\n",
    "\n",
    "plt.subplot(2, 1, 1)\n",
    "plt.plot(loss,'-b*', label='Training Loss')\n",
    "plt.plot(val_loss,'-r*', label='Validation Loss')\n",
    "plt.legend(loc='lower right')\n",
    "plt.ylabel('Cross Entropy')\n",
    "plt.ylim([0,3.0])\n",
    "plt.title('Training and Validation Loss')\n",
    "plt.xlabel('epoch')\n",
    "plt.show()\n"
   ]
  },
  {
   "cell_type": "code",
   "execution_count": null,
   "metadata": {},
   "outputs": [],
   "source": [
    "from sklearn.metrics import r2_score"
   ]
  },
  {
   "cell_type": "code",
   "execution_count": null,
   "metadata": {},
   "outputs": [],
   "source": [
    "r2_score(ytrue, yhat)"
   ]
  },
  {
   "cell_type": "code",
   "execution_count": null,
   "metadata": {},
   "outputs": [],
   "source": [
    "from sklearn.metrics import mean_squared_error"
   ]
  },
  {
   "cell_type": "code",
   "execution_count": null,
   "metadata": {},
   "outputs": [],
   "source": [
    "mean_squared_error(ytrue, yhat)"
   ]
  },
  {
   "cell_type": "code",
   "execution_count": null,
   "metadata": {},
   "outputs": [],
   "source": [
    "from sklearn.metrics import mean_absolute_error"
   ]
  },
  {
   "cell_type": "code",
   "execution_count": null,
   "metadata": {},
   "outputs": [],
   "source": [
    "mean_absolute_error(ytrue, yhat)"
   ]
  },
  {
   "cell_type": "code",
   "execution_count": null,
   "metadata": {},
   "outputs": [],
   "source": [
    "print(\"Evaluate on test data\")\n",
    "results = model.evaluate(X_test, y_test, batch_size=128)\n",
    "print(\"test loss, test acc:\", results)"
   ]
  },
  {
   "cell_type": "code",
   "execution_count": 105,
   "metadata": {},
   "outputs": [],
   "source": [
    "import matplotlib.pyplot as plt\n"
   ]
  },
  {
   "cell_type": "code",
   "execution_count": 106,
   "metadata": {},
   "outputs": [],
   "source": [
    "%matplotlib inline"
   ]
  },
  {
   "cell_type": "code",
   "execution_count": 107,
   "metadata": {},
   "outputs": [
    {
     "ename": "NameError",
     "evalue": "name 'history_2' is not defined",
     "output_type": "error",
     "traceback": [
      "\u001b[1;31m---------------------------------------------------------------------------\u001b[0m",
      "\u001b[1;31mNameError\u001b[0m                                 Traceback (most recent call last)",
      "\u001b[1;32m~\\AppData\\Local\\Temp/ipykernel_39400/3828031583.py\u001b[0m in \u001b[0;36m<module>\u001b[1;34m\u001b[0m\n\u001b[0;32m      4\u001b[0m \u001b[0mx1\u001b[0m \u001b[1;33m=\u001b[0m \u001b[0mhistory_1\u001b[0m\u001b[1;33m.\u001b[0m\u001b[0mhistory\u001b[0m\u001b[1;33m[\u001b[0m\u001b[1;34m'categorical_accuracy'\u001b[0m\u001b[1;33m]\u001b[0m\u001b[1;33m\u001b[0m\u001b[1;33m\u001b[0m\u001b[0m\n\u001b[0;32m      5\u001b[0m \u001b[0mplt\u001b[0m\u001b[1;33m.\u001b[0m\u001b[0mplot\u001b[0m\u001b[1;33m(\u001b[0m\u001b[0mx1\u001b[0m\u001b[1;33m,\u001b[0m\u001b[0mcolor\u001b[0m\u001b[1;33m=\u001b[0m\u001b[1;34m\"g\"\u001b[0m\u001b[1;33m,\u001b[0m\u001b[0mlinewidth\u001b[0m\u001b[1;33m=\u001b[0m\u001b[1;36m3\u001b[0m\u001b[1;33m,\u001b[0m\u001b[0mlabel\u001b[0m\u001b[1;33m=\u001b[0m\u001b[1;34m\"Standard GRU\"\u001b[0m\u001b[1;33m)\u001b[0m\u001b[1;33m\u001b[0m\u001b[1;33m\u001b[0m\u001b[0m\n\u001b[1;32m----> 6\u001b[1;33m \u001b[0mx2\u001b[0m \u001b[1;33m=\u001b[0m \u001b[0mhistory_2\u001b[0m\u001b[1;33m.\u001b[0m\u001b[0mhistory\u001b[0m\u001b[1;33m[\u001b[0m\u001b[1;34m'categorical_accuracy'\u001b[0m\u001b[1;33m]\u001b[0m\u001b[1;33m\u001b[0m\u001b[1;33m\u001b[0m\u001b[0m\n\u001b[0m\u001b[0;32m      7\u001b[0m \u001b[0mplt\u001b[0m\u001b[1;33m.\u001b[0m\u001b[0mplot\u001b[0m\u001b[1;33m(\u001b[0m\u001b[0mx2\u001b[0m\u001b[1;33m,\u001b[0m\u001b[0mcolor\u001b[0m\u001b[1;33m=\u001b[0m\u001b[1;34m\"r\"\u001b[0m\u001b[1;33m,\u001b[0m\u001b[0mlinewidth\u001b[0m\u001b[1;33m=\u001b[0m\u001b[1;36m3\u001b[0m\u001b[1;33m,\u001b[0m\u001b[0mlabel\u001b[0m\u001b[1;33m=\u001b[0m\u001b[1;34m\"LSTM\"\u001b[0m\u001b[1;33m)\u001b[0m\u001b[1;33m\u001b[0m\u001b[1;33m\u001b[0m\u001b[0m\n\u001b[0;32m      8\u001b[0m \u001b[0mx3\u001b[0m \u001b[1;33m=\u001b[0m \u001b[0mhistory_3\u001b[0m\u001b[1;33m.\u001b[0m\u001b[0mhistory\u001b[0m\u001b[1;33m[\u001b[0m\u001b[1;34m'categorical_accuracy'\u001b[0m\u001b[1;33m]\u001b[0m\u001b[1;33m\u001b[0m\u001b[1;33m\u001b[0m\u001b[0m\n",
      "\u001b[1;31mNameError\u001b[0m: name 'history_2' is not defined"
     ]
    },
    {
     "data": {
      "image/png": "[encoded data removed]",
      "text/plain": [
       "<Figure size 1440x720 with 1 Axes>"
      ]
     },
     "metadata": {
      "needs_background": "light"
     },
     "output_type": "display_data"
    }
   ],
   "source": [
    "plt.figure(figsize=(20, 10))\n",
    "x5 = history_5.history['categorical_accuracy']\n",
    "plt.plot(x5,color=\"magenta\",linewidth=3,label=\"Pose-OGRU\")\n",
    "x1 = history_1.history['categorical_accuracy']\n",
    "plt.plot(x1,color=\"g\",linewidth=3,label=\"Standard GRU\")\n",
    "x2 = history_2.history['categorical_accuracy']\n",
    "plt.plot(x2,color=\"r\",linewidth=3,label=\"LSTM\")\n",
    "x3 = history_3.history['categorical_accuracy']\n",
    "plt.plot(x3,linewidth=3,label=\"RNN\")\n",
    "plt.xlabel('Epoch',fontdict={'fontname':'Times New Roman', 'fontsize':25,'weight': 'bold'})\n",
    "plt.ylabel('Accuracy',fontdict={'fontname':'Times New Roman', 'fontsize':25,'weight': 'bold'})\n",
    "#plt.title('Training Accuracy',fontdict={'fontname':'Times New Roman', 'fontsize':25,'weight': 'bold'})\n",
    "plt.legend(loc=\"best\",shadow=True,prop={'size': 20})\n",
    "plt.grid(True)\n",
    "plt.show()"
   ]
  },
  {
   "cell_type": "code",
   "execution_count": null,
   "metadata": {},
   "outputs": [],
   "source": [
    "plt.figure(figsize=(20, 10))\n",
    "x5 = history_5.history['loss']\n",
    "plt.plot(x5,color=\"magenta\",linewidth=3,label=\"Pose-OGRU\")\n",
    "x1 = history_1.history['loss']\n",
    "plt.plot(x1,color=\"g\",linewidth=3,label=\"Standard GRU\")\n",
    "x2 = history_6.history['loss']\n",
    "plt.plot(x2,color=\"r\",linewidth=3,label=\"LSTM\")\n",
    "x3 = history_3.history['loss']\n",
    "plt.plot(x3,linewidth=3,label=\"RNN\")\n",
    "plt.xlabel('Epoch',fontdict={'fontname':'Times New Roman', 'fontsize':25,'weight': 'bold'})\n",
    "plt.ylabel('Loss',fontdict={'fontname':'Times New Roman', 'fontsize':25,'weight': 'bold'})\n",
    "#plt.title('Training Loss',fontdict={'fontname':'Times New Roman', 'fontsize':25,'weight': 'bold'})\n",
    "plt.legend(loc=\"best\",shadow=True,prop={'size': 20})\n",
    "plt.grid(True)\n",
    "plt.show()"
   ]
  },
  {
   "cell_type": "code",
   "execution_count": null,
   "metadata": {},
   "outputs": [],
   "source": [
    "plt.figure(figsize=(20, 10))\n",
    "x5 = history_5.history['val_categorical_accuracy']\n",
    "plt.plot(x5,color=\"magenta\",linewidth=3,label=\"Pose-OGRU\")\n",
    "x1 = history_1.history['val_categorical_accuracy']\n",
    "plt.plot(x1,color=\"g\",linewidth=3,label=\"Standard GRU\")\n",
    "x2 = history_6.history['val_categorical_accuracy']\n",
    "plt.plot(x2,color=\"r\",linewidth=3,label=\"LSTM\")\n",
    "x3 = history_3.history['val_categorical_accuracy']\n",
    "plt.plot(x3,linewidth=3,label=\"RNN\")\n",
    "plt.xlabel('Epoch',fontdict={'fontname':'Times New Roman', 'fontsize':25,'weight': 'bold'})\n",
    "plt.ylabel('Accuracy',fontdict={'fontname':'Times New Roman', 'fontsize':25,'weight': 'bold'})\n",
    "#plt.title('Validation Accuracy',fontdict={'fontname':'Times New Roman', 'fontsize':25,'weight': 'bold'})\n",
    "plt.legend(loc=\"best\",shadow=True,prop={'size': 20})\n",
    "plt.grid(True)\n",
    "plt.show()"
   ]
  },
  {
   "cell_type": "code",
   "execution_count": null,
   "metadata": {},
   "outputs": [],
   "source": [
    "plt.figure(figsize=(20, 10))\n",
    "x5 = history_5.history['val_loss']\n",
    "plt.plot(x5,color=\"magenta\",linewidth=3,label=\"Pose-OGRU\")\n",
    "x1 = history_1.history['val_loss']\n",
    "plt.plot(x1,color=\"g\",linewidth=3,label=\"Standard GRU\")\n",
    "x2 = history_6.history['val_loss']\n",
    "plt.plot(x2,color=\"r\",linewidth=3,label=\"LSTM\")\n",
    "x3 = history_3.history['val_loss']\n",
    "plt.plot(x3,linewidth=3,label=\"RNN\")\n",
    "plt.xlabel('Epoch',fontdict={'fontname':'Times New Roman', 'fontsize':25,'weight': 'bold'})\n",
    "plt.ylabel('Loss',fontdict={'fontname':'Times New Roman', 'fontsize':25,'weight': 'bold'})\n",
    "#plt.title('Validation Loss',fontdict={'fontname':'Times New Roman', 'fontsize':25,'weight': 'bold'})\n",
    "plt.legend(loc=\"best\",shadow=True,prop={'size': 20})\n",
    "plt.grid(True)\n",
    "plt.show()"
   ]
  },
  {
   "cell_type": "code",
   "execution_count": null,
   "metadata": {},
   "outputs": [],
   "source": []
  },
  {
   "cell_type": "code",
   "execution_count": null,
   "metadata": {},
   "outputs": [],
   "source": []
  },
  {
   "cell_type": "code",
   "execution_count": null,
   "metadata": {},
   "outputs": [],
   "source": []
  }
 ],
 "metadata": {
  "colab": {
   "collapsed_sections": [
    "8--O9oJ2Nper",
    "mhnEgOINNper"
   ],
   "name": "Action Detection Refined (1).ipynb",
   "provenance": []
  },
  "kernelspec": {
   "display_name": "Python 3 (ipykernel)",
   "language": "python",
   "name": "python3"
  },
  "language_info": {
   "codemirror_mode": {
    "name": "ipython",
    "version": 3
   },
   "file_extension": ".py",
   "mimetype": "text/x-python",
   "name": "python",
   "nbconvert_exporter": "python",
   "pygments_lexer": "ipython3",
   "version": "3.8.8"
  }
 },
 "nbformat": 4,
 "nbformat_minor": 2
}
